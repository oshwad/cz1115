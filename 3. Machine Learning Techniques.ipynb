{
 "cells": [
  {
   "cell_type": "code",
   "execution_count": null,
   "metadata": {},
   "outputs": [],
   "source": [
    "!pip3 install imblearn\n",
    "!pip3 install xgboost"
   ]
  },
  {
   "cell_type": "markdown",
   "metadata": {},
   "source": [
    "Only need to run the above if you don't have those libraries"
   ]
  },
  {
   "cell_type": "code",
   "execution_count": 2,
   "metadata": {},
   "outputs": [],
   "source": [
    "import pandas as pd\n",
    "import numpy as np\n",
    "\n",
    "from sklearn.model_selection import train_test_split\n",
    "from imblearn.over_sampling import SMOTE\n",
    "\n",
    "from sklearn.linear_model import LogisticRegression\n",
    "from sklearn.ensemble import RandomForestClassifier\n",
    "import xgboost as xgb\n",
    "from sklearn.ensemble import AdaBoostClassifier\n",
    "\n",
    "import pickle\n",
    "\n",
    "from sklearn.metrics import confusion_matrix, accuracy_score\n",
    "import seaborn as sb\n",
    "import matplotlib.pyplot as plt\n",
    "sb.set()"
   ]
  },
  {
   "cell_type": "code",
   "execution_count": 3,
   "metadata": {},
   "outputs": [
    {
     "data": {
      "text/html": [
       "<div>\n",
       "<style scoped>\n",
       "    .dataframe tbody tr th:only-of-type {\n",
       "        vertical-align: middle;\n",
       "    }\n",
       "\n",
       "    .dataframe tbody tr th {\n",
       "        vertical-align: top;\n",
       "    }\n",
       "\n",
       "    .dataframe thead th {\n",
       "        text-align: right;\n",
       "    }\n",
       "</style>\n",
       "<table border=\"1\" class=\"dataframe\">\n",
       "  <thead>\n",
       "    <tr style=\"text-align: right;\">\n",
       "      <th></th>\n",
       "      <th>AppName</th>\n",
       "      <th>Category</th>\n",
       "      <th>Price</th>\n",
       "      <th>Size</th>\n",
       "      <th>ContentRating</th>\n",
       "      <th>AdSupported</th>\n",
       "      <th>InAppPurchases</th>\n",
       "      <th>EditorsChoice</th>\n",
       "      <th>AppAge</th>\n",
       "      <th>DaysSinceLastUpdate</th>\n",
       "      <th>GoodApp</th>\n",
       "    </tr>\n",
       "  </thead>\n",
       "  <tbody>\n",
       "    <tr>\n",
       "      <th>0</th>\n",
       "      <td>Dodge The Cars!</td>\n",
       "      <td>Racing</td>\n",
       "      <td>0.0</td>\n",
       "      <td>52224.0</td>\n",
       "      <td>Everyone</td>\n",
       "      <td>False</td>\n",
       "      <td>False</td>\n",
       "      <td>False</td>\n",
       "      <td>320</td>\n",
       "      <td>320</td>\n",
       "      <td>False</td>\n",
       "    </tr>\n",
       "    <tr>\n",
       "      <th>1</th>\n",
       "      <td>Block Fill: Puzzle Game</td>\n",
       "      <td>Puzzle</td>\n",
       "      <td>0.0</td>\n",
       "      <td>16384.0</td>\n",
       "      <td>Everyone</td>\n",
       "      <td>True</td>\n",
       "      <td>True</td>\n",
       "      <td>False</td>\n",
       "      <td>459</td>\n",
       "      <td>400</td>\n",
       "      <td>False</td>\n",
       "    </tr>\n",
       "    <tr>\n",
       "      <th>2</th>\n",
       "      <td>Sticky Ball</td>\n",
       "      <td>Arcade</td>\n",
       "      <td>0.0</td>\n",
       "      <td>25600.0</td>\n",
       "      <td>Everyone</td>\n",
       "      <td>True</td>\n",
       "      <td>True</td>\n",
       "      <td>False</td>\n",
       "      <td>1198</td>\n",
       "      <td>1177</td>\n",
       "      <td>False</td>\n",
       "    </tr>\n",
       "    <tr>\n",
       "      <th>3</th>\n",
       "      <td>Extrude Balance</td>\n",
       "      <td>Arcade</td>\n",
       "      <td>0.0</td>\n",
       "      <td>26624.0</td>\n",
       "      <td>Everyone</td>\n",
       "      <td>True</td>\n",
       "      <td>True</td>\n",
       "      <td>False</td>\n",
       "      <td>708</td>\n",
       "      <td>45</td>\n",
       "      <td>False</td>\n",
       "    </tr>\n",
       "    <tr>\n",
       "      <th>4</th>\n",
       "      <td>Bowling Paradise Pro FREE</td>\n",
       "      <td>Sports</td>\n",
       "      <td>0.0</td>\n",
       "      <td>38912.0</td>\n",
       "      <td>Everyone</td>\n",
       "      <td>True</td>\n",
       "      <td>True</td>\n",
       "      <td>False</td>\n",
       "      <td>2971</td>\n",
       "      <td>2278</td>\n",
       "      <td>False</td>\n",
       "    </tr>\n",
       "    <tr>\n",
       "      <th>...</th>\n",
       "      <td>...</td>\n",
       "      <td>...</td>\n",
       "      <td>...</td>\n",
       "      <td>...</td>\n",
       "      <td>...</td>\n",
       "      <td>...</td>\n",
       "      <td>...</td>\n",
       "      <td>...</td>\n",
       "      <td>...</td>\n",
       "      <td>...</td>\n",
       "      <td>...</td>\n",
       "    </tr>\n",
       "    <tr>\n",
       "      <th>214476</th>\n",
       "      <td>Contactix</td>\n",
       "      <td>Strategy</td>\n",
       "      <td>0.0</td>\n",
       "      <td>1638.4</td>\n",
       "      <td>Everyone</td>\n",
       "      <td>False</td>\n",
       "      <td>False</td>\n",
       "      <td>False</td>\n",
       "      <td>2763</td>\n",
       "      <td>1475</td>\n",
       "      <td>False</td>\n",
       "    </tr>\n",
       "    <tr>\n",
       "      <th>214477</th>\n",
       "      <td>La Molina</td>\n",
       "      <td>Sports</td>\n",
       "      <td>0.0</td>\n",
       "      <td>45056.0</td>\n",
       "      <td>Everyone</td>\n",
       "      <td>False</td>\n",
       "      <td>False</td>\n",
       "      <td>False</td>\n",
       "      <td>1415</td>\n",
       "      <td>85</td>\n",
       "      <td>False</td>\n",
       "    </tr>\n",
       "    <tr>\n",
       "      <th>214478</th>\n",
       "      <td>Shield Runner</td>\n",
       "      <td>Arcade</td>\n",
       "      <td>0.0</td>\n",
       "      <td>22528.0</td>\n",
       "      <td>Everyone</td>\n",
       "      <td>True</td>\n",
       "      <td>False</td>\n",
       "      <td>False</td>\n",
       "      <td>1903</td>\n",
       "      <td>1895</td>\n",
       "      <td>False</td>\n",
       "    </tr>\n",
       "    <tr>\n",
       "      <th>214479</th>\n",
       "      <td>Hopeless 2: Cave Escape</td>\n",
       "      <td>Action</td>\n",
       "      <td>0.0</td>\n",
       "      <td>37888.0</td>\n",
       "      <td>Teen</td>\n",
       "      <td>True</td>\n",
       "      <td>True</td>\n",
       "      <td>False</td>\n",
       "      <td>2057</td>\n",
       "      <td>1563</td>\n",
       "      <td>True</td>\n",
       "    </tr>\n",
       "    <tr>\n",
       "      <th>214480</th>\n",
       "      <td>Biliyor Musun - Sonsuz Yarış</td>\n",
       "      <td>Trivia</td>\n",
       "      <td>0.0</td>\n",
       "      <td>5324.8</td>\n",
       "      <td>Everyone</td>\n",
       "      <td>True</td>\n",
       "      <td>False</td>\n",
       "      <td>False</td>\n",
       "      <td>677</td>\n",
       "      <td>667</td>\n",
       "      <td>False</td>\n",
       "    </tr>\n",
       "  </tbody>\n",
       "</table>\n",
       "<p>214481 rows × 11 columns</p>\n",
       "</div>"
      ],
      "text/plain": [
       "                             AppName  Category  Price     Size ContentRating  \\\n",
       "0                    Dodge The Cars!    Racing    0.0  52224.0      Everyone   \n",
       "1            Block Fill: Puzzle Game    Puzzle    0.0  16384.0      Everyone   \n",
       "2                        Sticky Ball    Arcade    0.0  25600.0      Everyone   \n",
       "3                    Extrude Balance    Arcade    0.0  26624.0      Everyone   \n",
       "4          Bowling Paradise Pro FREE    Sports    0.0  38912.0      Everyone   \n",
       "...                              ...       ...    ...      ...           ...   \n",
       "214476                     Contactix  Strategy    0.0   1638.4      Everyone   \n",
       "214477                     La Molina    Sports    0.0  45056.0      Everyone   \n",
       "214478                 Shield Runner    Arcade    0.0  22528.0      Everyone   \n",
       "214479       Hopeless 2: Cave Escape    Action    0.0  37888.0          Teen   \n",
       "214480  Biliyor Musun - Sonsuz Yarış    Trivia    0.0   5324.8      Everyone   \n",
       "\n",
       "        AdSupported  InAppPurchases  EditorsChoice  AppAge  \\\n",
       "0             False           False          False     320   \n",
       "1              True            True          False     459   \n",
       "2              True            True          False    1198   \n",
       "3              True            True          False     708   \n",
       "4              True            True          False    2971   \n",
       "...             ...             ...            ...     ...   \n",
       "214476        False           False          False    2763   \n",
       "214477        False           False          False    1415   \n",
       "214478         True           False          False    1903   \n",
       "214479         True            True          False    2057   \n",
       "214480         True           False          False     677   \n",
       "\n",
       "        DaysSinceLastUpdate  GoodApp  \n",
       "0                       320    False  \n",
       "1                       400    False  \n",
       "2                      1177    False  \n",
       "3                        45    False  \n",
       "4                      2278    False  \n",
       "...                     ...      ...  \n",
       "214476                 1475    False  \n",
       "214477                   85    False  \n",
       "214478                 1895    False  \n",
       "214479                 1563     True  \n",
       "214480                  667    False  \n",
       "\n",
       "[214481 rows x 11 columns]"
      ]
     },
     "execution_count": 3,
     "metadata": {},
     "output_type": "execute_result"
    }
   ],
   "source": [
    "df = pd.read_csv('df_clean.csv')\n",
    "df"
   ]
  },
  {
   "cell_type": "code",
   "execution_count": 4,
   "metadata": {},
   "outputs": [],
   "source": [
    "df.drop(['AppName'], axis = 1, inplace = True)"
   ]
  },
  {
   "cell_type": "code",
   "execution_count": 5,
   "metadata": {},
   "outputs": [
    {
     "data": {
      "text/plain": [
       "Category                object\n",
       "Price                  float64\n",
       "Size                   float64\n",
       "ContentRating           object\n",
       "AdSupported               bool\n",
       "InAppPurchases            bool\n",
       "EditorsChoice             bool\n",
       "AppAge                   int64\n",
       "DaysSinceLastUpdate      int64\n",
       "GoodApp                   bool\n",
       "dtype: object"
      ]
     },
     "execution_count": 5,
     "metadata": {},
     "output_type": "execute_result"
    }
   ],
   "source": [
    "df.dtypes"
   ]
  },
  {
   "cell_type": "markdown",
   "metadata": {},
   "source": [
    "# Encode categorical variables to dummy variables"
   ]
  },
  {
   "cell_type": "code",
   "execution_count": 6,
   "metadata": {},
   "outputs": [
    {
     "data": {
      "text/html": [
       "<div>\n",
       "<style scoped>\n",
       "    .dataframe tbody tr th:only-of-type {\n",
       "        vertical-align: middle;\n",
       "    }\n",
       "\n",
       "    .dataframe tbody tr th {\n",
       "        vertical-align: top;\n",
       "    }\n",
       "\n",
       "    .dataframe thead th {\n",
       "        text-align: right;\n",
       "    }\n",
       "</style>\n",
       "<table border=\"1\" class=\"dataframe\">\n",
       "  <thead>\n",
       "    <tr style=\"text-align: right;\">\n",
       "      <th></th>\n",
       "      <th>Price</th>\n",
       "      <th>Size</th>\n",
       "      <th>AdSupported</th>\n",
       "      <th>InAppPurchases</th>\n",
       "      <th>EditorsChoice</th>\n",
       "      <th>AppAge</th>\n",
       "      <th>DaysSinceLastUpdate</th>\n",
       "      <th>GoodApp</th>\n",
       "      <th>Category_Action</th>\n",
       "      <th>Category_Adventure</th>\n",
       "      <th>Category_Arcade</th>\n",
       "      <th>Category_Board</th>\n",
       "      <th>Category_Card</th>\n",
       "      <th>Category_Casino</th>\n",
       "      <th>Category_Casual</th>\n",
       "      <th>Category_Educational</th>\n",
       "      <th>Category_Music</th>\n",
       "      <th>Category_Puzzle</th>\n",
       "      <th>Category_Racing</th>\n",
       "      <th>Category_Role Playing</th>\n",
       "      <th>Category_Simulation</th>\n",
       "      <th>Category_Sports</th>\n",
       "      <th>Category_Strategy</th>\n",
       "      <th>Category_Trivia</th>\n",
       "      <th>Category_Word</th>\n",
       "      <th>ContentRating_Adults only 18+</th>\n",
       "      <th>ContentRating_Everyone</th>\n",
       "      <th>ContentRating_Everyone 10+</th>\n",
       "      <th>ContentRating_Mature 17+</th>\n",
       "      <th>ContentRating_Teen</th>\n",
       "    </tr>\n",
       "  </thead>\n",
       "  <tbody>\n",
       "    <tr>\n",
       "      <th>0</th>\n",
       "      <td>0.0</td>\n",
       "      <td>52224.0</td>\n",
       "      <td>False</td>\n",
       "      <td>False</td>\n",
       "      <td>False</td>\n",
       "      <td>320</td>\n",
       "      <td>320</td>\n",
       "      <td>False</td>\n",
       "      <td>0</td>\n",
       "      <td>0</td>\n",
       "      <td>0</td>\n",
       "      <td>0</td>\n",
       "      <td>0</td>\n",
       "      <td>0</td>\n",
       "      <td>0</td>\n",
       "      <td>0</td>\n",
       "      <td>0</td>\n",
       "      <td>0</td>\n",
       "      <td>1</td>\n",
       "      <td>0</td>\n",
       "      <td>0</td>\n",
       "      <td>0</td>\n",
       "      <td>0</td>\n",
       "      <td>0</td>\n",
       "      <td>0</td>\n",
       "      <td>0</td>\n",
       "      <td>1</td>\n",
       "      <td>0</td>\n",
       "      <td>0</td>\n",
       "      <td>0</td>\n",
       "    </tr>\n",
       "    <tr>\n",
       "      <th>1</th>\n",
       "      <td>0.0</td>\n",
       "      <td>16384.0</td>\n",
       "      <td>True</td>\n",
       "      <td>True</td>\n",
       "      <td>False</td>\n",
       "      <td>459</td>\n",
       "      <td>400</td>\n",
       "      <td>False</td>\n",
       "      <td>0</td>\n",
       "      <td>0</td>\n",
       "      <td>0</td>\n",
       "      <td>0</td>\n",
       "      <td>0</td>\n",
       "      <td>0</td>\n",
       "      <td>0</td>\n",
       "      <td>0</td>\n",
       "      <td>0</td>\n",
       "      <td>1</td>\n",
       "      <td>0</td>\n",
       "      <td>0</td>\n",
       "      <td>0</td>\n",
       "      <td>0</td>\n",
       "      <td>0</td>\n",
       "      <td>0</td>\n",
       "      <td>0</td>\n",
       "      <td>0</td>\n",
       "      <td>1</td>\n",
       "      <td>0</td>\n",
       "      <td>0</td>\n",
       "      <td>0</td>\n",
       "    </tr>\n",
       "    <tr>\n",
       "      <th>2</th>\n",
       "      <td>0.0</td>\n",
       "      <td>25600.0</td>\n",
       "      <td>True</td>\n",
       "      <td>True</td>\n",
       "      <td>False</td>\n",
       "      <td>1198</td>\n",
       "      <td>1177</td>\n",
       "      <td>False</td>\n",
       "      <td>0</td>\n",
       "      <td>0</td>\n",
       "      <td>1</td>\n",
       "      <td>0</td>\n",
       "      <td>0</td>\n",
       "      <td>0</td>\n",
       "      <td>0</td>\n",
       "      <td>0</td>\n",
       "      <td>0</td>\n",
       "      <td>0</td>\n",
       "      <td>0</td>\n",
       "      <td>0</td>\n",
       "      <td>0</td>\n",
       "      <td>0</td>\n",
       "      <td>0</td>\n",
       "      <td>0</td>\n",
       "      <td>0</td>\n",
       "      <td>0</td>\n",
       "      <td>1</td>\n",
       "      <td>0</td>\n",
       "      <td>0</td>\n",
       "      <td>0</td>\n",
       "    </tr>\n",
       "    <tr>\n",
       "      <th>3</th>\n",
       "      <td>0.0</td>\n",
       "      <td>26624.0</td>\n",
       "      <td>True</td>\n",
       "      <td>True</td>\n",
       "      <td>False</td>\n",
       "      <td>708</td>\n",
       "      <td>45</td>\n",
       "      <td>False</td>\n",
       "      <td>0</td>\n",
       "      <td>0</td>\n",
       "      <td>1</td>\n",
       "      <td>0</td>\n",
       "      <td>0</td>\n",
       "      <td>0</td>\n",
       "      <td>0</td>\n",
       "      <td>0</td>\n",
       "      <td>0</td>\n",
       "      <td>0</td>\n",
       "      <td>0</td>\n",
       "      <td>0</td>\n",
       "      <td>0</td>\n",
       "      <td>0</td>\n",
       "      <td>0</td>\n",
       "      <td>0</td>\n",
       "      <td>0</td>\n",
       "      <td>0</td>\n",
       "      <td>1</td>\n",
       "      <td>0</td>\n",
       "      <td>0</td>\n",
       "      <td>0</td>\n",
       "    </tr>\n",
       "    <tr>\n",
       "      <th>4</th>\n",
       "      <td>0.0</td>\n",
       "      <td>38912.0</td>\n",
       "      <td>True</td>\n",
       "      <td>True</td>\n",
       "      <td>False</td>\n",
       "      <td>2971</td>\n",
       "      <td>2278</td>\n",
       "      <td>False</td>\n",
       "      <td>0</td>\n",
       "      <td>0</td>\n",
       "      <td>0</td>\n",
       "      <td>0</td>\n",
       "      <td>0</td>\n",
       "      <td>0</td>\n",
       "      <td>0</td>\n",
       "      <td>0</td>\n",
       "      <td>0</td>\n",
       "      <td>0</td>\n",
       "      <td>0</td>\n",
       "      <td>0</td>\n",
       "      <td>0</td>\n",
       "      <td>1</td>\n",
       "      <td>0</td>\n",
       "      <td>0</td>\n",
       "      <td>0</td>\n",
       "      <td>0</td>\n",
       "      <td>1</td>\n",
       "      <td>0</td>\n",
       "      <td>0</td>\n",
       "      <td>0</td>\n",
       "    </tr>\n",
       "    <tr>\n",
       "      <th>...</th>\n",
       "      <td>...</td>\n",
       "      <td>...</td>\n",
       "      <td>...</td>\n",
       "      <td>...</td>\n",
       "      <td>...</td>\n",
       "      <td>...</td>\n",
       "      <td>...</td>\n",
       "      <td>...</td>\n",
       "      <td>...</td>\n",
       "      <td>...</td>\n",
       "      <td>...</td>\n",
       "      <td>...</td>\n",
       "      <td>...</td>\n",
       "      <td>...</td>\n",
       "      <td>...</td>\n",
       "      <td>...</td>\n",
       "      <td>...</td>\n",
       "      <td>...</td>\n",
       "      <td>...</td>\n",
       "      <td>...</td>\n",
       "      <td>...</td>\n",
       "      <td>...</td>\n",
       "      <td>...</td>\n",
       "      <td>...</td>\n",
       "      <td>...</td>\n",
       "      <td>...</td>\n",
       "      <td>...</td>\n",
       "      <td>...</td>\n",
       "      <td>...</td>\n",
       "      <td>...</td>\n",
       "    </tr>\n",
       "    <tr>\n",
       "      <th>214476</th>\n",
       "      <td>0.0</td>\n",
       "      <td>1638.4</td>\n",
       "      <td>False</td>\n",
       "      <td>False</td>\n",
       "      <td>False</td>\n",
       "      <td>2763</td>\n",
       "      <td>1475</td>\n",
       "      <td>False</td>\n",
       "      <td>0</td>\n",
       "      <td>0</td>\n",
       "      <td>0</td>\n",
       "      <td>0</td>\n",
       "      <td>0</td>\n",
       "      <td>0</td>\n",
       "      <td>0</td>\n",
       "      <td>0</td>\n",
       "      <td>0</td>\n",
       "      <td>0</td>\n",
       "      <td>0</td>\n",
       "      <td>0</td>\n",
       "      <td>0</td>\n",
       "      <td>0</td>\n",
       "      <td>1</td>\n",
       "      <td>0</td>\n",
       "      <td>0</td>\n",
       "      <td>0</td>\n",
       "      <td>1</td>\n",
       "      <td>0</td>\n",
       "      <td>0</td>\n",
       "      <td>0</td>\n",
       "    </tr>\n",
       "    <tr>\n",
       "      <th>214477</th>\n",
       "      <td>0.0</td>\n",
       "      <td>45056.0</td>\n",
       "      <td>False</td>\n",
       "      <td>False</td>\n",
       "      <td>False</td>\n",
       "      <td>1415</td>\n",
       "      <td>85</td>\n",
       "      <td>False</td>\n",
       "      <td>0</td>\n",
       "      <td>0</td>\n",
       "      <td>0</td>\n",
       "      <td>0</td>\n",
       "      <td>0</td>\n",
       "      <td>0</td>\n",
       "      <td>0</td>\n",
       "      <td>0</td>\n",
       "      <td>0</td>\n",
       "      <td>0</td>\n",
       "      <td>0</td>\n",
       "      <td>0</td>\n",
       "      <td>0</td>\n",
       "      <td>1</td>\n",
       "      <td>0</td>\n",
       "      <td>0</td>\n",
       "      <td>0</td>\n",
       "      <td>0</td>\n",
       "      <td>1</td>\n",
       "      <td>0</td>\n",
       "      <td>0</td>\n",
       "      <td>0</td>\n",
       "    </tr>\n",
       "    <tr>\n",
       "      <th>214478</th>\n",
       "      <td>0.0</td>\n",
       "      <td>22528.0</td>\n",
       "      <td>True</td>\n",
       "      <td>False</td>\n",
       "      <td>False</td>\n",
       "      <td>1903</td>\n",
       "      <td>1895</td>\n",
       "      <td>False</td>\n",
       "      <td>0</td>\n",
       "      <td>0</td>\n",
       "      <td>1</td>\n",
       "      <td>0</td>\n",
       "      <td>0</td>\n",
       "      <td>0</td>\n",
       "      <td>0</td>\n",
       "      <td>0</td>\n",
       "      <td>0</td>\n",
       "      <td>0</td>\n",
       "      <td>0</td>\n",
       "      <td>0</td>\n",
       "      <td>0</td>\n",
       "      <td>0</td>\n",
       "      <td>0</td>\n",
       "      <td>0</td>\n",
       "      <td>0</td>\n",
       "      <td>0</td>\n",
       "      <td>1</td>\n",
       "      <td>0</td>\n",
       "      <td>0</td>\n",
       "      <td>0</td>\n",
       "    </tr>\n",
       "    <tr>\n",
       "      <th>214479</th>\n",
       "      <td>0.0</td>\n",
       "      <td>37888.0</td>\n",
       "      <td>True</td>\n",
       "      <td>True</td>\n",
       "      <td>False</td>\n",
       "      <td>2057</td>\n",
       "      <td>1563</td>\n",
       "      <td>True</td>\n",
       "      <td>1</td>\n",
       "      <td>0</td>\n",
       "      <td>0</td>\n",
       "      <td>0</td>\n",
       "      <td>0</td>\n",
       "      <td>0</td>\n",
       "      <td>0</td>\n",
       "      <td>0</td>\n",
       "      <td>0</td>\n",
       "      <td>0</td>\n",
       "      <td>0</td>\n",
       "      <td>0</td>\n",
       "      <td>0</td>\n",
       "      <td>0</td>\n",
       "      <td>0</td>\n",
       "      <td>0</td>\n",
       "      <td>0</td>\n",
       "      <td>0</td>\n",
       "      <td>0</td>\n",
       "      <td>0</td>\n",
       "      <td>0</td>\n",
       "      <td>1</td>\n",
       "    </tr>\n",
       "    <tr>\n",
       "      <th>214480</th>\n",
       "      <td>0.0</td>\n",
       "      <td>5324.8</td>\n",
       "      <td>True</td>\n",
       "      <td>False</td>\n",
       "      <td>False</td>\n",
       "      <td>677</td>\n",
       "      <td>667</td>\n",
       "      <td>False</td>\n",
       "      <td>0</td>\n",
       "      <td>0</td>\n",
       "      <td>0</td>\n",
       "      <td>0</td>\n",
       "      <td>0</td>\n",
       "      <td>0</td>\n",
       "      <td>0</td>\n",
       "      <td>0</td>\n",
       "      <td>0</td>\n",
       "      <td>0</td>\n",
       "      <td>0</td>\n",
       "      <td>0</td>\n",
       "      <td>0</td>\n",
       "      <td>0</td>\n",
       "      <td>0</td>\n",
       "      <td>1</td>\n",
       "      <td>0</td>\n",
       "      <td>0</td>\n",
       "      <td>1</td>\n",
       "      <td>0</td>\n",
       "      <td>0</td>\n",
       "      <td>0</td>\n",
       "    </tr>\n",
       "  </tbody>\n",
       "</table>\n",
       "<p>214481 rows × 30 columns</p>\n",
       "</div>"
      ],
      "text/plain": [
       "        Price     Size  AdSupported  InAppPurchases  EditorsChoice  AppAge  \\\n",
       "0         0.0  52224.0        False           False          False     320   \n",
       "1         0.0  16384.0         True            True          False     459   \n",
       "2         0.0  25600.0         True            True          False    1198   \n",
       "3         0.0  26624.0         True            True          False     708   \n",
       "4         0.0  38912.0         True            True          False    2971   \n",
       "...       ...      ...          ...             ...            ...     ...   \n",
       "214476    0.0   1638.4        False           False          False    2763   \n",
       "214477    0.0  45056.0        False           False          False    1415   \n",
       "214478    0.0  22528.0         True           False          False    1903   \n",
       "214479    0.0  37888.0         True            True          False    2057   \n",
       "214480    0.0   5324.8         True           False          False     677   \n",
       "\n",
       "        DaysSinceLastUpdate  GoodApp  Category_Action  Category_Adventure  \\\n",
       "0                       320    False                0                   0   \n",
       "1                       400    False                0                   0   \n",
       "2                      1177    False                0                   0   \n",
       "3                        45    False                0                   0   \n",
       "4                      2278    False                0                   0   \n",
       "...                     ...      ...              ...                 ...   \n",
       "214476                 1475    False                0                   0   \n",
       "214477                   85    False                0                   0   \n",
       "214478                 1895    False                0                   0   \n",
       "214479                 1563     True                1                   0   \n",
       "214480                  667    False                0                   0   \n",
       "\n",
       "        Category_Arcade  Category_Board  Category_Card  Category_Casino  \\\n",
       "0                     0               0              0                0   \n",
       "1                     0               0              0                0   \n",
       "2                     1               0              0                0   \n",
       "3                     1               0              0                0   \n",
       "4                     0               0              0                0   \n",
       "...                 ...             ...            ...              ...   \n",
       "214476                0               0              0                0   \n",
       "214477                0               0              0                0   \n",
       "214478                1               0              0                0   \n",
       "214479                0               0              0                0   \n",
       "214480                0               0              0                0   \n",
       "\n",
       "        Category_Casual  Category_Educational  Category_Music  \\\n",
       "0                     0                     0               0   \n",
       "1                     0                     0               0   \n",
       "2                     0                     0               0   \n",
       "3                     0                     0               0   \n",
       "4                     0                     0               0   \n",
       "...                 ...                   ...             ...   \n",
       "214476                0                     0               0   \n",
       "214477                0                     0               0   \n",
       "214478                0                     0               0   \n",
       "214479                0                     0               0   \n",
       "214480                0                     0               0   \n",
       "\n",
       "        Category_Puzzle  Category_Racing  Category_Role Playing  \\\n",
       "0                     0                1                      0   \n",
       "1                     1                0                      0   \n",
       "2                     0                0                      0   \n",
       "3                     0                0                      0   \n",
       "4                     0                0                      0   \n",
       "...                 ...              ...                    ...   \n",
       "214476                0                0                      0   \n",
       "214477                0                0                      0   \n",
       "214478                0                0                      0   \n",
       "214479                0                0                      0   \n",
       "214480                0                0                      0   \n",
       "\n",
       "        Category_Simulation  Category_Sports  Category_Strategy  \\\n",
       "0                         0                0                  0   \n",
       "1                         0                0                  0   \n",
       "2                         0                0                  0   \n",
       "3                         0                0                  0   \n",
       "4                         0                1                  0   \n",
       "...                     ...              ...                ...   \n",
       "214476                    0                0                  1   \n",
       "214477                    0                1                  0   \n",
       "214478                    0                0                  0   \n",
       "214479                    0                0                  0   \n",
       "214480                    0                0                  0   \n",
       "\n",
       "        Category_Trivia  Category_Word  ContentRating_Adults only 18+  \\\n",
       "0                     0              0                              0   \n",
       "1                     0              0                              0   \n",
       "2                     0              0                              0   \n",
       "3                     0              0                              0   \n",
       "4                     0              0                              0   \n",
       "...                 ...            ...                            ...   \n",
       "214476                0              0                              0   \n",
       "214477                0              0                              0   \n",
       "214478                0              0                              0   \n",
       "214479                0              0                              0   \n",
       "214480                1              0                              0   \n",
       "\n",
       "        ContentRating_Everyone  ContentRating_Everyone 10+  \\\n",
       "0                            1                           0   \n",
       "1                            1                           0   \n",
       "2                            1                           0   \n",
       "3                            1                           0   \n",
       "4                            1                           0   \n",
       "...                        ...                         ...   \n",
       "214476                       1                           0   \n",
       "214477                       1                           0   \n",
       "214478                       1                           0   \n",
       "214479                       0                           0   \n",
       "214480                       1                           0   \n",
       "\n",
       "        ContentRating_Mature 17+  ContentRating_Teen  \n",
       "0                              0                   0  \n",
       "1                              0                   0  \n",
       "2                              0                   0  \n",
       "3                              0                   0  \n",
       "4                              0                   0  \n",
       "...                          ...                 ...  \n",
       "214476                         0                   0  \n",
       "214477                         0                   0  \n",
       "214478                         0                   0  \n",
       "214479                         0                   1  \n",
       "214480                         0                   0  \n",
       "\n",
       "[214481 rows x 30 columns]"
      ]
     },
     "execution_count": 6,
     "metadata": {},
     "output_type": "execute_result"
    }
   ],
   "source": [
    "df = pd.get_dummies(df)\n",
    "pd.set_option('display.max_columns', None)\n",
    "df"
   ]
  },
  {
   "cell_type": "markdown",
   "metadata": {},
   "source": [
    "# Create predictor and response dataframe"
   ]
  },
  {
   "cell_type": "code",
   "execution_count": 7,
   "metadata": {},
   "outputs": [],
   "source": [
    "x = df.drop(['GoodApp'], axis = 1)\n",
    "y = df[['GoodApp']]"
   ]
  },
  {
   "cell_type": "markdown",
   "metadata": {},
   "source": [
    "# Do a 70:30 train-test split, with seed set as 0"
   ]
  },
  {
   "cell_type": "code",
   "execution_count": 8,
   "metadata": {},
   "outputs": [],
   "source": [
    "x_train, x_test, y_train, y_test = train_test_split(x, y, test_size = 0.3, random_state = 0)"
   ]
  },
  {
   "cell_type": "code",
   "execution_count": 9,
   "metadata": {
    "scrolled": true
   },
   "outputs": [
    {
     "name": "stdout",
     "output_type": "stream",
     "text": [
      "Number of data in train set: 150136\n",
      "Number of data in test set: 64345\n"
     ]
    }
   ],
   "source": [
    "print('Number of data in train set:', x_train.shape[0])\n",
    "print('Number of data in test set:', x_test.shape[0])"
   ]
  },
  {
   "cell_type": "markdown",
   "metadata": {},
   "source": [
    "# Correct Class Imbalance in the Train Set"
   ]
  },
  {
   "cell_type": "code",
   "execution_count": 10,
   "metadata": {},
   "outputs": [
    {
     "data": {
      "text/plain": [
       "GoodApp\n",
       "False      138965\n",
       "True        11171\n",
       "dtype: int64"
      ]
     },
     "execution_count": 10,
     "metadata": {},
     "output_type": "execute_result"
    }
   ],
   "source": [
    "y_train.value_counts()"
   ]
  },
  {
   "cell_type": "markdown",
   "metadata": {},
   "source": [
    "Very imbalanced classes, with about 13:1 ratio. This is not suprising as the number of good apps is expected to be less than the number of not good apps. We will correct the class imbalance using the SMOTE method."
   ]
  },
  {
   "cell_type": "code",
   "execution_count": 11,
   "metadata": {},
   "outputs": [],
   "source": [
    "oversample = SMOTE()\n",
    "x_train, y_train = oversample.fit_resample(x_train, y_train)"
   ]
  },
  {
   "cell_type": "code",
   "execution_count": 12,
   "metadata": {},
   "outputs": [
    {
     "name": "stdout",
     "output_type": "stream",
     "text": [
      "Number of data in train set: 277930\n"
     ]
    }
   ],
   "source": [
    "print('Number of data in train set:', x_train.shape[0])"
   ]
  },
  {
   "cell_type": "code",
   "execution_count": 13,
   "metadata": {},
   "outputs": [
    {
     "data": {
      "text/plain": [
       "GoodApp\n",
       "True       138965\n",
       "False      138965\n",
       "dtype: int64"
      ]
     },
     "execution_count": 13,
     "metadata": {},
     "output_type": "execute_result"
    }
   ],
   "source": [
    "y_train.value_counts()"
   ]
  },
  {
   "cell_type": "markdown",
   "metadata": {},
   "source": [
    "We can see that the number of data in the trainset has increased from 150,136 to 277,930 with SMOTE. The class imbalance issue in the trainset is also fixed as the ratio of true is to false is now 1:1."
   ]
  },
  {
   "cell_type": "markdown",
   "metadata": {},
   "source": [
    "# Function for Prediction and Producing the Confusion Matrix + its Metrics"
   ]
  },
  {
   "cell_type": "code",
   "execution_count": 14,
   "metadata": {},
   "outputs": [],
   "source": [
    "def prediction_metrics(x, model, y_test):\n",
    "    y_pred = model.predict(x)\n",
    "    cm = confusion_matrix(y_test, y_pred)\n",
    "    s = sb.heatmap(cm, annot = True, fmt=\".0f\", annot_kws={\"size\": 18})\n",
    "    s.set(xlabel='Predicted', ylabel='Actual')\n",
    "    \n",
    "    tp = cm[1][1]\n",
    "    fp = cm[0][1]\n",
    "    tn = cm[0][0]\n",
    "    fn = cm[1][0]\n",
    "    \n",
    "    acc = ((tp+tn)/(tp+fp+tn+fn))*100\n",
    "    tpr = (tp/(tp + fn))*100\n",
    "    tnr = (tn/(tn + fp))*100\n",
    "    fpr = (fp/(tn + fp))*100\n",
    "    fnr = (fn/(tp + fn))*100\n",
    "\n",
    "    print(\"Overall Accuracy Rate: %.2f\" %acc)\n",
    "    print(\"TPR: %.2f\" %tpr)\n",
    "    print(\"TNR: %.2f\" %tnr)\n",
    "    print(\"FPR: %.2f\" %fpr)\n",
    "    print(\"FNR: %.2f\" %fnr)"
   ]
  },
  {
   "cell_type": "markdown",
   "metadata": {},
   "source": [
    "Confusion Matrix Interpretation:  \n",
    "\n",
    "| Confusion Matrix  |       |        |        |      \n",
    "| :---              | :---: | :----: | :----: |         \n",
    "| Actual Negative   |  (0)  |   TN   |   FP   |             \n",
    "| Actual Positive   |  (1)  |   FN   |   TP   |       \n",
    "|                   |       |   (0)   |   (1)   |       \n",
    "|                   |       | Predicted Negative    |   Predicted Postitive  |     \n",
    "\n",
    "\n",
    "* `TPR = TP / (TP + FN)` : True Positive Rate = True Positives / All Positives    \n",
    "* `TNR = TN / (TN + FP)` : True Negative Rate = True Negatives / All Negatives    \n",
    "\n",
    "* `FPR = FP / (TN + FP)` : False Positive Rate = False Positives / All Negatives \n",
    "* `FNR = FN / (TP + FN)` : False Negative Rate = False Negatives / All Positives"
   ]
  },
  {
   "cell_type": "markdown",
   "metadata": {},
   "source": [
    "# Logistic Regression"
   ]
  },
  {
   "cell_type": "code",
   "execution_count": 15,
   "metadata": {},
   "outputs": [],
   "source": [
    "lr_model = LogisticRegression(random_state = 0, max_iter = 500).fit(x_train, y_train.values.ravel())"
   ]
  },
  {
   "cell_type": "code",
   "execution_count": 16,
   "metadata": {},
   "outputs": [
    {
     "name": "stdout",
     "output_type": "stream",
     "text": [
      "Trainset Metrics\n",
      "\n",
      "Overall Accuracy Rate: 69.69\n",
      "TPR: 83.16\n",
      "TNR: 56.22\n",
      "FPR: 43.78\n",
      "FNR: 16.84\n"
     ]
    },
    {
     "data": {
      "image/png": "[encoded data removed]",
      "text/plain": [
       "<Figure size 432x288 with 2 Axes>"
      ]
     },
     "metadata": {},
     "output_type": "display_data"
    }
   ],
   "source": [
    "print('Trainset Metrics\\n')\n",
    "prediction_metrics(x_train, lr_model, y_train)\n",
    "plt.savefig('lr-train.png', transparent = True)"
   ]
  },
  {
   "cell_type": "code",
   "execution_count": 17,
   "metadata": {},
   "outputs": [
    {
     "name": "stdout",
     "output_type": "stream",
     "text": [
      "Testset Metrics\n",
      "\n",
      "Overall Accuracy Rate: 58.04\n",
      "TPR: 82.92\n",
      "TNR: 56.07\n",
      "FPR: 43.93\n",
      "FNR: 17.08\n"
     ]
    },
    {
     "data": {
      "image/png": "[encoded data removed]",
      "text/plain": [
       "<Figure size 432x288 with 2 Axes>"
      ]
     },
     "metadata": {},
     "output_type": "display_data"
    }
   ],
   "source": [
    "print('Testset Metrics\\n')\n",
    "prediction_metrics(x_test, lr_model, y_test)\n",
    "plt.savefig('lr-test.png', transparent = True)"
   ]
  },
  {
   "cell_type": "markdown",
   "metadata": {},
   "source": [
    "*Note*: No feature importance for logistic regression as all variables need to have the same scale prior to fitting the model, in order to derive feature importance (by looking at the coefficient of each predictor variable). When we attempted to normalise the data (using code from [this link](https://www.stackvidhya.com/how-to-normalize-data-between-0-and-1-range/#:~:text=You%20can%20normalize%20data%20between,min(data))), the false negative rate increased significantly. \n",
    "\n",
    "Furthermore, we would have to use the normalised data on the other models, so we decided to retain the numeric data as they are, and not scale them."
   ]
  },
  {
   "cell_type": "markdown",
   "metadata": {},
   "source": [
    "# Random Forest"
   ]
  },
  {
   "cell_type": "code",
   "execution_count": 18,
   "metadata": {},
   "outputs": [],
   "source": [
    "rf_model = RandomForestClassifier(n_estimators = 500).fit(x_train, y_train.values.ravel())"
   ]
  },
  {
   "cell_type": "code",
   "execution_count": 19,
   "metadata": {},
   "outputs": [
    {
     "name": "stdout",
     "output_type": "stream",
     "text": [
      "Trainset Metrics\n",
      "\n",
      "Overall Accuracy Rate: 100.00\n",
      "TPR: 100.00\n",
      "TNR: 100.00\n",
      "FPR: 0.00\n",
      "FNR: 0.00\n"
     ]
    },
    {
     "data": {
      "image/png": "[encoded data removed]",
      "text/plain": [
       "<Figure size 432x288 with 2 Axes>"
      ]
     },
     "metadata": {},
     "output_type": "display_data"
    }
   ],
   "source": [
    "print('Trainset Metrics\\n')\n",
    "prediction_metrics(x_train, rf_model, y_train)\n",
    "plt.savefig('rf-train.png', transparent = True)"
   ]
  },
  {
   "cell_type": "code",
   "execution_count": 20,
   "metadata": {},
   "outputs": [
    {
     "name": "stdout",
     "output_type": "stream",
     "text": [
      "Testset Metrics\n",
      "\n",
      "Overall Accuracy Rate: 92.77\n",
      "TPR: 30.80\n",
      "TNR: 97.67\n",
      "FPR: 2.33\n",
      "FNR: 69.20\n"
     ]
    },
    {
     "data": {
      "image/png": "[encoded data removed]",
      "text/plain": [
       "<Figure size 432x288 with 2 Axes>"
      ]
     },
     "metadata": {},
     "output_type": "display_data"
    }
   ],
   "source": [
    "print('Testset Metrics\\n')\n",
    "prediction_metrics(x_test, rf_model, y_test)\n",
    "plt.savefig('rf-test.png', transparent = True)"
   ]
  },
  {
   "cell_type": "markdown",
   "metadata": {},
   "source": [
    "### Random Forest: Feature Importance (code from [here](https://machinelearningmastery.com/calculate-feature-importance-with-python/))"
   ]
  },
  {
   "cell_type": "code",
   "execution_count": 21,
   "metadata": {},
   "outputs": [
    {
     "name": "stdout",
     "output_type": "stream",
     "text": [
      "Feature: 0, Score: 0.00192\n",
      "Feature: 1, Score: 0.09032\n",
      "Feature: 2, Score: 0.05464\n",
      "Feature: 3, Score: 0.21681\n",
      "Feature: 4, Score: 0.00350\n",
      "Feature: 5, Score: 0.12682\n",
      "Feature: 6, Score: 0.11241\n",
      "Feature: 7, Score: 0.02063\n",
      "Feature: 8, Score: 0.01839\n",
      "Feature: 9, Score: 0.03356\n",
      "Feature: 10, Score: 0.01035\n",
      "Feature: 11, Score: 0.01072\n",
      "Feature: 12, Score: 0.00621\n",
      "Feature: 13, Score: 0.02452\n",
      "Feature: 14, Score: 0.01200\n",
      "Feature: 15, Score: 0.00393\n",
      "Feature: 16, Score: 0.03189\n",
      "Feature: 17, Score: 0.01071\n",
      "Feature: 18, Score: 0.01114\n",
      "Feature: 19, Score: 0.01978\n",
      "Feature: 20, Score: 0.02616\n",
      "Feature: 21, Score: 0.00946\n",
      "Feature: 22, Score: 0.01202\n",
      "Feature: 23, Score: 0.01162\n",
      "Feature: 24, Score: 0.00004\n",
      "Feature: 25, Score: 0.05648\n",
      "Feature: 26, Score: 0.01785\n",
      "Feature: 27, Score: 0.01006\n",
      "Feature: 28, Score: 0.03605\n"
     ]
    },
    {
     "data": {
      "image/png": "[encoded data removed]",
      "text/plain": [
       "<Figure size 432x288 with 1 Axes>"
      ]
     },
     "metadata": {},
     "output_type": "display_data"
    }
   ],
   "source": [
    "rfimportance = rf_model.feature_importances_\n",
    "\n",
    "# summarise feature importance\n",
    "for i,v in enumerate(rfimportance):\n",
    "    print('Feature: %0d, Score: %.5f' % (i,v))\n",
    "\n",
    "# plot feature importance\n",
    "plt.bar([x for x in range(len(rfimportance))], rfimportance)\n",
    "plt.show()"
   ]
  },
  {
   "cell_type": "code",
   "execution_count": 22,
   "metadata": {
    "scrolled": true
   },
   "outputs": [
    {
     "data": {
      "text/plain": [
       "Index(['Size', 'DaysSinceLastUpdate', 'AppAge', 'InAppPurchases'], dtype='object')"
      ]
     },
     "execution_count": 22,
     "metadata": {},
     "output_type": "execute_result"
    }
   ],
   "source": [
    "top4indices = np.argpartition(rfimportance, -4)[-4:]\n",
    "x_train.iloc[:,top4indices].columns"
   ]
  },
  {
   "cell_type": "markdown",
   "metadata": {},
   "source": [
    "The feature importance is as follows, in order of descending importance: \n",
    "1. InAppPurchases\n",
    "2. AppAge\n",
    "3. DaysSinceLastUpdate\n",
    "4. Size"
   ]
  },
  {
   "cell_type": "markdown",
   "metadata": {},
   "source": [
    "# Random Forest with XGBoost"
   ]
  },
  {
   "cell_type": "code",
   "execution_count": 23,
   "metadata": {},
   "outputs": [],
   "source": [
    "xgbrf_model = xgb.XGBRFClassifier(n_estimators = 500, subsample = 0.9, colsample_bynode = 0.2).fit(x_train, y_train)"
   ]
  },
  {
   "cell_type": "code",
   "execution_count": 24,
   "metadata": {},
   "outputs": [
    {
     "name": "stdout",
     "output_type": "stream",
     "text": [
      "Trainset Metrics\n",
      "\n",
      "Overall Accuracy Rate: 85.96\n",
      "TPR: 87.57\n",
      "TNR: 84.35\n",
      "FPR: 15.65\n",
      "FNR: 12.43\n"
     ]
    },
    {
     "data": {
      "image/png": "[encoded data removed]",
      "text/plain": [
       "<Figure size 432x288 with 2 Axes>"
      ]
     },
     "metadata": {},
     "output_type": "display_data"
    }
   ],
   "source": [
    "print('Trainset Metrics\\n')\n",
    "prediction_metrics(x_train, xgbrf_model, y_train)\n",
    "plt.savefig('xgbrf-train.png', transparent = True)"
   ]
  },
  {
   "cell_type": "code",
   "execution_count": 25,
   "metadata": {
    "scrolled": false
   },
   "outputs": [
    {
     "name": "stdout",
     "output_type": "stream",
     "text": [
      "Testset Metrics\n",
      "\n",
      "Overall Accuracy Rate: 82.75\n",
      "TPR: 59.18\n",
      "TNR: 84.61\n",
      "FPR: 15.39\n",
      "FNR: 40.82\n"
     ]
    },
    {
     "data": {
      "image/png": "[encoded data removed]",
      "text/plain": [
       "<Figure size 432x288 with 2 Axes>"
      ]
     },
     "metadata": {},
     "output_type": "display_data"
    }
   ],
   "source": [
    "print('Testset Metrics\\n')\n",
    "prediction_metrics(x_test, xgbrf_model, y_test)\n",
    "plt.savefig('xgbrf-test.png', transparent = True)"
   ]
  },
  {
   "cell_type": "markdown",
   "metadata": {},
   "source": [
    "### Random Forest with XGBoost: Feature Importance (code from [here](https://machinelearningmastery.com/calculate-feature-importance-with-python/))"
   ]
  },
  {
   "cell_type": "code",
   "execution_count": 26,
   "metadata": {},
   "outputs": [
    {
     "name": "stdout",
     "output_type": "stream",
     "text": [
      "Feature: 0, Score: 0.00064\n",
      "Feature: 1, Score: 0.02925\n",
      "Feature: 2, Score: 0.07686\n",
      "Feature: 3, Score: 0.27454\n",
      "Feature: 4, Score: 0.00535\n",
      "Feature: 5, Score: 0.02274\n",
      "Feature: 6, Score: 0.03721\n",
      "Feature: 7, Score: 0.02992\n",
      "Feature: 8, Score: 0.02870\n",
      "Feature: 9, Score: 0.06804\n",
      "Feature: 10, Score: 0.00734\n",
      "Feature: 11, Score: 0.00811\n",
      "Feature: 12, Score: 0.01554\n",
      "Feature: 13, Score: 0.03568\n",
      "Feature: 14, Score: 0.01286\n",
      "Feature: 15, Score: 0.00124\n",
      "Feature: 16, Score: 0.05488\n",
      "Feature: 17, Score: 0.01130\n",
      "Feature: 18, Score: 0.00993\n",
      "Feature: 19, Score: 0.02681\n",
      "Feature: 20, Score: 0.05011\n",
      "Feature: 21, Score: 0.00581\n",
      "Feature: 22, Score: 0.01730\n",
      "Feature: 23, Score: 0.01161\n",
      "Feature: 24, Score: 0.00003\n",
      "Feature: 25, Score: 0.08495\n",
      "Feature: 26, Score: 0.01859\n",
      "Feature: 27, Score: 0.01275\n",
      "Feature: 28, Score: 0.04192\n"
     ]
    },
    {
     "data": {
      "image/png": "[encoded data removed]",
      "text/plain": [
       "<Figure size 432x288 with 1 Axes>"
      ]
     },
     "metadata": {},
     "output_type": "display_data"
    }
   ],
   "source": [
    "rximportance = xgbrf_model.feature_importances_\n",
    "\n",
    "# summarise feature importance\n",
    "for i,v in enumerate(rximportance):\n",
    "    print('Feature: %0d, Score: %.5f' % (i,v))\n",
    "\n",
    "# plot feature importance\n",
    "plt.bar([x for x in range(len(rximportance))], rximportance)\n",
    "plt.savefig('importance.png', transparent = True)\n",
    "plt.show()"
   ]
  },
  {
   "cell_type": "markdown",
   "metadata": {},
   "source": [
    "InAppPurchases is by far the most important feature here"
   ]
  },
  {
   "cell_type": "code",
   "execution_count": 27,
   "metadata": {},
   "outputs": [
    {
     "data": {
      "text/plain": [
       "Index(['Category_Puzzle', 'InAppPurchases', 'Category_Arcade', 'AdSupported',\n",
       "       'ContentRating_Everyone'],\n",
       "      dtype='object')"
      ]
     },
     "execution_count": 27,
     "metadata": {},
     "output_type": "execute_result"
    }
   ],
   "source": [
    "top5indices = np.argpartition(rximportance, -5)[-5:]\n",
    "x_train.iloc[:,top5indices].columns"
   ]
  },
  {
   "cell_type": "markdown",
   "metadata": {},
   "source": [
    "# AdaBoost"
   ]
  },
  {
   "cell_type": "code",
   "execution_count": 28,
   "metadata": {},
   "outputs": [],
   "source": [
    "ab_model = AdaBoostClassifier().fit(x_train, y_train.values.ravel())"
   ]
  },
  {
   "cell_type": "code",
   "execution_count": 29,
   "metadata": {},
   "outputs": [
    {
     "name": "stdout",
     "output_type": "stream",
     "text": [
      "Trainset Metrics\n",
      "\n",
      "Overall Accuracy Rate: 92.61\n",
      "TPR: 92.16\n",
      "TNR: 93.06\n",
      "FPR: 6.94\n",
      "FNR: 7.84\n"
     ]
    },
    {
     "data": {
      "image/png": "[encoded data removed]",
      "text/plain": [
       "<Figure size 432x288 with 2 Axes>"
      ]
     },
     "metadata": {},
     "output_type": "display_data"
    }
   ],
   "source": [
    "print('Trainset Metrics\\n')\n",
    "prediction_metrics(x_train, ab_model, y_train)\n",
    "plt.savefig('ab-train.png', transparent = True)"
   ]
  },
  {
   "cell_type": "code",
   "execution_count": 30,
   "metadata": {},
   "outputs": [
    {
     "name": "stdout",
     "output_type": "stream",
     "text": [
      "Testset Metrics\n",
      "\n",
      "Overall Accuracy Rate: 89.67\n",
      "TPR: 46.73\n",
      "TNR: 93.06\n",
      "FPR: 6.94\n",
      "FNR: 53.27\n"
     ]
    },
    {
     "data": {
      "image/png": "[encoded data removed]",
      "text/plain": [
       "<Figure size 432x288 with 2 Axes>"
      ]
     },
     "metadata": {},
     "output_type": "display_data"
    }
   ],
   "source": [
    "print('Testset Metrics\\n')\n",
    "prediction_metrics(x_test, ab_model, y_test)\n",
    "plt.savefig('ab-test.png', transparent = True)"
   ]
  },
  {
   "cell_type": "markdown",
   "metadata": {},
   "source": [
    "### AdaBoost: Feature Importance (code from [here](https://machinelearningmastery.com/calculate-feature-importance-with-python/))"
   ]
  },
  {
   "cell_type": "code",
   "execution_count": 31,
   "metadata": {},
   "outputs": [
    {
     "name": "stdout",
     "output_type": "stream",
     "text": [
      "Feature: 0, Score: 0.00000\n",
      "Feature: 1, Score: 0.02000\n",
      "Feature: 2, Score: 0.02000\n",
      "Feature: 3, Score: 0.04000\n",
      "Feature: 4, Score: 0.02000\n",
      "Feature: 5, Score: 0.08000\n",
      "Feature: 6, Score: 0.06000\n",
      "Feature: 7, Score: 0.04000\n",
      "Feature: 8, Score: 0.04000\n",
      "Feature: 9, Score: 0.04000\n",
      "Feature: 10, Score: 0.02000\n",
      "Feature: 11, Score: 0.04000\n",
      "Feature: 12, Score: 0.02000\n",
      "Feature: 13, Score: 0.06000\n",
      "Feature: 14, Score: 0.04000\n",
      "Feature: 15, Score: 0.02000\n",
      "Feature: 16, Score: 0.06000\n",
      "Feature: 17, Score: 0.04000\n",
      "Feature: 18, Score: 0.04000\n",
      "Feature: 19, Score: 0.04000\n",
      "Feature: 20, Score: 0.04000\n",
      "Feature: 21, Score: 0.02000\n",
      "Feature: 22, Score: 0.02000\n",
      "Feature: 23, Score: 0.02000\n",
      "Feature: 24, Score: 0.00000\n",
      "Feature: 25, Score: 0.06000\n",
      "Feature: 26, Score: 0.04000\n",
      "Feature: 27, Score: 0.02000\n",
      "Feature: 28, Score: 0.04000\n"
     ]
    },
    {
     "data": {
      "image/png": "[encoded data removed]",
      "text/plain": [
       "<Figure size 432x288 with 1 Axes>"
      ]
     },
     "metadata": {},
     "output_type": "display_data"
    }
   ],
   "source": [
    "abimportance = ab_model.feature_importances_\n",
    "\n",
    "# summarise feature importance\n",
    "for i,v in enumerate(abimportance):\n",
    "    print('Feature: %0d, Score: %.5f' % (i,v))\n",
    "\n",
    "# plot feature importance\n",
    "plt.bar([x for x in range(len(abimportance))], abimportance)\n",
    "plt.show()"
   ]
  },
  {
   "cell_type": "code",
   "execution_count": 32,
   "metadata": {},
   "outputs": [
    {
     "data": {
      "text/plain": [
       "Index(['Category_Arcade', 'ContentRating_Everyone', 'Category_Casual',\n",
       "       'AppAge', 'DaysSinceLastUpdate', 'Category_Puzzle'],\n",
       "      dtype='object')"
      ]
     },
     "execution_count": 32,
     "metadata": {},
     "output_type": "execute_result"
    }
   ],
   "source": [
    "top6indices = np.argpartition(abimportance, -6)[-6:]\n",
    "x_train.iloc[:,top6indices].columns"
   ]
  },
  {
   "cell_type": "markdown",
   "metadata": {},
   "source": [
    "The feature importance for AdaBoost is as follows, in order of descending importance: \n",
    "1. DaysSinceLastUpdate\n",
    "2. Category_Casual = Category_Arcarde = Category_Puzzle = AppAge = Content_Rating_Everyone"
   ]
  },
  {
   "cell_type": "markdown",
   "metadata": {},
   "source": [
    "# Save/Load the ML models here"
   ]
  },
  {
   "cell_type": "code",
   "execution_count": 33,
   "metadata": {},
   "outputs": [],
   "source": [
    "# save\n",
    "pickle.dump(lr_model, open('lr_model.sav', 'wb'))\n",
    "pickle.dump(rf_model, open('rf_model.sav', 'wb'))\n",
    "pickle.dump(xgbrf_model, open('xgbrf_model.sav', 'wb'))\n",
    "pickle.dump(ab_model, open('ab_model.sav', 'wb'))"
   ]
  },
  {
   "cell_type": "code",
   "execution_count": null,
   "metadata": {},
   "outputs": [],
   "source": [
    "# load\n",
    "lr_model = pickle.load(open('lr_model.sav', 'rb'))\n",
    "rf_model = pickle.load(open('rf_model.sav', 'rb'))\n",
    "xgbrf_model = pickle.load(open('xgbrf_model.sav', 'rb'))\n",
    "ab_model = pickle.load(open('ab_model.sav', 'rb'))"
   ]
  }
 ],
 "metadata": {
  "kernelspec": {
   "display_name": "Python 3",
   "language": "python",
   "name": "python3"
  },
  "language_info": {
   "codemirror_mode": {
    "name": "ipython",
    "version": 3
   },
   "file_extension": ".py",
   "mimetype": "text/x-python",
   "name": "python",
   "nbconvert_exporter": "python",
   "pygments_lexer": "ipython3",
   "version": "3.8.5"
  }
 },
 "nbformat": 4,
 "nbformat_minor": 4
}
