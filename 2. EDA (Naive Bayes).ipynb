{
 "cells": [
  {
   "cell_type": "code",
   "execution_count": 75,
   "id": "9bfaef77",
   "metadata": {},
   "outputs": [],
   "source": [
    "import numpy as np\n",
    "import matplotlib.pyplot as plt\n",
    "import pandas as pd\n",
    "import sklearn"
   ]
  },
  {
   "cell_type": "code",
   "execution_count": 76,
   "id": "68c2e000",
   "metadata": {},
   "outputs": [],
   "source": [
    "googleplayclean = pd.read_csv('C:/Users/davyn/Downloads/googleplayclean.csv')\n",
    "# dependent variable\n",
    "y = googleplayclean[['Success']]\n",
    "# independent variables\n",
    "x = googleplayclean[['Free', 'Price', 'Ad Supported', 'In App Purchases', 'Editors Choice', 'Time Gap']]"
   ]
  },
  {
   "cell_type": "code",
   "execution_count": 77,
   "id": "d1a969ca",
   "metadata": {},
   "outputs": [],
   "source": [
    "puzzle = googleplayclean.copy()\n",
    "arcade = googleplayclean.copy()\n",
    "casual = googleplayclean.copy()\n",
    "sim = googleplayclean.copy()\n",
    "action = googleplayclean.copy()\n",
    "adv = googleplayclean.copy()"
   ]
  },
  {
   "cell_type": "markdown",
   "id": "f937922d",
   "metadata": {},
   "source": [
    "# Using Naive Bayes on Whole Dataset"
   ]
  },
  {
   "cell_type": "code",
   "execution_count": 91,
   "id": "d451a80a",
   "metadata": {},
   "outputs": [
    {
     "name": "stdout",
     "output_type": "stream",
     "text": [
      "Confusion Matrix = \n",
      "[[33553    14]\n",
      " [ 2867    67]]\n",
      "Accuracy Score = 0.9210706555984768\n",
      "FPR = 0.9995829237048292\n",
      "TPR = 0.02283571915473756\n"
     ]
    },
    {
     "name": "stderr",
     "output_type": "stream",
     "text": [
      "C:\\Users\\davyn\\anaconda3\\lib\\site-packages\\sklearn\\utils\\validation.py:993: DataConversionWarning: A column-vector y was passed when a 1d array was expected. Please change the shape of y to (n_samples, ), for example using ravel().\n",
      "  y = column_or_1d(y, warn=True)\n"
     ]
    }
   ],
   "source": [
    "from sklearn.model_selection import train_test_split\n",
    "x_train, x_test, y_train, y_test = train_test_split(x, y, test_size = 0.2, random_state = 0)\n",
    "from sklearn.preprocessing import StandardScaler\n",
    "sc = StandardScaler()\n",
    "x_train = sc.fit_transform(x_train)\n",
    "x_test = sc.transform(x_test)\n",
    "from sklearn.naive_bayes import GaussianNB\n",
    "classifier = GaussianNB()\n",
    "classifier.fit(x_train, y_train)\n",
    "y_pred = classifier.predict(x_test)\n",
    "from sklearn.metrics import confusion_matrix, accuracy_score\n",
    "cm = confusion_matrix(y_test, y_pred)\n",
    "print(\"Confusion Matrix = \\n{}\".format(cm))\n",
    "ac = accuracy_score(y_test, y_pred)\n",
    "print(\"Accuracy Score = {}\".format(ac))\n",
    "print(\"FPR = {}\".format(33553/(33553+14)))\n",
    "print(\"TPR = {}\".format(67/(67+2867)))"
   ]
  },
  {
   "cell_type": "markdown",
   "id": "a3457e31",
   "metadata": {},
   "source": [
    "# Using Naive Bayes on Puzzle Games"
   ]
  },
  {
   "cell_type": "code",
   "execution_count": 79,
   "id": "3bd81e40",
   "metadata": {},
   "outputs": [],
   "source": [
    "puzzle_0 = ['Puzzle']\n",
    "puzzleNotExist = ~puzzle['Category'].isin(puzzle_0)\n",
    "puzzleNotExist_rows = puzzle[puzzleNotExist]\n",
    "puzzle = puzzle.drop(puzzleNotExist_rows.index)\n",
    "\n",
    "# dependent variable\n",
    "yP = puzzle[['Success']]\n",
    "# independent variables\n",
    "xP = puzzle[['Free', 'Price', 'Ad Supported', 'In App Purchases', 'Editors Choice', 'Time Gap']]"
   ]
  },
  {
   "cell_type": "code",
   "execution_count": 92,
   "id": "aac8d5b6",
   "metadata": {},
   "outputs": [
    {
     "name": "stdout",
     "output_type": "stream",
     "text": [
      "Confusion Matrix = \n",
      "[[5114  476]\n",
      " [ 237  163]]\n",
      "Accuracy Score = 0.8809682804674458\n",
      "FPR = 0.9148479427549195\n",
      "TPR = 0.4075\n"
     ]
    },
    {
     "name": "stderr",
     "output_type": "stream",
     "text": [
      "C:\\Users\\davyn\\anaconda3\\lib\\site-packages\\sklearn\\utils\\validation.py:993: DataConversionWarning: A column-vector y was passed when a 1d array was expected. Please change the shape of y to (n_samples, ), for example using ravel().\n",
      "  y = column_or_1d(y, warn=True)\n"
     ]
    }
   ],
   "source": [
    "# Splitting the Dataset\n",
    "xP_train, xP_test, yP_train, yP_test = train_test_split(xP, yP, test_size = 0.2, random_state = 0)\n",
    "\n",
    "# Feature Scaling\n",
    "xP_train = sc.fit_transform(xP_train)\n",
    "xP_test = sc.transform(xP_test)\n",
    "\n",
    "# Training the Naive Bayes Model on the training set\n",
    "classifier.fit(xP_train, yP_train)\n",
    "\n",
    "# Predicting Test Results\n",
    "yP_pred = classifier.predict(xP_test)\n",
    "\n",
    "cmP = confusion_matrix(yP_test, yP_pred)\n",
    "print(\"Confusion Matrix = \\n{}\".format(cmP))\n",
    "acP = accuracy_score(yP_test, yP_pred)\n",
    "print(\"Accuracy Score = {}\".format(acP))\n",
    "print(\"FPR = {}\".format(5114/(5114+476)))\n",
    "print(\"TPR = {}\".format(163/(163+237)))"
   ]
  },
  {
   "cell_type": "markdown",
   "id": "db7eeef5",
   "metadata": {},
   "source": [
    " # Using Naive Bayes on Arcade Games"
   ]
  },
  {
   "cell_type": "code",
   "execution_count": 81,
   "id": "d6268d2a",
   "metadata": {},
   "outputs": [],
   "source": [
    "arcade_0 = ['Arcade']\n",
    "arcadeNotExist = ~arcade['Category'].isin(arcade_0)\n",
    "arcadeNotExist_rows = arcade[arcadeNotExist]\n",
    "arcade = arcade.drop(arcadeNotExist_rows.index)\n",
    "\n",
    "# dependent variable\n",
    "yAr = arcade[['Success']]\n",
    "# independent variables\n",
    "xAr = arcade[['Free', 'Price', 'Ad Supported', 'In App Purchases', 'Editors Choice', 'Time Gap']]"
   ]
  },
  {
   "cell_type": "code",
   "execution_count": 93,
   "id": "d58a8581",
   "metadata": {},
   "outputs": [
    {
     "name": "stdout",
     "output_type": "stream",
     "text": [
      "Confusion Matrix = \n",
      "[[5588    0]\n",
      " [ 245    3]]\n",
      "Accuracy Score = 0.9580191912268677\n",
      "FPR = 1.0\n",
      "TPR = 0.012096774193548387\n"
     ]
    },
    {
     "name": "stderr",
     "output_type": "stream",
     "text": [
      "C:\\Users\\davyn\\anaconda3\\lib\\site-packages\\sklearn\\utils\\validation.py:993: DataConversionWarning: A column-vector y was passed when a 1d array was expected. Please change the shape of y to (n_samples, ), for example using ravel().\n",
      "  y = column_or_1d(y, warn=True)\n"
     ]
    }
   ],
   "source": [
    "# Splitting the Dataset\n",
    "xAr_train, xAr_test, yAr_train, yAr_test = train_test_split(xAr, yAr, test_size = 0.2, random_state = 0)\n",
    "\n",
    "# Feature Scaling\n",
    "xAr_train = sc.fit_transform(xAr_train)\n",
    "xAr_test = sc.transform(xAr_test)\n",
    "\n",
    "# Training the Naive Bayes Model on the training set\n",
    "classifier.fit(xAr_train, yAr_train)\n",
    "\n",
    "# Predicting Test Results\n",
    "yAr_pred = classifier.predict(xAr_test)\n",
    "\n",
    "cmAr = confusion_matrix(yAr_test, yAr_pred)\n",
    "print(\"Confusion Matrix = \\n{}\".format(cmAr))\n",
    "acAr = accuracy_score(yAr_test, yAr_pred)\n",
    "print(\"Accuracy Score = {}\".format(acAr))\n",
    "print(\"FPR = {}\".format(5588/(5588+0)))\n",
    "print(\"TPR = {}\".format(3/(3+245)))"
   ]
  },
  {
   "cell_type": "markdown",
   "id": "43000282",
   "metadata": {},
   "source": [
    "# Using Naive Bayes on Casual Games"
   ]
  },
  {
   "cell_type": "code",
   "execution_count": 83,
   "id": "91c9e1d2",
   "metadata": {},
   "outputs": [],
   "source": [
    "casual_0 = ['Casual']\n",
    "casualNotExist = ~casual['Category'].isin(casual_0)\n",
    "casualNotExist_rows = casual[casualNotExist]\n",
    "casual = casual.drop(casualNotExist_rows.index)\n",
    "\n",
    "# dependent variable\n",
    "yC = casual[['Success']]\n",
    "# independent variables\n",
    "xC = casual[['Free', 'Price', 'Ad Supported', 'In App Purchases', 'Editors Choice', 'Time Gap']]"
   ]
  },
  {
   "cell_type": "code",
   "execution_count": 94,
   "id": "c69b4929",
   "metadata": {},
   "outputs": [
    {
     "name": "stdout",
     "output_type": "stream",
     "text": [
      "Confusion Matrix = \n",
      "[[4728  335]\n",
      " [ 286  158]]\n",
      "Accuracy Score = 0.8872344289086617\n",
      "FPR = 0.9338336954374876\n",
      "TPR = 0.35585585585585583\n"
     ]
    },
    {
     "name": "stderr",
     "output_type": "stream",
     "text": [
      "C:\\Users\\davyn\\anaconda3\\lib\\site-packages\\sklearn\\utils\\validation.py:993: DataConversionWarning: A column-vector y was passed when a 1d array was expected. Please change the shape of y to (n_samples, ), for example using ravel().\n",
      "  y = column_or_1d(y, warn=True)\n"
     ]
    }
   ],
   "source": [
    "# Splitting the Dataset\n",
    "xC_train, xC_test, yC_train, yC_test = train_test_split(xC, yC, test_size = 0.2, random_state = 0)\n",
    "\n",
    "# Feature Scaling\n",
    "xC_train = sc.fit_transform(xC_train)\n",
    "xC_test = sc.transform(xC_test)\n",
    "\n",
    "# Training the Naive Bayes Model on the training set\n",
    "classifier.fit(xC_train, yC_train)\n",
    "\n",
    "# Predicting Test Results\n",
    "yC_pred = classifier.predict(xC_test)\n",
    "\n",
    "cmC = confusion_matrix(yC_test, yC_pred)\n",
    "print(\"Confusion Matrix = \\n{}\".format(cmC))\n",
    "acC = accuracy_score(yC_test, yC_pred)\n",
    "print(\"Accuracy Score = {}\".format(acC))\n",
    "print(\"FPR = {}\".format(4728/(4728+335)))\n",
    "print(\"TPR = {}\".format(158/(158+286)))"
   ]
  },
  {
   "cell_type": "markdown",
   "id": "48c5aca2",
   "metadata": {},
   "source": [
    "# Using Naive Bayes on Simulation Games"
   ]
  },
  {
   "cell_type": "code",
   "execution_count": 85,
   "id": "59354d40",
   "metadata": {},
   "outputs": [],
   "source": [
    "sim_0 = ['Simulation']\n",
    "simNotExist = ~sim['Category'].isin(sim_0)\n",
    "simNotExist_rows = sim[simNotExist]\n",
    "sim = sim.drop(simNotExist_rows.index)\n",
    "\n",
    "# dependent variable\n",
    "yS = sim[['Success']]\n",
    "# independent variables\n",
    "xS = sim[['Free', 'Price', 'Ad Supported', 'In App Purchases', 'Editors Choice', 'Time Gap']]"
   ]
  },
  {
   "cell_type": "code",
   "execution_count": 95,
   "id": "20cdf2b7",
   "metadata": {},
   "outputs": [
    {
     "name": "stdout",
     "output_type": "stream",
     "text": [
      "Confusion Matrix = \n",
      "[[3256    0]\n",
      " [ 366   16]]\n",
      "Accuracy Score = 0.8993952721275426\n",
      "FPR = 1.0\n",
      "TPR = 0.041884816753926704\n"
     ]
    },
    {
     "name": "stderr",
     "output_type": "stream",
     "text": [
      "C:\\Users\\davyn\\anaconda3\\lib\\site-packages\\sklearn\\utils\\validation.py:993: DataConversionWarning: A column-vector y was passed when a 1d array was expected. Please change the shape of y to (n_samples, ), for example using ravel().\n",
      "  y = column_or_1d(y, warn=True)\n"
     ]
    }
   ],
   "source": [
    "# Splitting the Dataset\n",
    "xS_train, xS_test, yS_train, yS_test = train_test_split(xS, yS, test_size = 0.2, random_state = 0)\n",
    "\n",
    "# Feature Scaling\n",
    "xS_train = sc.fit_transform(xS_train)\n",
    "xS_test = sc.transform(xS_test)\n",
    "\n",
    "# Training the Naive Bayes Model on the training set\n",
    "classifier.fit(xS_train, yS_train)\n",
    "\n",
    "# Predicting Test Results\n",
    "yS_pred = classifier.predict(xS_test)\n",
    "\n",
    "cmS = confusion_matrix(yS_test, yS_pred)\n",
    "print(\"Confusion Matrix = \\n{}\".format(cmS))\n",
    "acS = accuracy_score(yS_test, yS_pred)\n",
    "print(\"Accuracy Score = {}\".format(acS))\n",
    "print(\"FPR = {}\".format(3256/(3256+0)))\n",
    "print(\"TPR = {}\".format(16/(16+366)))"
   ]
  },
  {
   "cell_type": "markdown",
   "id": "c3f4b46d",
   "metadata": {},
   "source": [
    "# Using Naive Bayes on Action Games"
   ]
  },
  {
   "cell_type": "code",
   "execution_count": 87,
   "id": "9a86fc89",
   "metadata": {},
   "outputs": [],
   "source": [
    "action_0 = ['Action']\n",
    "actionNotExist = ~action['Category'].isin(action_0)\n",
    "actionNotExist_rows = action[actionNotExist]\n",
    "action = action.drop(actionNotExist_rows.index)\n",
    "\n",
    "# dependent variable\n",
    "yA = action[['Success']]\n",
    "# independent variables\n",
    "xA = action[['Free', 'Price', 'Ad Supported', 'In App Purchases', 'Editors Choice', 'Time Gap']]"
   ]
  },
  {
   "cell_type": "code",
   "execution_count": 96,
   "id": "029db105",
   "metadata": {},
   "outputs": [
    {
     "name": "stdout",
     "output_type": "stream",
     "text": [
      "Confusion Matrix = \n",
      "[[3101    0]\n",
      " [ 310    8]]\n",
      "Accuracy Score = 0.909330213512723\n",
      "FPR = 1.0\n",
      "TPR = 0.025157232704402517\n"
     ]
    },
    {
     "name": "stderr",
     "output_type": "stream",
     "text": [
      "C:\\Users\\davyn\\anaconda3\\lib\\site-packages\\sklearn\\utils\\validation.py:993: DataConversionWarning: A column-vector y was passed when a 1d array was expected. Please change the shape of y to (n_samples, ), for example using ravel().\n",
      "  y = column_or_1d(y, warn=True)\n"
     ]
    }
   ],
   "source": [
    "# Splitting the Dataset\n",
    "xA_train, xA_test, yA_train, yA_test = train_test_split(xA, yA, test_size = 0.2, random_state = 0)\n",
    "\n",
    "# Feature Scaling\n",
    "xA_train = sc.fit_transform(xA_train)\n",
    "xA_test = sc.transform(xA_test)\n",
    "\n",
    "# Training the Naive Bayes Model on the training set\n",
    "classifier.fit(xA_train, yA_train)\n",
    "\n",
    "# Predicting Test Results\n",
    "yA_pred = classifier.predict(xA_test)\n",
    "\n",
    "cmA = confusion_matrix(yA_test, yA_pred)\n",
    "print(\"Confusion Matrix = \\n{}\".format(cmA))\n",
    "acA = accuracy_score(yA_test, yA_pred)\n",
    "print(\"Accuracy Score = {}\".format(acA))\n",
    "print(\"FPR = {}\".format(3101/(3101+0)))\n",
    "print(\"TPR = {}\".format(8/(8+310)))"
   ]
  },
  {
   "cell_type": "markdown",
   "id": "278cf1d5",
   "metadata": {},
   "source": [
    "# Using Naive Bayes on Adventure Games"
   ]
  },
  {
   "cell_type": "code",
   "execution_count": 89,
   "id": "185ae210",
   "metadata": {},
   "outputs": [],
   "source": [
    "adv_0 = ['Adventure']\n",
    "advNotExist = ~adv['Category'].isin(adv_0)\n",
    "advNotExist_rows = adv[advNotExist]\n",
    "adv = adv.drop(advNotExist_rows.index)\n",
    "\n",
    "# dependent variable\n",
    "yAdv = adv[['Success']]\n",
    "# independent variables\n",
    "xAdv = adv[['Free', 'Price', 'Ad Supported', 'In App Purchases', 'Editors Choice', 'Time Gap']]"
   ]
  },
  {
   "cell_type": "code",
   "execution_count": 97,
   "id": "15bdb9d1",
   "metadata": {},
   "outputs": [
    {
     "name": "stdout",
     "output_type": "stream",
     "text": [
      "Confusion Matrix = \n",
      "[[2831    3]\n",
      " [ 160    5]]\n",
      "Accuracy Score = 0.9456485495165055\n",
      "FPR = 0.9989414255469301\n",
      "TPR = 0.030303030303030304\n"
     ]
    },
    {
     "name": "stderr",
     "output_type": "stream",
     "text": [
      "C:\\Users\\davyn\\anaconda3\\lib\\site-packages\\sklearn\\utils\\validation.py:993: DataConversionWarning: A column-vector y was passed when a 1d array was expected. Please change the shape of y to (n_samples, ), for example using ravel().\n",
      "  y = column_or_1d(y, warn=True)\n"
     ]
    }
   ],
   "source": [
    "# Splitting the Dataset\n",
    "xAdv_train, xAdv_test, yAdv_train, yAdv_test = train_test_split(xAdv, yAdv, test_size = 0.2, random_state = 0)\n",
    "\n",
    "# Feature Scaling\n",
    "xAdv_train = sc.fit_transform(xAdv_train)\n",
    "xAdv_test = sc.transform(xAdv_test)\n",
    "\n",
    "# Training the Naive Bayes Model on the training set\n",
    "classifier.fit(xAdv_train, yAdv_train)\n",
    "\n",
    "# Predicting Test Results\n",
    "yAdv_pred = classifier.predict(xAdv_test)\n",
    "\n",
    "cmAdv = confusion_matrix(yAdv_test, yAdv_pred)\n",
    "print(\"Confusion Matrix = \\n{}\".format(cmAdv))\n",
    "acAdv = accuracy_score(yAdv_test, yAdv_pred)\n",
    "print(\"Accuracy Score = {}\".format(acAdv))\n",
    "print(\"FPR = {}\".format(2831/(2831+3)))\n",
    "print(\"TPR = {}\".format(5/(5+160)))"
   ]
  }
 ],
 "metadata": {
  "kernelspec": {
   "display_name": "Python 3 (ipykernel)",
   "language": "python",
   "name": "python3"
  },
  "language_info": {
   "codemirror_mode": {
    "name": "ipython",
    "version": 3
   },
   "file_extension": ".py",
   "mimetype": "text/x-python",
   "name": "python",
   "nbconvert_exporter": "python",
   "pygments_lexer": "ipython3",
   "version": "3.9.7"
  }
 },
 "nbformat": 4,
 "nbformat_minor": 5
}
