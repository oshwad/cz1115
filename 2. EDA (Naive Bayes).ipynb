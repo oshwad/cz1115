{
 "cells": [
  {
   "cell_type": "code",
   "execution_count": 1,
   "id": "9bfaef77",
   "metadata": {},
   "outputs": [],
   "source": [
    "import numpy as np\n",
    "import matplotlib.pyplot as plt\n",
    "import pandas as pd\n",
    "import sklearn\n",
    "from sklearn.model_selection import train_test_split\n",
    "from sklearn.preprocessing import StandardScaler\n",
    "sc = StandardScaler()\n",
    "from sklearn.naive_bayes import GaussianNB\n",
    "classifier = GaussianNB()\n",
    "from sklearn.metrics import confusion_matrix, accuracy_score\n",
    "from imblearn.over_sampling import SMOTE\n",
    "import math"
   ]
  },
  {
   "cell_type": "code",
   "execution_count": 2,
   "id": "68c2e000",
   "metadata": {},
   "outputs": [],
   "source": [
    "googleplayclean = pd.read_csv('C:/Users/davyn/OneDrive/Documents/GitHub/play-store-analysis/googleplayclean.csv')"
   ]
  },
  {
   "cell_type": "code",
   "execution_count": 3,
   "id": "d1a969ca",
   "metadata": {},
   "outputs": [],
   "source": [
    "puzzle = googleplayclean.copy()\n",
    "arcade = googleplayclean.copy()\n",
    "casual = googleplayclean.copy()\n",
    "sim = googleplayclean.copy()\n",
    "action = googleplayclean.copy()\n",
    "adv = googleplayclean.copy()"
   ]
  },
  {
   "cell_type": "markdown",
   "id": "f937922d",
   "metadata": {},
   "source": [
    "# Using Naive Bayes on Whole Dataset"
   ]
  },
  {
   "cell_type": "code",
   "execution_count": 4,
   "id": "c1be9356",
   "metadata": {},
   "outputs": [],
   "source": [
    "cat_vars=['Free', 'Size', 'Ad Supported', 'In App Purchases', 'Editors Choice', 'Time Gap']\n",
    "for var in cat_vars:\n",
    "    cat_list = 'var'+'_'+var\n",
    "    cat_list = pd.get_dummies(googleplayclean[var], prefix=var)\n",
    "    data1 = googleplayclean.join(cat_list)\n",
    "    googleplayclean = data1\n",
    "cat_vars=['Free', 'Size', 'Ad Supported', 'In App Purchases', 'Editors Choice', 'Time Gap']\n",
    "data_vars = googleplayclean.columns.values.tolist()\n",
    "to_keep = [i for i in data_vars if i not in cat_vars]\n",
    "cat_vars=['Free', 'Size', 'Ad Supported', 'In App Purchases', 'Editors Choice', 'Time Gap']\n",
    "data_vars = googleplayclean.columns.values.tolist()\n",
    "to_keep = [i for i in data_vars if i not in cat_vars]"
   ]
  },
  {
   "cell_type": "code",
   "execution_count": 5,
   "id": "f41b5c16",
   "metadata": {},
   "outputs": [
    {
     "name": "stdout",
     "output_type": "stream",
     "text": [
      "Model Score = 0.8666699543018707\n"
     ]
    }
   ],
   "source": [
    "# dependent variable\n",
    "y = googleplayclean[['Success']]\n",
    "# independent variables\n",
    "x = googleplayclean[['Free', 'Price', 'Ad Supported', 'In App Purchases', 'Editors Choice', 'Time Gap']]\n",
    "\n",
    "os = SMOTE(random_state = 0)\n",
    "x_train, x_test, y_train, y_test = train_test_split(x, y, test_size = 0.2, random_state=0)\n",
    "columns = x_train.columns\n",
    "\n",
    "smote_data_x, smote_data_y = os.fit_resample(x_train, y_train)\n",
    "smote_data_x = pd.DataFrame(data = smote_data_x, columns = columns)\n",
    "smote_data_y = pd.DataFrame(data = smote_data_y, columns = ['Success'])\n",
    "\n",
    "# make a list of all independent features\n",
    "feature_names = smote_data_x.columns.to_list()\n",
    "model = classifier.fit(googleplayclean[feature_names].values, googleplayclean[\"Success\"].values)\n",
    "# get the scores\n",
    "score = model.score(googleplayclean[feature_names].values, googleplayclean['Success'].values)\n",
    "print(\"Model Score = {}\".format(score))\n",
    "\n",
    "# create the X with all important features only\n",
    "x = smote_data_x[feature_names]\n",
    "y = smote_data_y['Success']\n",
    "\n",
    "x = pd.get_dummies(x, columns=['Free', 'Ad Supported', 'In App Purchases', 'Editors Choice'], drop_first=True)"
   ]
  },
  {
   "cell_type": "code",
   "execution_count": 6,
   "id": "d451a80a",
   "metadata": {},
   "outputs": [
    {
     "name": "stdout",
     "output_type": "stream",
     "text": [
      "Confusion Matrix = \n",
      "[[ 7244 19684]\n",
      " [ 1941 24961]]\n",
      "Accuracy Score = 0.5982723388445105\n",
      "TNR = 0.2690136660724896\n",
      "TPR = 0.9278492305404803\n"
     ]
    }
   ],
   "source": [
    "x_train, x_test, y_train, y_test = train_test_split(x, y, test_size = 0.2, random_state = 0)\n",
    "y_pred = classifier.fit(x_train, y_train).predict(x_test)\n",
    "cm = confusion_matrix(y_test, y_pred)\n",
    "print(\"Confusion Matrix = \\n{}\".format(cm))\n",
    "ac = accuracy_score(y_test, y_pred)\n",
    "print(\"Accuracy Score = {}\".format(ac))\n",
    "print(\"TNR = {}\".format(7244/(7244+19684)))\n",
    "print(\"TPR = {}\".format(24961/(24961+1941)))"
   ]
  },
  {
   "cell_type": "markdown",
   "id": "a3457e31",
   "metadata": {},
   "source": [
    "# Using Naive Bayes on Puzzle Games"
   ]
  },
  {
   "cell_type": "code",
   "execution_count": 7,
   "id": "3bd81e40",
   "metadata": {},
   "outputs": [],
   "source": [
    "puzzle_0 = ['Puzzle']\n",
    "puzzleNotExist = ~puzzle['Category'].isin(puzzle_0)\n",
    "puzzleNotExist_rows = puzzle[puzzleNotExist]\n",
    "puzzle = puzzle.drop(puzzleNotExist_rows.index)"
   ]
  },
  {
   "cell_type": "code",
   "execution_count": 8,
   "id": "9b0de464",
   "metadata": {},
   "outputs": [],
   "source": [
    "cat_vars=['Free', 'Size', 'Ad Supported', 'In App Purchases', 'Editors Choice', 'Time Gap']\n",
    "for var in cat_vars:\n",
    "    cat_list = 'var'+'_'+var\n",
    "    cat_list = pd.get_dummies(puzzle[var], prefix=var)\n",
    "    data1 = puzzle.join(cat_list)\n",
    "    puzzle = data1\n",
    "cat_vars=['Free', 'Size', 'Ad Supported', 'In App Purchases', 'Editors Choice', 'Time Gap']\n",
    "data_vars = puzzle.columns.values.tolist()\n",
    "to_keep = [i for i in data_vars if i not in cat_vars]\n",
    "\n",
    "# dependent variable\n",
    "yP = puzzle[['Success']]\n",
    "# independent variables\n",
    "xP = puzzle[['Free', 'Price', 'Ad Supported', 'In App Purchases', 'Editors Choice', 'Time Gap']]"
   ]
  },
  {
   "cell_type": "code",
   "execution_count": 9,
   "id": "aac8d5b6",
   "metadata": {},
   "outputs": [
    {
     "name": "stdout",
     "output_type": "stream",
     "text": [
      "Model Score = 0.8372403659921192\n"
     ]
    }
   ],
   "source": [
    "# dependent variable\n",
    "yP = puzzle[['Success']]\n",
    "# independent variables\n",
    "xP = puzzle[['Free', 'Price', 'Ad Supported', 'In App Purchases', 'Editors Choice', 'Time Gap']]\n",
    "\n",
    "osP = SMOTE(random_state = 0)\n",
    "xP_train, xP_test, yP_train, yP_test = train_test_split(xP, yP, test_size = 0.2, random_state=0)\n",
    "columnsP = xP_train.columns\n",
    "\n",
    "smote_data_xP, smote_data_yP = osP.fit_resample(xP_train, yP_train)\n",
    "smote_data_xP = pd.DataFrame(data = smote_data_xP, columns = columnsP)\n",
    "smote_data_yP = pd.DataFrame(data = smote_data_yP, columns = ['Success'])\n",
    "\n",
    "# make a list of all independent features\n",
    "feature_namesP = smote_data_xP.columns.to_list()\n",
    "modelP = classifier.fit(puzzle[feature_names].values, puzzle[\"Success\"].values)\n",
    "# get the scores\n",
    "scoreP = modelP.score(puzzle[feature_names].values, puzzle['Success'].values)\n",
    "print(\"Model Score = {}\".format(scoreP))\n",
    "\n",
    "# create the X with all important features\n",
    "xP = smote_data_xP[feature_namesP]\n",
    "yP = smote_data_yP['Success']\n",
    "\n",
    "xP = pd.get_dummies(xP, columns=['Free', 'Ad Supported', 'In App Purchases', 'Editors Choice'], drop_first=True)"
   ]
  },
  {
   "cell_type": "code",
   "execution_count": 10,
   "id": "a2d07a83",
   "metadata": {},
   "outputs": [
    {
     "name": "stdout",
     "output_type": "stream",
     "text": [
      "Confusion Matrix = \n",
      "[[1241 3240]\n",
      " [ 168 4320]]\n",
      "Accuracy Score = 0.6200245289329914\n",
      "FPR = 0.2769471100200848\n",
      "TPR = 0.9625668449197861\n"
     ]
    }
   ],
   "source": [
    "# Splitting the Dataset\n",
    "xP_train, xP_test, yP_train, yP_test = train_test_split(xP, yP, test_size = 0.2, random_state = 0)\n",
    "yP_pred = classifier.fit(xP_train, yP_train).predict(xP_test)\n",
    "cmP = confusion_matrix(yP_test, yP_pred)\n",
    "print(\"Confusion Matrix = \\n{}\".format(cmP))\n",
    "acP = accuracy_score(yP_test, yP_pred)\n",
    "print(\"Accuracy Score = {}\".format(acP))\n",
    "print(\"FPR = {}\".format(1241/(1241+3240)))\n",
    "print(\"TPR = {}\".format(4320/(4320+168)))"
   ]
  },
  {
   "cell_type": "markdown",
   "id": "db7eeef5",
   "metadata": {},
   "source": [
    " # Using Naive Bayes on Arcade Games"
   ]
  },
  {
   "cell_type": "code",
   "execution_count": 11,
   "id": "d6268d2a",
   "metadata": {},
   "outputs": [],
   "source": [
    "arcade_0 = ['Arcade']\n",
    "arcadeNotExist = ~arcade['Category'].isin(arcade_0)\n",
    "arcadeNotExist_rows = arcade[arcadeNotExist]\n",
    "arcade = arcade.drop(arcadeNotExist_rows.index)"
   ]
  },
  {
   "cell_type": "code",
   "execution_count": 12,
   "id": "1ee967d6",
   "metadata": {},
   "outputs": [],
   "source": [
    "cat_vars=['Free', 'Size', 'Ad Supported', 'In App Purchases', 'Editors Choice', 'Time Gap']\n",
    "for var in cat_vars:\n",
    "    cat_list = 'var'+'_'+var\n",
    "    cat_list = pd.get_dummies(arcade[var], prefix=var)\n",
    "    data1 = arcade.join(cat_list)\n",
    "    arcade = data1\n",
    "cat_vars=['Free', 'Size', 'Ad Supported', 'In App Purchases', 'Editors Choice', 'Time Gap']\n",
    "data_vars = arcade.columns.values.tolist()\n",
    "to_keep = [i for i in data_vars if i not in cat_vars]"
   ]
  },
  {
   "cell_type": "code",
   "execution_count": 13,
   "id": "022b176c",
   "metadata": {},
   "outputs": [
    {
     "name": "stdout",
     "output_type": "stream",
     "text": [
      "Model Score = 0.8666699543018707\n"
     ]
    }
   ],
   "source": [
    "# dependent variable\n",
    "yAr = arcade[['Success']]\n",
    "# independent variables\n",
    "xAr = arcade[['Free', 'Price', 'Ad Supported', 'In App Purchases', 'Editors Choice', 'Time Gap']]\n",
    "\n",
    "osAr = SMOTE(random_state = 0)\n",
    "xAr_train, xAr_test, yAr_train, yAr_test = train_test_split(xAr, yAr, test_size = 0.2, random_state=0)\n",
    "columnsAr= xAr_train.columns\n",
    "\n",
    "smote_data_xAr, smote_data_yAr = osAr.fit_resample(xAr_train, yAr_train)\n",
    "smote_data_xAr = pd.DataFrame(data = smote_data_xAr, columns = columnsAr)\n",
    "smote_data_yAr = pd.DataFrame(data = smote_data_yAr, columns = ['Success'])\n",
    "\n",
    "# make a list of all independent features\n",
    "feature_namesAr = smote_data_xAr.columns.to_list()\n",
    "modelAr = classifier.fit(casual[feature_namesAr].values, casual[\"Success\"].values)\n",
    "# get the scores\n",
    "scoreAr = modelAr.score(casual[feature_namesAr].values, casual['Success'].values)\n",
    "print(\"Model Score = {}\".format(scoreAr))\n",
    "\n",
    "# create the X with all important features only\n",
    "xAr = smote_data_xAr[feature_names]\n",
    "yAr = smote_data_yAr['Success']\n",
    "\n",
    "xAr = pd.get_dummies(xAr, columns=['Free', 'Ad Supported', 'In App Purchases', 'Editors Choice'], drop_first=True)\n"
   ]
  },
  {
   "cell_type": "code",
   "execution_count": 14,
   "id": "d58a8581",
   "metadata": {},
   "outputs": [
    {
     "name": "stdout",
     "output_type": "stream",
     "text": [
      "Confusion Matrix = \n",
      "[[1077 3357]\n",
      " [ 119 4325]]\n",
      "Accuracy Score = 0.6084703762108583\n",
      "TNR = 0.2428958051420839\n",
      "TPR = 0.9732223222322233\n"
     ]
    }
   ],
   "source": [
    "# Splitting the Dataset\n",
    "xAr_train, xAr_test, yAr_train, yAr_test = train_test_split(xAr, yAr, test_size = 0.2, random_state = 0)\n",
    "yAr_pred = classifier.fit(xAr_train, yAr_train).predict(xAr_test)\n",
    "cmAr = confusion_matrix(yAr_test, yAr_pred)\n",
    "print(\"Confusion Matrix = \\n{}\".format(cmAr))\n",
    "acAr = accuracy_score(yAr_test, yAr_pred)\n",
    "print(\"Accuracy Score = {}\".format(acAr))\n",
    "print(\"TNR = {}\".format(1077/(1077+3357)))\n",
    "print(\"TPR = {}\".format(4325/(4325+119)))"
   ]
  },
  {
   "cell_type": "markdown",
   "id": "43000282",
   "metadata": {},
   "source": [
    "# Using Naive Bayes on Casual Games"
   ]
  },
  {
   "cell_type": "code",
   "execution_count": 15,
   "id": "91c9e1d2",
   "metadata": {},
   "outputs": [],
   "source": [
    "casual_0 = ['Casual']\n",
    "casualNotExist = ~casual['Category'].isin(casual_0)\n",
    "casualNotExist_rows = casual[casualNotExist]\n",
    "casual = casual.drop(casualNotExist_rows.index)"
   ]
  },
  {
   "cell_type": "code",
   "execution_count": 16,
   "id": "f4ec88df",
   "metadata": {},
   "outputs": [],
   "source": [
    "cat_vars=['Free', 'Size', 'Ad Supported', 'In App Purchases', 'Editors Choice', 'Time Gap']\n",
    "for var in cat_vars:\n",
    "    cat_list = 'var'+'_'+var\n",
    "    cat_list = pd.get_dummies(casual[var], prefix=var)\n",
    "    data1 = casual.join(cat_list)\n",
    "    casual = data1\n",
    "cat_vars=['Free', 'Size', 'Ad Supported', 'In App Purchases', 'Editors Choice', 'Time Gap']\n",
    "data_vars = casual.columns.values.tolist()\n",
    "to_keep = [i for i in data_vars if i not in cat_vars]"
   ]
  },
  {
   "cell_type": "code",
   "execution_count": 17,
   "id": "c69b4929",
   "metadata": {},
   "outputs": [
    {
     "name": "stdout",
     "output_type": "stream",
     "text": [
      "Model Score = 0.797181461571989\n"
     ]
    }
   ],
   "source": [
    "# dependent variable\n",
    "yC = casual[['Success']]\n",
    "# independent variables\n",
    "xC = casual[['Free', 'Price', 'Ad Supported', 'In App Purchases', 'Editors Choice', 'Time Gap']]\n",
    "osC = SMOTE(random_state = 0)\n",
    "xC_train, xC_test, yC_train, yC_test = train_test_split(xC, yC, test_size = 0.2, random_state=0)\n",
    "columnsC = xC_train.columns\n",
    "\n",
    "smote_data_xC, smote_data_yC = osC.fit_resample(xC_train, yC_train)\n",
    "smote_data_xC = pd.DataFrame(data = smote_data_xC, columns = columnsC)\n",
    "smote_data_yC = pd.DataFrame(data = smote_data_yC, columns = ['Success'])\n",
    "\n",
    "# make a list of all independent features\n",
    "feature_namesC = smote_data_xC.columns.to_list()\n",
    "modelC = classifier.fit(casual[feature_names].values, casual[\"Success\"].values)\n",
    "# get the scores\n",
    "scoreC = modelC.score(casual[feature_namesC].values, casual['Success'].values)\n",
    "print(\"Model Score = {}\".format(scoreC))\n",
    "\n",
    "# create the X with all important features only\n",
    "xC = smote_data_xC[feature_namesC]\n",
    "yC = smote_data_yC['Success']\n",
    "xC = pd.get_dummies(xC, columns=['Free', 'Ad Supported', 'In App Purchases', 'Editors Choice'], drop_first=True)"
   ]
  },
  {
   "cell_type": "code",
   "execution_count": 18,
   "id": "c91e5b70",
   "metadata": {},
   "outputs": [
    {
     "name": "stdout",
     "output_type": "stream",
     "text": [
      "Confusion Matrix = \n",
      "[[ 773 3303]\n",
      " [  73 4004]]\n",
      "Accuracy Score = 0.5859192935115908\n",
      "TNR = 0.18964671246319922\n",
      "TPR = 0.9820946774589159\n"
     ]
    }
   ],
   "source": [
    "# Splitting the Dataset\n",
    "xC_train, xC_test, yC_train, yC_test = train_test_split(xC, yC, test_size = 0.2, random_state = 0)\n",
    "yC_pred = classifier.fit(xC_train, yC_train).predict(xC_test)\n",
    "cmC = confusion_matrix(yC_test, yC_pred)\n",
    "print(\"Confusion Matrix = \\n{}\".format(cmC))\n",
    "acC = accuracy_score(yC_test, yC_pred)\n",
    "print(\"Accuracy Score = {}\".format(acC))\n",
    "print(\"TNR = {}\".format(773/(773+3303)))\n",
    "print(\"TPR = {}\".format(4004/(4004+73)))"
   ]
  },
  {
   "cell_type": "markdown",
   "id": "48c5aca2",
   "metadata": {},
   "source": [
    "# Using Naive Bayes on Simulation Games"
   ]
  },
  {
   "cell_type": "code",
   "execution_count": 19,
   "id": "59354d40",
   "metadata": {},
   "outputs": [],
   "source": [
    "sim_0 = ['Simulation']\n",
    "simNotExist = ~sim['Category'].isin(sim_0)\n",
    "simNotExist_rows = sim[simNotExist]\n",
    "sim = sim.drop(simNotExist_rows.index)"
   ]
  },
  {
   "cell_type": "code",
   "execution_count": 20,
   "id": "29d26d99",
   "metadata": {},
   "outputs": [],
   "source": [
    "cat_vars=['Free', 'Size', 'Ad Supported', 'In App Purchases', 'Editors Choice', 'Time Gap']\n",
    "for var in cat_vars:\n",
    "    cat_list = 'var'+'_'+var\n",
    "    cat_list = pd.get_dummies(sim[var], prefix=var)\n",
    "    data1 = sim.join(cat_list)\n",
    "    sim = data1\n",
    "cat_vars=['Free', 'Size', 'Ad Supported', 'In App Purchases', 'Editors Choice', 'Time Gap']\n",
    "data_vars = sim.columns.values.tolist()\n",
    "to_keep = [i for i in data_vars if i not in cat_vars]"
   ]
  },
  {
   "cell_type": "code",
   "execution_count": 21,
   "id": "1466cbc8",
   "metadata": {},
   "outputs": [
    {
     "name": "stdout",
     "output_type": "stream",
     "text": [
      "Model Score = 0.8952171522814734\n"
     ]
    }
   ],
   "source": [
    "# dependent variable\n",
    "yS = sim[['Success']]\n",
    "# independent variables\n",
    "xS = sim[['Free', 'Price', 'Ad Supported', 'In App Purchases', 'Editors Choice', 'Time Gap']]\n",
    "\n",
    "osS = SMOTE(random_state = 0)\n",
    "xS_train, xS_test, yS_train, yS_test = train_test_split(xS, yS, test_size = 0.2, random_state=0)\n",
    "columnsS = xS_train.columns\n",
    "\n",
    "smote_data_xS, smote_data_yS = osS.fit_resample(xS_train, yS_train)\n",
    "smote_data_xS = pd.DataFrame(data = smote_data_xS, columns = columnsS)\n",
    "smote_data_yS = pd.DataFrame(data = smote_data_yS, columns = ['Success'])\n",
    "\n",
    "# make a list of all independent features\n",
    "feature_namesS = smote_data_xS.columns.to_list()\n",
    "modelS = classifier.fit(sim[feature_names].values, sim[\"Success\"].values)\n",
    "# get the scores\n",
    "scoreS = modelS.score(sim[feature_namesS].values, sim['Success'].values)\n",
    "print(\"Model Score = {}\".format(scoreS))\n",
    "\n",
    "# create the X with all important features only\n",
    "xS = smote_data_xS[feature_namesS]\n",
    "yS = smote_data_yS['Success']\n",
    "xS = pd.get_dummies(xS, columns=['Free', 'Ad Supported', 'In App Purchases', 'Editors Choice'], drop_first=True)"
   ]
  },
  {
   "cell_type": "code",
   "execution_count": 22,
   "id": "20cdf2b7",
   "metadata": {},
   "outputs": [
    {
     "name": "stdout",
     "output_type": "stream",
     "text": [
      "Confusion Matrix = \n",
      "[[ 376 2179]\n",
      " [  90 2546]]\n",
      "Accuracy Score = 0.5628973222885764\n",
      "TNR = 0.1471624266144814\n",
      "TPR = 0.9658573596358119\n"
     ]
    }
   ],
   "source": [
    "# Splitting the Dataset\n",
    "xS_train, xS_test, yS_train, yS_test = train_test_split(xS, yS, test_size = 0.2, random_state = 0)\n",
    "yS_pred = classifier.fit(xS_train, yS_train).predict(xS_test)\n",
    "cmS = confusion_matrix(yS_test, yS_pred)\n",
    "print(\"Confusion Matrix = \\n{}\".format(cmS))\n",
    "acS = accuracy_score(yS_test, yS_pred)\n",
    "print(\"Accuracy Score = {}\".format(acS))\n",
    "print(\"TNR = {}\".format(376/(376+2179)))\n",
    "print(\"TPR = {}\".format(2546/(2546+90)))"
   ]
  },
  {
   "cell_type": "markdown",
   "id": "c3f4b46d",
   "metadata": {},
   "source": [
    "# Using Naive Bayes on Action Games"
   ]
  },
  {
   "cell_type": "code",
   "execution_count": 23,
   "id": "9a86fc89",
   "metadata": {},
   "outputs": [],
   "source": [
    "action_0 = ['Action']\n",
    "actionNotExist = ~action['Category'].isin(action_0)\n",
    "actionNotExist_rows = action[actionNotExist]\n",
    "action = action.drop(actionNotExist_rows.index)"
   ]
  },
  {
   "cell_type": "code",
   "execution_count": 24,
   "id": "48230f1f",
   "metadata": {},
   "outputs": [],
   "source": [
    "cat_vars=['Free', 'Size', 'Ad Supported', 'In App Purchases', 'Editors Choice', 'Time Gap']\n",
    "for var in cat_vars:\n",
    "    cat_list = 'var'+'_'+var\n",
    "    cat_list = pd.get_dummies(action[var], prefix=var)\n",
    "    data1 = action.join(cat_list)\n",
    "    action = data1\n",
    "cat_vars=['Free', 'Size', 'Ad Supported', 'In App Purchases', 'Editors Choice', 'Time Gap']\n",
    "data_vars = action.columns.values.tolist()\n",
    "to_keep = [i for i in data_vars if i not in cat_vars]"
   ]
  },
  {
   "cell_type": "code",
   "execution_count": 25,
   "id": "029db105",
   "metadata": {},
   "outputs": [
    {
     "name": "stdout",
     "output_type": "stream",
     "text": [
      "Model Score = 0.9047619047619048\n"
     ]
    }
   ],
   "source": [
    "# dependent variable\n",
    "yA = action[['Success']]\n",
    "# independent variables\n",
    "xA = action[['Free', 'Price', 'Ad Supported', 'In App Purchases', 'Editors Choice', 'Time Gap']]\n",
    "\n",
    "osA = SMOTE(random_state = 0)\n",
    "xA_train, xA_test, yA_train, yA_test = train_test_split(xA, yA, test_size = 0.2, random_state=0)\n",
    "columnsA = xA_train.columns\n",
    "\n",
    "smote_data_xA, smote_data_yA = osA.fit_resample(xA_train, yA_train)\n",
    "smote_data_xA = pd.DataFrame(data = smote_data_xA, columns = columnsA)\n",
    "smote_data_yA = pd.DataFrame(data = smote_data_yA, columns = ['Success'])\n",
    "\n",
    "# make a list of all independent features\n",
    "feature_namesA = smote_data_xA.columns.to_list()\n",
    "modelA = classifier.fit(action[feature_names].values, action[\"Success\"].values)\n",
    "# get the scores\n",
    "scoreA = modelA.score(action[feature_namesA].values, action['Success'].values)\n",
    "print(\"Model Score = {}\".format(scoreA))\n",
    "\n",
    "# create the X with all important features only\n",
    "xA = smote_data_xA[feature_namesA]\n",
    "yA = smote_data_yA['Success']\n",
    "xA = pd.get_dummies(xA, columns=['Free', 'Ad Supported', 'In App Purchases', 'Editors Choice'], drop_first=True)"
   ]
  },
  {
   "cell_type": "code",
   "execution_count": 26,
   "id": "5b28406f",
   "metadata": {},
   "outputs": [
    {
     "name": "stdout",
     "output_type": "stream",
     "text": [
      "Confusion Matrix = \n",
      "[[1790  673]\n",
      " [ 392 2071]]\n",
      "Accuracy Score = 0.7838002436053593\n",
      "TNR = 0.72675598863175\n",
      "TPR = 0.8408444985789687\n"
     ]
    }
   ],
   "source": [
    "# Splitting the Dataset\n",
    "xA_train, xA_test, yA_train, yA_test = train_test_split(xA, yA, test_size = 0.2, random_state = 0)\n",
    "yA_pred = classifier.fit(xA_train, yA_train).predict(xA_test)\n",
    "cmA = confusion_matrix(yA_test, yA_pred)\n",
    "print(\"Confusion Matrix = \\n{}\".format(cmA))\n",
    "acA = accuracy_score(yA_test, yA_pred)\n",
    "print(\"Accuracy Score = {}\".format(acA))\n",
    "print(\"TNR = {}\".format(1790/(1790+673)))\n",
    "print(\"TPR = {}\".format(2071/(2071+392)))"
   ]
  },
  {
   "cell_type": "markdown",
   "id": "278cf1d5",
   "metadata": {},
   "source": [
    "# Using Naive Bayes on Adventure Games"
   ]
  },
  {
   "cell_type": "code",
   "execution_count": 27,
   "id": "185ae210",
   "metadata": {},
   "outputs": [],
   "source": [
    "adv_0 = ['Adventure']\n",
    "advNotExist = ~adv['Category'].isin(adv_0)\n",
    "advNotExist_rows = adv[advNotExist]\n",
    "adv = adv.drop(advNotExist_rows.index)"
   ]
  },
  {
   "cell_type": "code",
   "execution_count": 28,
   "id": "d08df667",
   "metadata": {},
   "outputs": [],
   "source": [
    "cat_vars=['Free', 'Size', 'Ad Supported', 'In App Purchases', 'Editors Choice', 'Time Gap']\n",
    "for var in cat_vars:\n",
    "    cat_list = 'var'+'_'+var\n",
    "    cat_list = pd.get_dummies(adv[var], prefix=var)\n",
    "    data1 = adv.join(cat_list)\n",
    "    adv = data1\n",
    "cat_vars=['Free', 'Size', 'Ad Supported', 'In App Purchases', 'Editors Choice', 'Time Gap']\n",
    "data_vars = adv.columns.values.tolist()\n",
    "to_keep = [i for i in data_vars if i not in cat_vars]"
   ]
  },
  {
   "cell_type": "code",
   "execution_count": 29,
   "id": "b542f697",
   "metadata": {},
   "outputs": [
    {
     "name": "stdout",
     "output_type": "stream",
     "text": [
      "Model Score = 0.9047619047619048\n"
     ]
    }
   ],
   "source": [
    "# dependent variable\n",
    "yAdv = adv[['Success']]\n",
    "# independent variables\n",
    "xAdv = adv[['Free', 'Price', 'Ad Supported', 'In App Purchases', 'Editors Choice', 'Time Gap']]\n",
    "\n",
    "osAdv = SMOTE(random_state = 0)\n",
    "xAdv_train, xAdv_test, yAdv_train, yAdv_test = train_test_split(xAdv, yAdv, test_size = 0.2, random_state=0)\n",
    "columnsAdv = xAdv_train.columns\n",
    "\n",
    "smote_data_xAdv, smote_data_yAdv = osAdv.fit_resample(xAdv_train, yAdv_train)\n",
    "smote_data_xAdv = pd.DataFrame(data = smote_data_xAdv, columns = columnsAdv)\n",
    "smote_data_yAdv = pd.DataFrame(data = smote_data_yAdv, columns = ['Success'])\n",
    "\n",
    "# make a list of all independent features\n",
    "feature_namesAdv = smote_data_xAdv.columns.to_list()\n",
    "modelAdv = classifier.fit(adv[feature_names].values, adv[\"Success\"].values)\n",
    "# get the scores\n",
    "scoreAdv = modelAdv.score(action[feature_namesAdv].values, action['Success'].values)\n",
    "print(\"Model Score = {}\".format(scoreAdv))\n",
    "\n",
    "# create the X with all important features only\n",
    "xAdv = smote_data_xAdv[feature_namesAdv]\n",
    "yAdv = smote_data_yAdv['Success']\n",
    "xAdv = pd.get_dummies(xAdv, columns=['Free', 'Ad Supported', 'In App Purchases', 'Editors Choice'], drop_first=True)"
   ]
  },
  {
   "cell_type": "code",
   "execution_count": 30,
   "id": "15bdb9d1",
   "metadata": {},
   "outputs": [
    {
     "name": "stdout",
     "output_type": "stream",
     "text": [
      "Confusion Matrix = \n",
      "[[1886  400]\n",
      " [ 326 1915]]\n",
      "Accuracy Score = 0.8396288933068257\n",
      "TNR = 0.8250218722659668\n",
      "TPR = 0.854529228023204\n"
     ]
    }
   ],
   "source": [
    "# Splitting the Dataset\n",
    "xAdv_train, xAdv_test, yAdv_train, yAdv_test = train_test_split(xAdv, yAdv, test_size = 0.2, random_state = 0)\n",
    "yAdv_pred = classifier.fit(xAdv_train, yAdv_train).predict(xAdv_test)\n",
    "cmAdv = confusion_matrix(yAdv_test, yAdv_pred)\n",
    "print(\"Confusion Matrix = \\n{}\".format(cmAdv))\n",
    "acAdv = accuracy_score(yAdv_test, yAdv_pred)\n",
    "print(\"Accuracy Score = {}\".format(acAdv))\n",
    "print(\"TNR = {}\".format(1886/(1886+400)))\n",
    "print(\"TPR = {}\".format(1915/(1915+326)))"
   ]
  },
  {
   "cell_type": "code",
   "execution_count": null,
   "id": "09ada9c9",
   "metadata": {},
   "outputs": [],
   "source": []
  }
 ],
 "metadata": {
  "kernelspec": {
   "display_name": "Python 3 (ipykernel)",
   "language": "python",
   "name": "python3"
  },
  "language_info": {
   "codemirror_mode": {
    "name": "ipython",
    "version": 3
   },
   "file_extension": ".py",
   "mimetype": "text/x-python",
   "name": "python",
   "nbconvert_exporter": "python",
   "pygments_lexer": "ipython3",
   "version": "3.9.7"
  }
 },
 "nbformat": 4,
 "nbformat_minor": 5
}
