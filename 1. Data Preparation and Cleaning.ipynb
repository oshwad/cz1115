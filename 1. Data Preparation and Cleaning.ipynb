{
 "cells": [
  {
   "cell_type": "code",
   "execution_count": 1,
   "id": "d6c571d5",
   "metadata": {},
   "outputs": [],
   "source": [
    "import numpy as np\n",
    "import pandas as pd\n",
    "import seaborn as sb\n",
    "import matplotlib.pyplot as plt # we only need pyplot\n",
    "sb.set() # set the default Seaborn style for graphics"
   ]
  },
  {
   "cell_type": "code",
   "execution_count": 2,
   "id": "6fd493e7",
   "metadata": {},
   "outputs": [],
   "source": [
    "df = pd.read_csv('Google-Playstore-32K.csv')"
   ]
  },
  {
   "cell_type": "code",
   "execution_count": 3,
   "id": "9566568d",
   "metadata": {},
   "outputs": [
    {
     "data": {
      "text/html": [
       "<div>\n",
       "<style scoped>\n",
       "    .dataframe tbody tr th:only-of-type {\n",
       "        vertical-align: middle;\n",
       "    }\n",
       "\n",
       "    .dataframe tbody tr th {\n",
       "        vertical-align: top;\n",
       "    }\n",
       "\n",
       "    .dataframe thead th {\n",
       "        text-align: right;\n",
       "    }\n",
       "</style>\n",
       "<table border=\"1\" class=\"dataframe\">\n",
       "  <thead>\n",
       "    <tr style=\"text-align: right;\">\n",
       "      <th></th>\n",
       "      <th>AppName</th>\n",
       "      <th>Category</th>\n",
       "      <th>Rating</th>\n",
       "      <th>Reviews</th>\n",
       "      <th>Installs</th>\n",
       "      <th>Size</th>\n",
       "      <th>Price</th>\n",
       "      <th>ContentRating</th>\n",
       "      <th>LastUpdated</th>\n",
       "      <th>MinimumVersion</th>\n",
       "      <th>LatestVersion</th>\n",
       "    </tr>\n",
       "  </thead>\n",
       "  <tbody>\n",
       "    <tr>\n",
       "      <th>0</th>\n",
       "      <td>DoorDash - Food Delivery</td>\n",
       "      <td>FOOD_AND_DRINK</td>\n",
       "      <td>4.548561573</td>\n",
       "      <td>305034.0</td>\n",
       "      <td>5,000,000+</td>\n",
       "      <td>Varies with device</td>\n",
       "      <td>0</td>\n",
       "      <td>Everyone</td>\n",
       "      <td>March 29, 2019</td>\n",
       "      <td>Varies with device</td>\n",
       "      <td>Varies with device</td>\n",
       "    </tr>\n",
       "    <tr>\n",
       "      <th>1</th>\n",
       "      <td>TripAdvisor Hotels Flights Restaurants Attract...</td>\n",
       "      <td>TRAVEL_AND_LOCAL</td>\n",
       "      <td>4.400671482</td>\n",
       "      <td>1207922.0</td>\n",
       "      <td>100,000,000+</td>\n",
       "      <td>Varies with device</td>\n",
       "      <td>0</td>\n",
       "      <td>Everyone</td>\n",
       "      <td>March 29, 2019</td>\n",
       "      <td>Varies with device</td>\n",
       "      <td>Varies with device</td>\n",
       "    </tr>\n",
       "    <tr>\n",
       "      <th>2</th>\n",
       "      <td>Peapod</td>\n",
       "      <td>SHOPPING</td>\n",
       "      <td>3.656329393</td>\n",
       "      <td>1967.0</td>\n",
       "      <td>100,000+</td>\n",
       "      <td>1.4M</td>\n",
       "      <td>0</td>\n",
       "      <td>Everyone</td>\n",
       "      <td>September 20, 2018</td>\n",
       "      <td>5.0 and up</td>\n",
       "      <td>2.2.0</td>\n",
       "    </tr>\n",
       "    <tr>\n",
       "      <th>3</th>\n",
       "      <td>foodpanda - Local Food Delivery</td>\n",
       "      <td>FOOD_AND_DRINK</td>\n",
       "      <td>4.107232571</td>\n",
       "      <td>389154.0</td>\n",
       "      <td>10,000,000+</td>\n",
       "      <td>16M</td>\n",
       "      <td>0</td>\n",
       "      <td>Everyone</td>\n",
       "      <td>March 22, 2019</td>\n",
       "      <td>4.2 and up</td>\n",
       "      <td>4.18.2</td>\n",
       "    </tr>\n",
       "    <tr>\n",
       "      <th>4</th>\n",
       "      <td>My CookBook Pro (Ad Free)</td>\n",
       "      <td>FOOD_AND_DRINK</td>\n",
       "      <td>4.647752285</td>\n",
       "      <td>2291.0</td>\n",
       "      <td>10,000+</td>\n",
       "      <td>Varies with device</td>\n",
       "      <td>$5.99</td>\n",
       "      <td>Everyone</td>\n",
       "      <td>April 1, 2019</td>\n",
       "      <td>Varies with device</td>\n",
       "      <td>Varies with device</td>\n",
       "    </tr>\n",
       "    <tr>\n",
       "      <th>...</th>\n",
       "      <td>...</td>\n",
       "      <td>...</td>\n",
       "      <td>...</td>\n",
       "      <td>...</td>\n",
       "      <td>...</td>\n",
       "      <td>...</td>\n",
       "      <td>...</td>\n",
       "      <td>...</td>\n",
       "      <td>...</td>\n",
       "      <td>...</td>\n",
       "      <td>...</td>\n",
       "    </tr>\n",
       "    <tr>\n",
       "      <th>31995</th>\n",
       "      <td>KG Newsroom</td>\n",
       "      <td>NEWS_AND_MAGAZINES</td>\n",
       "      <td>4.5</td>\n",
       "      <td>8.0</td>\n",
       "      <td>50+</td>\n",
       "      <td>9.6M</td>\n",
       "      <td>0</td>\n",
       "      <td>Everyone</td>\n",
       "      <td>March 28, 2019</td>\n",
       "      <td>4.1 and up</td>\n",
       "      <td>1.1.15</td>\n",
       "    </tr>\n",
       "    <tr>\n",
       "      <th>31996</th>\n",
       "      <td>Dedi App 19</td>\n",
       "      <td>GAME_SIMULATION</td>\n",
       "      <td>3.521126747</td>\n",
       "      <td>71.0</td>\n",
       "      <td>10,000+</td>\n",
       "      <td>6.5M</td>\n",
       "      <td>0</td>\n",
       "      <td>Everyone</td>\n",
       "      <td>January 22, 2019</td>\n",
       "      <td>4.4 and up</td>\n",
       "      <td>1.0.2274</td>\n",
       "    </tr>\n",
       "    <tr>\n",
       "      <th>31997</th>\n",
       "      <td>Dedi App 17</td>\n",
       "      <td>GAME_SIMULATION</td>\n",
       "      <td>3.994588852</td>\n",
       "      <td>924.0</td>\n",
       "      <td>100,000+</td>\n",
       "      <td>7.9M</td>\n",
       "      <td>0</td>\n",
       "      <td>Everyone</td>\n",
       "      <td>February 17, 2017</td>\n",
       "      <td>4.0.3 and up</td>\n",
       "      <td>1.1.2043</td>\n",
       "    </tr>\n",
       "    <tr>\n",
       "      <th>31998</th>\n",
       "      <td>Right Angle Triangle Solver</td>\n",
       "      <td>TOOLS</td>\n",
       "      <td>4.25</td>\n",
       "      <td>1796.0</td>\n",
       "      <td>100,000+</td>\n",
       "      <td>6.8M</td>\n",
       "      <td>0</td>\n",
       "      <td>Everyone</td>\n",
       "      <td>December 15, 2018</td>\n",
       "      <td>4.1 and up</td>\n",
       "      <td>2.0.5</td>\n",
       "    </tr>\n",
       "    <tr>\n",
       "      <th>31999</th>\n",
       "      <td>Gummy Pop: Chain Reaction Game</td>\n",
       "      <td>GAME_PUZZLE</td>\n",
       "      <td>4.224199295</td>\n",
       "      <td>3372.0</td>\n",
       "      <td>100,000+</td>\n",
       "      <td>35M</td>\n",
       "      <td>0</td>\n",
       "      <td>Everyone</td>\n",
       "      <td>September 27, 2016</td>\n",
       "      <td>4.0 and up</td>\n",
       "      <td>1.2.10</td>\n",
       "    </tr>\n",
       "  </tbody>\n",
       "</table>\n",
       "<p>32000 rows × 11 columns</p>\n",
       "</div>"
      ],
      "text/plain": [
       "                                                 AppName            Category  \\\n",
       "0                               DoorDash - Food Delivery      FOOD_AND_DRINK   \n",
       "1      TripAdvisor Hotels Flights Restaurants Attract...    TRAVEL_AND_LOCAL   \n",
       "2                                                 Peapod            SHOPPING   \n",
       "3                        foodpanda - Local Food Delivery      FOOD_AND_DRINK   \n",
       "4                              My CookBook Pro (Ad Free)      FOOD_AND_DRINK   \n",
       "...                                                  ...                 ...   \n",
       "31995                                        KG Newsroom  NEWS_AND_MAGAZINES   \n",
       "31996                                        Dedi App 19     GAME_SIMULATION   \n",
       "31997                                        Dedi App 17     GAME_SIMULATION   \n",
       "31998                        Right Angle Triangle Solver               TOOLS   \n",
       "31999                     Gummy Pop: Chain Reaction Game         GAME_PUZZLE   \n",
       "\n",
       "            Rating    Reviews      Installs                Size  Price  \\\n",
       "0      4.548561573   305034.0    5,000,000+  Varies with device      0   \n",
       "1      4.400671482  1207922.0  100,000,000+  Varies with device      0   \n",
       "2      3.656329393     1967.0      100,000+                1.4M      0   \n",
       "3      4.107232571   389154.0   10,000,000+                 16M      0   \n",
       "4      4.647752285     2291.0       10,000+  Varies with device  $5.99   \n",
       "...            ...        ...           ...                 ...    ...   \n",
       "31995          4.5        8.0           50+                9.6M      0   \n",
       "31996  3.521126747       71.0       10,000+                6.5M      0   \n",
       "31997  3.994588852      924.0      100,000+                7.9M      0   \n",
       "31998         4.25     1796.0      100,000+                6.8M      0   \n",
       "31999  4.224199295     3372.0      100,000+                 35M      0   \n",
       "\n",
       "      ContentRating         LastUpdated      MinimumVersion  \\\n",
       "0          Everyone      March 29, 2019  Varies with device   \n",
       "1          Everyone      March 29, 2019  Varies with device   \n",
       "2          Everyone  September 20, 2018          5.0 and up   \n",
       "3          Everyone      March 22, 2019          4.2 and up   \n",
       "4          Everyone       April 1, 2019  Varies with device   \n",
       "...             ...                 ...                 ...   \n",
       "31995      Everyone      March 28, 2019          4.1 and up   \n",
       "31996      Everyone    January 22, 2019          4.4 and up   \n",
       "31997      Everyone   February 17, 2017        4.0.3 and up   \n",
       "31998      Everyone   December 15, 2018          4.1 and up   \n",
       "31999      Everyone  September 27, 2016          4.0 and up   \n",
       "\n",
       "            LatestVersion  \n",
       "0      Varies with device  \n",
       "1      Varies with device  \n",
       "2                   2.2.0  \n",
       "3                  4.18.2  \n",
       "4      Varies with device  \n",
       "...                   ...  \n",
       "31995              1.1.15  \n",
       "31996            1.0.2274  \n",
       "31997            1.1.2043  \n",
       "31998               2.0.5  \n",
       "31999              1.2.10  \n",
       "\n",
       "[32000 rows x 11 columns]"
      ]
     },
     "execution_count": 3,
     "metadata": {},
     "output_type": "execute_result"
    }
   ],
   "source": [
    "pd.set_option('display.max_rows', 10)\n",
    "df.columns = df.columns.str.replace(' ', '')\n",
    "df"
   ]
  },
  {
   "cell_type": "markdown",
   "id": "b53e2c59",
   "metadata": {},
   "source": [
    "## Drop columns we don't need"
   ]
  },
  {
   "cell_type": "code",
   "execution_count": 4,
   "id": "9b27c02e",
   "metadata": {},
   "outputs": [],
   "source": [
    "df.drop(['MinimumVersion', 'LatestVersion'], axis=1, inplace=True)"
   ]
  },
  {
   "cell_type": "markdown",
   "id": "d665c6fb",
   "metadata": {},
   "source": [
    "## Drop rows containing NA"
   ]
  },
  {
   "cell_type": "code",
   "execution_count": 5,
   "id": "bc480260",
   "metadata": {},
   "outputs": [
    {
     "data": {
      "text/plain": [
       "AppName          0\n",
       "Category         0\n",
       "Rating           0\n",
       "Reviews          1\n",
       "Installs         0\n",
       "Size             0\n",
       "Price            0\n",
       "ContentRating    0\n",
       "LastUpdated      0\n",
       "dtype: int64"
      ]
     },
     "execution_count": 5,
     "metadata": {},
     "output_type": "execute_result"
    }
   ],
   "source": [
    "df.isna().sum()"
   ]
  },
  {
   "cell_type": "code",
   "execution_count": 6,
   "id": "a6f8653e",
   "metadata": {},
   "outputs": [],
   "source": [
    "df = pd.DataFrame.dropna(df)"
   ]
  },
  {
   "cell_type": "markdown",
   "id": "f6e57dd3",
   "metadata": {},
   "source": [
    "## Remove duplicate apps"
   ]
  },
  {
   "cell_type": "code",
   "execution_count": 7,
   "id": "cc7ff037",
   "metadata": {},
   "outputs": [
    {
     "data": {
      "text/plain": [
       "1"
      ]
     },
     "execution_count": 7,
     "metadata": {},
     "output_type": "execute_result"
    }
   ],
   "source": [
    "df.duplicated().sum()"
   ]
  },
  {
   "cell_type": "code",
   "execution_count": 8,
   "id": "9520a19a",
   "metadata": {},
   "outputs": [
    {
     "data": {
      "text/plain": [
       "0"
      ]
     },
     "execution_count": 8,
     "metadata": {},
     "output_type": "execute_result"
    }
   ],
   "source": [
    "df = df.drop_duplicates(keep='first').reset_index().drop('index',axis=1)\n",
    "df.duplicated().sum()"
   ]
  },
  {
   "cell_type": "markdown",
   "id": "8c6443a4",
   "metadata": {},
   "source": [
    "## Clean 'ContentRating' column"
   ]
  },
  {
   "cell_type": "code",
   "execution_count": 9,
   "id": "0601fcb9",
   "metadata": {},
   "outputs": [
    {
     "data": {
      "text/plain": [
       "Everyone           27454\n",
       "Teen                2860\n",
       "Everyone 10+        1054\n",
       "Mature 17+           622\n",
       "Unrated                3\n",
       "Adults only 18+        3\n",
       "$0.99                  1\n",
       "0                      1\n",
       "Name: ContentRating, dtype: int64"
      ]
     },
     "execution_count": 9,
     "metadata": {},
     "output_type": "execute_result"
    }
   ],
   "source": [
    "df['ContentRating'].value_counts()"
   ]
  },
  {
   "cell_type": "code",
   "execution_count": 10,
   "id": "4359be4f",
   "metadata": {},
   "outputs": [
    {
     "data": {
      "text/html": [
       "<div>\n",
       "<style scoped>\n",
       "    .dataframe tbody tr th:only-of-type {\n",
       "        vertical-align: middle;\n",
       "    }\n",
       "\n",
       "    .dataframe tbody tr th {\n",
       "        vertical-align: top;\n",
       "    }\n",
       "\n",
       "    .dataframe thead th {\n",
       "        text-align: right;\n",
       "    }\n",
       "</style>\n",
       "<table border=\"1\" class=\"dataframe\">\n",
       "  <thead>\n",
       "    <tr style=\"text-align: right;\">\n",
       "      <th></th>\n",
       "      <th>AppName</th>\n",
       "      <th>Category</th>\n",
       "      <th>Rating</th>\n",
       "      <th>Reviews</th>\n",
       "      <th>Installs</th>\n",
       "      <th>Size</th>\n",
       "      <th>Price</th>\n",
       "      <th>ContentRating</th>\n",
       "      <th>LastUpdated</th>\n",
       "    </tr>\n",
       "  </thead>\n",
       "  <tbody>\n",
       "    <tr>\n",
       "      <th>13503</th>\n",
       "      <td>Never have I ever 18+</td>\n",
       "      <td>)</td>\n",
       "      <td>GAME_STRATEGY</td>\n",
       "      <td>4.0</td>\n",
       "      <td>6</td>\n",
       "      <td>100+</td>\n",
       "      <td>2.4M</td>\n",
       "      <td>$0.99</td>\n",
       "      <td>Mature 17+</td>\n",
       "    </tr>\n",
       "  </tbody>\n",
       "</table>\n",
       "</div>"
      ],
      "text/plain": [
       "                      AppName Category         Rating  Reviews Installs  Size  \\\n",
       "13503  Never have I ever 18+         )  GAME_STRATEGY      4.0        6  100+   \n",
       "\n",
       "      Price ContentRating LastUpdated  \n",
       "13503  2.4M         $0.99  Mature 17+  "
      ]
     },
     "execution_count": 10,
     "metadata": {},
     "output_type": "execute_result"
    }
   ],
   "source": [
    "df.loc[df['ContentRating'] == '$0.99']"
   ]
  },
  {
   "cell_type": "code",
   "execution_count": 11,
   "id": "b6326d29",
   "metadata": {},
   "outputs": [
    {
     "data": {
      "text/html": [
       "<div>\n",
       "<style scoped>\n",
       "    .dataframe tbody tr th:only-of-type {\n",
       "        vertical-align: middle;\n",
       "    }\n",
       "\n",
       "    .dataframe tbody tr th {\n",
       "        vertical-align: top;\n",
       "    }\n",
       "\n",
       "    .dataframe thead th {\n",
       "        text-align: right;\n",
       "    }\n",
       "</style>\n",
       "<table border=\"1\" class=\"dataframe\">\n",
       "  <thead>\n",
       "    <tr style=\"text-align: right;\">\n",
       "      <th></th>\n",
       "      <th>AppName</th>\n",
       "      <th>Category</th>\n",
       "      <th>Rating</th>\n",
       "      <th>Reviews</th>\n",
       "      <th>Installs</th>\n",
       "      <th>Size</th>\n",
       "      <th>Price</th>\n",
       "      <th>ContentRating</th>\n",
       "      <th>LastUpdated</th>\n",
       "    </tr>\n",
       "  </thead>\n",
       "  <tbody>\n",
       "  </tbody>\n",
       "</table>\n",
       "</div>"
      ],
      "text/plain": [
       "Empty DataFrame\n",
       "Columns: [AppName, Category, Rating, Reviews, Installs, Size, Price, ContentRating, LastUpdated]\n",
       "Index: []"
      ]
     },
     "execution_count": 11,
     "metadata": {},
     "output_type": "execute_result"
    }
   ],
   "source": [
    "df.loc[df['ContentRating'] == '100,000+']"
   ]
  },
  {
   "cell_type": "code",
   "execution_count": 12,
   "id": "23655d6f",
   "metadata": {
    "scrolled": true
   },
   "outputs": [
    {
     "data": {
      "text/html": [
       "<div>\n",
       "<style scoped>\n",
       "    .dataframe tbody tr th:only-of-type {\n",
       "        vertical-align: middle;\n",
       "    }\n",
       "\n",
       "    .dataframe tbody tr th {\n",
       "        vertical-align: top;\n",
       "    }\n",
       "\n",
       "    .dataframe thead th {\n",
       "        text-align: right;\n",
       "    }\n",
       "</style>\n",
       "<table border=\"1\" class=\"dataframe\">\n",
       "  <thead>\n",
       "    <tr style=\"text-align: right;\">\n",
       "      <th></th>\n",
       "      <th>AppName</th>\n",
       "      <th>Category</th>\n",
       "      <th>Rating</th>\n",
       "      <th>Reviews</th>\n",
       "      <th>Installs</th>\n",
       "      <th>Size</th>\n",
       "      <th>Price</th>\n",
       "      <th>ContentRating</th>\n",
       "      <th>LastUpdated</th>\n",
       "    </tr>\n",
       "  </thead>\n",
       "  <tbody>\n",
       "    <tr>\n",
       "      <th>23456</th>\n",
       "      <td>Israel News</td>\n",
       "      <td>Channel 2 News</td>\n",
       "      <td>NEWS_AND_MAGAZINES</td>\n",
       "      <td>3.857799</td>\n",
       "      <td>11976</td>\n",
       "      <td>1,000,000+</td>\n",
       "      <td>Varies with device</td>\n",
       "      <td>0</td>\n",
       "      <td>Everyone 10+</td>\n",
       "    </tr>\n",
       "  </tbody>\n",
       "</table>\n",
       "</div>"
      ],
      "text/plain": [
       "           AppName         Category              Rating   Reviews Installs  \\\n",
       "23456  Israel News   Channel 2 News  NEWS_AND_MAGAZINES  3.857799    11976   \n",
       "\n",
       "             Size               Price ContentRating   LastUpdated  \n",
       "23456  1,000,000+  Varies with device             0  Everyone 10+  "
      ]
     },
     "execution_count": 12,
     "metadata": {},
     "output_type": "execute_result"
    }
   ],
   "source": [
    "df.loc[df['ContentRating'] == '0']"
   ]
  },
  {
   "cell_type": "markdown",
   "id": "c7e78b10",
   "metadata": {},
   "source": [
    "Above, we can see that the data was shifted within the row. Since we cannot properly determine which data belongs to which app, we will drop the above rows.\n",
    "#### Drop the rows where the 'shift' happened"
   ]
  },
  {
   "cell_type": "code",
   "execution_count": 13,
   "id": "0bdb13ed",
   "metadata": {},
   "outputs": [],
   "source": [
    "df.drop(df[(df['ContentRating'] == '$0.99') | (df['ContentRating'] == '100,000+') \n",
    "           | (df['ContentRating'] == '0')].index, inplace = True)"
   ]
  },
  {
   "cell_type": "markdown",
   "id": "8a29f00f",
   "metadata": {},
   "source": [
    "## Clean 'Size' column, convert all to kilobytes"
   ]
  },
  {
   "cell_type": "code",
   "execution_count": 14,
   "id": "22ca3f76",
   "metadata": {
    "scrolled": true
   },
   "outputs": [
    {
     "data": {
      "text/plain": [
       "Varies with device    3195\n",
       "11M                    859\n",
       "12M                    711\n",
       "13M                    616\n",
       "14M                    598\n",
       "                      ... \n",
       "113M                     1\n",
       "531k                     1\n",
       "565k                     1\n",
       "1,024k                   1\n",
       "327k                     1\n",
       "Name: Size, Length: 576, dtype: int64"
      ]
     },
     "execution_count": 14,
     "metadata": {},
     "output_type": "execute_result"
    }
   ],
   "source": [
    "df['Size'].value_counts()"
   ]
  },
  {
   "cell_type": "code",
   "execution_count": 15,
   "id": "e1a3062a",
   "metadata": {},
   "outputs": [],
   "source": [
    "df.drop(df[df['Size'] == 'Varies with device'].index, inplace=True)"
   ]
  },
  {
   "cell_type": "code",
   "execution_count": 16,
   "id": "3e29141f",
   "metadata": {},
   "outputs": [],
   "source": [
    "def convert_size(x): #convert to kilobytes\n",
    "    unit = x[-1]\n",
    "    \n",
    "    if(unit == 'M'):\n",
    "        value = float(x[0:-1])\n",
    "        value = value*1024\n",
    "    elif(unit == 'k'):\n",
    "        value = x[0:-1]\n",
    "        value = value.replace(',', '')\n",
    "        value = float(value)\n",
    "    \n",
    "    return value\n",
    "\n",
    "df['Size'] = df.apply(lambda row : convert_size(row['Size']), axis = 1)"
   ]
  },
  {
   "cell_type": "markdown",
   "id": "2d406cbe",
   "metadata": {},
   "source": [
    "## Clean 'Category' column"
   ]
  },
  {
   "cell_type": "code",
   "execution_count": 17,
   "id": "8276c2fc",
   "metadata": {},
   "outputs": [
    {
     "data": {
      "text/plain": [
       "array(['SHOPPING', 'FOOD_AND_DRINK', 'TRAVEL_AND_LOCAL', 'LIFESTYLE',\n",
       "       'GAME_ACTION', 'GAME_CASUAL', 'GAME_ROLE_PLAYING', 'GAME_PUZZLE',\n",
       "       'GAME_ADVENTURE', 'GAME_ARCADE', 'GAME_STRATEGY', 'GAME_SPORTS',\n",
       "       'GAME_SIMULATION', 'GAME_MUSIC', 'MUSIC_AND_AUDIO', 'FINANCE',\n",
       "       'EVENTS', 'ENTERTAINMENT', 'EDUCATION', 'GAME_EDUCATIONAL',\n",
       "       'BOOKS_AND_REFERENCE', 'PHOTOGRAPHY', 'VIDEO_PLAYERS',\n",
       "       'NEWS_AND_MAGAZINES', 'GAME_WORD', 'ART_AND_DESIGN', 'GAME_TRIVIA',\n",
       "       'GAME_BOARD', 'BUSINESS', 'PRODUCTIVITY', 'COMMUNICATION',\n",
       "       'HEALTH_AND_FITNESS', 'HOUSE_AND_HOME', 'BEAUTY', 'SOCIAL',\n",
       "       'MAPS_AND_NAVIGATION', 'GAME_CASINO', 'GAME_CARD', 'SPORTS',\n",
       "       'AUTO_AND_VEHICLES', 'GAME_RACING', 'TOOLS', 'PERSONALIZATION',\n",
       "       'LIBRARIES_AND_DEMO', 'COMICS', 'DATING', 'WEATHER', 'PARENTING',\n",
       "       'MEDICAL'], dtype=object)"
      ]
     },
     "execution_count": 17,
     "metadata": {},
     "output_type": "execute_result"
    }
   ],
   "source": [
    "df['Category'].unique()"
   ]
  },
  {
   "cell_type": "code",
   "execution_count": 18,
   "id": "1941ee6b",
   "metadata": {},
   "outputs": [
    {
     "data": {
      "text/plain": [
       "GAMES                  6384\n",
       "EDUCATION              3231\n",
       "TOOLS                  2173\n",
       "ENTERTAINMENT          1929\n",
       "BOOKS_AND_REFERENCE    1518\n",
       "                       ... \n",
       "DATING                   98\n",
       "EVENTS                   88\n",
       "BEAUTY                   85\n",
       "COMICS                   74\n",
       "LIBRARIES_AND_DEMO       59\n",
       "Name: Category, Length: 33, dtype: int64"
      ]
     },
     "execution_count": 18,
     "metadata": {},
     "output_type": "execute_result"
    }
   ],
   "source": [
    "game_cat = ['GAME_ACTION', 'GAME_CASUAL', 'GAME_ROLE_PLAYING', 'GAME_PUZZLE',\n",
    "       'GAME_ADVENTURE', 'GAME_ARCADE', 'GAME_STRATEGY', 'GAME_SPORTS',\n",
    "       'GAME_SIMULATION', 'GAME_MUSIC', 'GAME_EDUCATIONAL', 'GAME_WORD', 'GAME_TRIVIA',\n",
    "       'GAME_BOARD', 'GAME_CASINO', 'GAME_CARD', 'GAME_RACING']\n",
    "\n",
    "df.loc[df['Category'].isin(game_cat), 'Category'] = 'GAMES'\n",
    "\n",
    "df['Category'].value_counts()"
   ]
  },
  {
   "cell_type": "markdown",
   "id": "86f4d135",
   "metadata": {},
   "source": [
    "note: will combine more categories if necessary"
   ]
  },
  {
   "cell_type": "markdown",
   "id": "2954b942",
   "metadata": {},
   "source": [
    "## Convert 'LastUpdated' to datetime"
   ]
  },
  {
   "cell_type": "code",
   "execution_count": 19,
   "id": "e307b95c",
   "metadata": {},
   "outputs": [],
   "source": [
    "from datetime import datetime\n",
    "\n",
    "df['LastUpdated'] = df.apply(lambda row : datetime.strptime(row['LastUpdated'], '%B %d, %Y'), axis = 1)"
   ]
  },
  {
   "cell_type": "markdown",
   "id": "920f9bc9",
   "metadata": {},
   "source": [
    "## Clean 'Price' column"
   ]
  },
  {
   "cell_type": "code",
   "execution_count": 20,
   "id": "f0ea83c2",
   "metadata": {},
   "outputs": [],
   "source": [
    "def convert_price(x):\n",
    "    if x == '0':\n",
    "        return 0\n",
    "    else:\n",
    "        x = float(x[1:])\n",
    "    return x\n",
    "\n",
    "df['Price'] = df.apply(lambda row : convert_price(row['Price']), axis = 1)"
   ]
  },
  {
   "cell_type": "markdown",
   "id": "a8882515",
   "metadata": {},
   "source": [
    "Check that the prices are reasonable, and remove any junk apps where necessary"
   ]
  },
  {
   "cell_type": "code",
   "execution_count": 21,
   "id": "551b8fd0",
   "metadata": {},
   "outputs": [
    {
     "data": {
      "text/plain": [
       "1154     399.99\n",
       "13934    299.99\n",
       "1794      99.99\n",
       "31340     84.99\n",
       "4718      79.99\n",
       "1785      74.99\n",
       "13550     74.99\n",
       "10099     54.99\n",
       "27838     54.99\n",
       "26564     45.99\n",
       "Name: Price, dtype: float64"
      ]
     },
     "execution_count": 21,
     "metadata": {},
     "output_type": "execute_result"
    }
   ],
   "source": [
    "rows = df['Price'].nlargest(n=10)\n",
    "rows"
   ]
  },
  {
   "cell_type": "code",
   "execution_count": 22,
   "id": "0fba6015",
   "metadata": {},
   "outputs": [
    {
     "data": {
      "text/html": [
       "<div>\n",
       "<style scoped>\n",
       "    .dataframe tbody tr th:only-of-type {\n",
       "        vertical-align: middle;\n",
       "    }\n",
       "\n",
       "    .dataframe tbody tr th {\n",
       "        vertical-align: top;\n",
       "    }\n",
       "\n",
       "    .dataframe thead th {\n",
       "        text-align: right;\n",
       "    }\n",
       "</style>\n",
       "<table border=\"1\" class=\"dataframe\">\n",
       "  <thead>\n",
       "    <tr style=\"text-align: right;\">\n",
       "      <th></th>\n",
       "      <th>AppName</th>\n",
       "      <th>Category</th>\n",
       "      <th>Rating</th>\n",
       "      <th>Reviews</th>\n",
       "      <th>Installs</th>\n",
       "      <th>Size</th>\n",
       "      <th>Price</th>\n",
       "      <th>ContentRating</th>\n",
       "      <th>LastUpdated</th>\n",
       "    </tr>\n",
       "  </thead>\n",
       "  <tbody>\n",
       "    <tr>\n",
       "      <th>1154</th>\n",
       "      <td>Plasma duct - Premium Game</td>\n",
       "      <td>GAMES</td>\n",
       "      <td>3.378378391</td>\n",
       "      <td>74.0</td>\n",
       "      <td>1,000+</td>\n",
       "      <td>18432.0</td>\n",
       "      <td>399.99</td>\n",
       "      <td>Everyone</td>\n",
       "      <td>2019-03-04</td>\n",
       "    </tr>\n",
       "    <tr>\n",
       "      <th>1785</th>\n",
       "      <td>Advanced Language Therapy: Aphasia</td>\n",
       "      <td>MEDICAL</td>\n",
       "      <td>3</td>\n",
       "      <td>2.0</td>\n",
       "      <td>10+</td>\n",
       "      <td>80896.0</td>\n",
       "      <td>74.99</td>\n",
       "      <td>Everyone</td>\n",
       "      <td>2019-02-13</td>\n",
       "    </tr>\n",
       "    <tr>\n",
       "      <th>1794</th>\n",
       "      <td>Vargo Anesthesia Mega App</td>\n",
       "      <td>MEDICAL</td>\n",
       "      <td>4.599999905</td>\n",
       "      <td>100.0</td>\n",
       "      <td>1,000+</td>\n",
       "      <td>35840.0</td>\n",
       "      <td>99.99</td>\n",
       "      <td>Everyone</td>\n",
       "      <td>2019-02-21</td>\n",
       "    </tr>\n",
       "    <tr>\n",
       "      <th>4718</th>\n",
       "      <td>Stock Screener Pro</td>\n",
       "      <td>FINANCE</td>\n",
       "      <td>3.661538363</td>\n",
       "      <td>65.0</td>\n",
       "      <td>1,000+</td>\n",
       "      <td>1433.6</td>\n",
       "      <td>79.99</td>\n",
       "      <td>Everyone</td>\n",
       "      <td>2018-10-04</td>\n",
       "    </tr>\n",
       "    <tr>\n",
       "      <th>10099</th>\n",
       "      <td>Wonster Words (Pro)</td>\n",
       "      <td>EDUCATION</td>\n",
       "      <td>4.416666508</td>\n",
       "      <td>12.0</td>\n",
       "      <td>100+</td>\n",
       "      <td>84992.0</td>\n",
       "      <td>54.99</td>\n",
       "      <td>Everyone</td>\n",
       "      <td>2019-03-18</td>\n",
       "    </tr>\n",
       "    <tr>\n",
       "      <th>13550</th>\n",
       "      <td>Language Therapy: Aphasia</td>\n",
       "      <td>MEDICAL</td>\n",
       "      <td>5</td>\n",
       "      <td>13.0</td>\n",
       "      <td>1,000+</td>\n",
       "      <td>28672.0</td>\n",
       "      <td>74.99</td>\n",
       "      <td>Everyone</td>\n",
       "      <td>2018-11-05</td>\n",
       "    </tr>\n",
       "    <tr>\n",
       "      <th>13934</th>\n",
       "      <td>I AM RICH</td>\n",
       "      <td>FINANCE</td>\n",
       "      <td>5</td>\n",
       "      <td>1.0</td>\n",
       "      <td>1+</td>\n",
       "      <td>1638.4</td>\n",
       "      <td>299.99</td>\n",
       "      <td>Everyone</td>\n",
       "      <td>2019-02-09</td>\n",
       "    </tr>\n",
       "    <tr>\n",
       "      <th>26564</th>\n",
       "      <td>Extreme Landings Pro</td>\n",
       "      <td>GAMES</td>\n",
       "      <td>4.570792675</td>\n",
       "      <td>7190.0</td>\n",
       "      <td>10,000+</td>\n",
       "      <td>32768.0</td>\n",
       "      <td>45.99</td>\n",
       "      <td>Everyone</td>\n",
       "      <td>2019-03-11</td>\n",
       "    </tr>\n",
       "    <tr>\n",
       "      <th>27838</th>\n",
       "      <td>Clinical Anesthesia Procedures</td>\n",
       "      <td>MEDICAL</td>\n",
       "      <td>4.166666508</td>\n",
       "      <td>6.0</td>\n",
       "      <td>50+</td>\n",
       "      <td>6246.4</td>\n",
       "      <td>54.99</td>\n",
       "      <td>Everyone</td>\n",
       "      <td>2019-01-03</td>\n",
       "    </tr>\n",
       "    <tr>\n",
       "      <th>31340</th>\n",
       "      <td>?????????????10????????????????????????</td>\n",
       "      <td>BOOKS_AND_REFERENCE</td>\n",
       "      <td>4.25</td>\n",
       "      <td>4.0</td>\n",
       "      <td>500+</td>\n",
       "      <td>2048.0</td>\n",
       "      <td>84.99</td>\n",
       "      <td>Everyone</td>\n",
       "      <td>2018-01-26</td>\n",
       "    </tr>\n",
       "  </tbody>\n",
       "</table>\n",
       "</div>"
      ],
      "text/plain": [
       "                                       AppName             Category  \\\n",
       "1154                Plasma duct - Premium Game                GAMES   \n",
       "1785        Advanced Language Therapy: Aphasia              MEDICAL   \n",
       "1794                 Vargo Anesthesia Mega App              MEDICAL   \n",
       "4718                        Stock Screener Pro              FINANCE   \n",
       "10099                      Wonster Words (Pro)            EDUCATION   \n",
       "13550                Language Therapy: Aphasia              MEDICAL   \n",
       "13934                                I AM RICH              FINANCE   \n",
       "26564                     Extreme Landings Pro                GAMES   \n",
       "27838           Clinical Anesthesia Procedures              MEDICAL   \n",
       "31340  ?????????????10????????????????????????  BOOKS_AND_REFERENCE   \n",
       "\n",
       "            Rating  Reviews Installs     Size   Price ContentRating  \\\n",
       "1154   3.378378391     74.0   1,000+  18432.0  399.99      Everyone   \n",
       "1785             3      2.0      10+  80896.0   74.99      Everyone   \n",
       "1794   4.599999905    100.0   1,000+  35840.0   99.99      Everyone   \n",
       "4718   3.661538363     65.0   1,000+   1433.6   79.99      Everyone   \n",
       "10099  4.416666508     12.0     100+  84992.0   54.99      Everyone   \n",
       "13550            5     13.0   1,000+  28672.0   74.99      Everyone   \n",
       "13934            5      1.0       1+   1638.4  299.99      Everyone   \n",
       "26564  4.570792675   7190.0  10,000+  32768.0   45.99      Everyone   \n",
       "27838  4.166666508      6.0      50+   6246.4   54.99      Everyone   \n",
       "31340         4.25      4.0     500+   2048.0   84.99      Everyone   \n",
       "\n",
       "      LastUpdated  \n",
       "1154   2019-03-04  \n",
       "1785   2019-02-13  \n",
       "1794   2019-02-21  \n",
       "4718   2018-10-04  \n",
       "10099  2019-03-18  \n",
       "13550  2018-11-05  \n",
       "13934  2019-02-09  \n",
       "26564  2019-03-11  \n",
       "27838  2019-01-03  \n",
       "31340  2018-01-26  "
      ]
     },
     "execution_count": 22,
     "metadata": {},
     "output_type": "execute_result"
    }
   ],
   "source": [
    "df.loc[df['Price'].isin(rows)]"
   ]
  },
  {
   "cell_type": "code",
   "execution_count": 23,
   "id": "acf574de",
   "metadata": {},
   "outputs": [],
   "source": [
    "df.drop(df[(df['Price'] == 399.99) | (df['Price'] == 299.99) | (df['Price'] == 84.99)].index, inplace = True)"
   ]
  },
  {
   "cell_type": "markdown",
   "id": "e398367b",
   "metadata": {},
   "source": [
    "## Clean the 'Installs' column"
   ]
  },
  {
   "cell_type": "code",
   "execution_count": 24,
   "id": "b685512b",
   "metadata": {},
   "outputs": [
    {
     "data": {
      "text/plain": [
       "100,000+          6190\n",
       "1,000,000+        4434\n",
       "10,000+           4389\n",
       "500,000+          2562\n",
       "50,000+           2481\n",
       "                  ... \n",
       "5+                  27\n",
       "1+                  20\n",
       "500,000,000+        13\n",
       "1,000,000,000+       5\n",
       "0+                   2\n",
       "Name: Installs, Length: 20, dtype: int64"
      ]
     },
     "execution_count": 24,
     "metadata": {},
     "output_type": "execute_result"
    }
   ],
   "source": [
    "df['Installs'].value_counts()"
   ]
  },
  {
   "cell_type": "code",
   "execution_count": 25,
   "id": "7bf77d82",
   "metadata": {},
   "outputs": [
    {
     "data": {
      "text/plain": [
       "1,000,000+        4434\n",
       "500,000+          2562\n",
       "10,000,000+       1490\n",
       "5,000,000+        1217\n",
       "50,000,000+        211\n",
       "100,000,000+       140\n",
       "500,000,000+        13\n",
       "1,000,000,000+       5\n",
       "Name: Installs, dtype: int64"
      ]
     },
     "execution_count": 25,
     "metadata": {},
     "output_type": "execute_result"
    }
   ],
   "source": [
    "installs_0 = ['0+', '1+', '5+', '10+', '50+', '100+', '500+', '1,000+', '5,000+', '10,000+',d\n",
    "df.loc[~df['Installs'].isin(installs_0), 'Installs'].value_counts()"
   ]
  },
  {
   "cell_type": "code",
   "execution_count": 26,
   "id": "f5fbebb0",
   "metadata": {},
   "outputs": [],
   "source": [
    "df.loc[~df['Installs'].isin(installs_0), 'Installs'] = '>=500000'\n",
    "df.loc[df['Installs'].isin(installs_0), 'Installs'] = '<500000'"
   ]
  },
  {
   "cell_type": "code",
   "execution_count": 35,
   "id": "7408068a",
   "metadata": {},
   "outputs": [
    {
     "data": {
      "text/plain": [
       "<500000     18726\n",
       ">=500000    10072\n",
       "Name: Installs, dtype: int64"
      ]
     },
     "execution_count": 35,
     "metadata": {},
     "output_type": "execute_result"
    }
   ],
   "source": [
    "df['Installs'].value_counts()"
   ]
  },
  {
   "cell_type": "markdown",
   "id": "4c30c9e6",
   "metadata": {},
   "source": [
    "## 'Ratings' and 'Review'"
   ]
  },
  {
   "cell_type": "code",
   "execution_count": 27,
   "id": "f17a3238",
   "metadata": {},
   "outputs": [
    {
     "data": {
      "text/html": [
       "<div>\n",
       "<style scoped>\n",
       "    .dataframe tbody tr th:only-of-type {\n",
       "        vertical-align: middle;\n",
       "    }\n",
       "\n",
       "    .dataframe tbody tr th {\n",
       "        vertical-align: top;\n",
       "    }\n",
       "\n",
       "    .dataframe thead th {\n",
       "        text-align: right;\n",
       "    }\n",
       "</style>\n",
       "<table border=\"1\" class=\"dataframe\">\n",
       "  <thead>\n",
       "    <tr style=\"text-align: right;\">\n",
       "      <th></th>\n",
       "      <th>Rating</th>\n",
       "    </tr>\n",
       "  </thead>\n",
       "  <tbody>\n",
       "    <tr>\n",
       "      <th>count</th>\n",
       "      <td>28798.000000</td>\n",
       "    </tr>\n",
       "    <tr>\n",
       "      <th>mean</th>\n",
       "      <td>4.270109</td>\n",
       "    </tr>\n",
       "    <tr>\n",
       "      <th>std</th>\n",
       "      <td>0.509745</td>\n",
       "    </tr>\n",
       "    <tr>\n",
       "      <th>min</th>\n",
       "      <td>1.000000</td>\n",
       "    </tr>\n",
       "    <tr>\n",
       "      <th>25%</th>\n",
       "      <td>4.086033</td>\n",
       "    </tr>\n",
       "    <tr>\n",
       "      <th>50%</th>\n",
       "      <td>4.377251</td>\n",
       "    </tr>\n",
       "    <tr>\n",
       "      <th>75%</th>\n",
       "      <td>4.588889</td>\n",
       "    </tr>\n",
       "    <tr>\n",
       "      <th>max</th>\n",
       "      <td>5.000000</td>\n",
       "    </tr>\n",
       "  </tbody>\n",
       "</table>\n",
       "</div>"
      ],
      "text/plain": [
       "             Rating\n",
       "count  28798.000000\n",
       "mean       4.270109\n",
       "std        0.509745\n",
       "min        1.000000\n",
       "25%        4.086033\n",
       "50%        4.377251\n",
       "75%        4.588889\n",
       "max        5.000000"
      ]
     },
     "execution_count": 27,
     "metadata": {},
     "output_type": "execute_result"
    }
   ],
   "source": [
    "df['Rating'] = df['Rating'].astype('float')\n",
    "df.describe()[['Rating']]"
   ]
  },
  {
   "cell_type": "code",
   "execution_count": 28,
   "id": "477eaa6c",
   "metadata": {},
   "outputs": [
    {
     "data": {
      "text/html": [
       "<div>\n",
       "<style scoped>\n",
       "    .dataframe tbody tr th:only-of-type {\n",
       "        vertical-align: middle;\n",
       "    }\n",
       "\n",
       "    .dataframe tbody tr th {\n",
       "        vertical-align: top;\n",
       "    }\n",
       "\n",
       "    .dataframe thead th {\n",
       "        text-align: right;\n",
       "    }\n",
       "</style>\n",
       "<table border=\"1\" class=\"dataframe\">\n",
       "  <thead>\n",
       "    <tr style=\"text-align: right;\">\n",
       "      <th></th>\n",
       "      <th>Reviews</th>\n",
       "    </tr>\n",
       "  </thead>\n",
       "  <tbody>\n",
       "    <tr>\n",
       "      <th>count</th>\n",
       "      <td>2.879800e+04</td>\n",
       "    </tr>\n",
       "    <tr>\n",
       "      <th>mean</th>\n",
       "      <td>6.502429e+04</td>\n",
       "    </tr>\n",
       "    <tr>\n",
       "      <th>std</th>\n",
       "      <td>6.520699e+05</td>\n",
       "    </tr>\n",
       "    <tr>\n",
       "      <th>min</th>\n",
       "      <td>1.000000e+00</td>\n",
       "    </tr>\n",
       "    <tr>\n",
       "      <th>25%</th>\n",
       "      <td>1.120000e+02</td>\n",
       "    </tr>\n",
       "    <tr>\n",
       "      <th>50%</th>\n",
       "      <td>1.127000e+03</td>\n",
       "    </tr>\n",
       "    <tr>\n",
       "      <th>75%</th>\n",
       "      <td>1.055150e+04</td>\n",
       "    </tr>\n",
       "    <tr>\n",
       "      <th>max</th>\n",
       "      <td>4.840147e+07</td>\n",
       "    </tr>\n",
       "  </tbody>\n",
       "</table>\n",
       "</div>"
      ],
      "text/plain": [
       "            Reviews\n",
       "count  2.879800e+04\n",
       "mean   6.502429e+04\n",
       "std    6.520699e+05\n",
       "min    1.000000e+00\n",
       "25%    1.120000e+02\n",
       "50%    1.127000e+03\n",
       "75%    1.055150e+04\n",
       "max    4.840147e+07"
      ]
     },
     "execution_count": 28,
     "metadata": {},
     "output_type": "execute_result"
    }
   ],
   "source": [
    "df.describe()[['Reviews']]"
   ]
  },
  {
   "cell_type": "code",
   "execution_count": 29,
   "id": "c053639b",
   "metadata": {
    "scrolled": true
   },
   "outputs": [],
   "source": [
    "df['Category'] = df['Category'].astype('category')\n",
    "df['Installs'] = df['Installs'].astype('category')\n",
    "df['ContentRating'] = df['ContentRating'].astype('category')"
   ]
  },
  {
   "cell_type": "code",
   "execution_count": 30,
   "id": "823e1d77",
   "metadata": {},
   "outputs": [
    {
     "data": {
      "text/plain": [
       "AppName                  object\n",
       "Category               category\n",
       "Rating                  float64\n",
       "Reviews                 float64\n",
       "Installs               category\n",
       "Size                    float64\n",
       "Price                   float64\n",
       "ContentRating          category\n",
       "LastUpdated      datetime64[ns]\n",
       "dtype: object"
      ]
     },
     "execution_count": 30,
     "metadata": {},
     "output_type": "execute_result"
    }
   ],
   "source": [
    "df.dtypes"
   ]
  }
 ],
 "metadata": {
  "kernelspec": {
   "display_name": "Python 3 (ipykernel)",
   "language": "python",
   "name": "python3"
  },
  "language_info": {
   "codemirror_mode": {
    "name": "ipython",
    "version": 3
   },
   "file_extension": ".py",
   "mimetype": "text/x-python",
   "name": "python",
   "nbconvert_exporter": "python",
   "pygments_lexer": "ipython3",
   "version": "3.9.7"
  }
 },
 "nbformat": 4,
 "nbformat_minor": 5
}
