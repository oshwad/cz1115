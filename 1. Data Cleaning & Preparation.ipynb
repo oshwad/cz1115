{
 "cells": [
  {
   "cell_type": "code",
   "execution_count": 805,
   "id": "e748aa87",
   "metadata": {},
   "outputs": [],
   "source": [
    "import numpy as np\n",
    "import pandas as pd\n",
    "import seaborn as sb\n",
    "import matplotlib.pyplot as plt\n",
    "import sklearn.model_selection as sk\n",
    "sb.set()"
   ]
  },
  {
   "cell_type": "code",
   "execution_count": 806,
   "id": "43d3e074",
   "metadata": {},
   "outputs": [],
   "source": [
    "googleplay = pd.read_csv('C:/Users/davyn/OneDrive/Desktop/SC1015 mini-project/googleplay2/Google-Playstore.csv')"
   ]
  },
  {
   "cell_type": "code",
   "execution_count": 807,
   "id": "da520f4a",
   "metadata": {},
   "outputs": [
    {
     "name": "stdout",
     "output_type": "stream",
     "text": [
      "<class 'pandas.core.frame.DataFrame'>\n",
      "RangeIndex: 2312944 entries, 0 to 2312943\n",
      "Data columns (total 24 columns):\n",
      " #   Column             Dtype  \n",
      "---  ------             -----  \n",
      " 0   App Name           object \n",
      " 1   App Id             object \n",
      " 2   Category           object \n",
      " 3   Rating             float64\n",
      " 4   Rating Count       float64\n",
      " 5   Installs           object \n",
      " 6   Minimum Installs   float64\n",
      " 7   Maximum Installs   int64  \n",
      " 8   Free               bool   \n",
      " 9   Price              float64\n",
      " 10  Currency           object \n",
      " 11  Size               object \n",
      " 12  Minimum Android    object \n",
      " 13  Developer Id       object \n",
      " 14  Developer Website  object \n",
      " 15  Developer Email    object \n",
      " 16  Released           object \n",
      " 17  Last Updated       object \n",
      " 18  Content Rating     object \n",
      " 19  Privacy Policy     object \n",
      " 20  Ad Supported       bool   \n",
      " 21  In App Purchases   bool   \n",
      " 22  Editors Choice     bool   \n",
      " 23  Scraped Time       object \n",
      "dtypes: bool(4), float64(4), int64(1), object(15)\n",
      "memory usage: 361.8+ MB\n"
     ]
    }
   ],
   "source": [
    "googleplay.info()"
   ]
  },
  {
   "cell_type": "markdown",
   "id": "b5632e07",
   "metadata": {},
   "source": [
    "## Dropping unneccessary Columns (e.g. Developer ID, Email, etc.)"
   ]
  },
  {
   "cell_type": "code",
   "execution_count": 808,
   "id": "7ab14de6",
   "metadata": {},
   "outputs": [
    {
     "name": "stdout",
     "output_type": "stream",
     "text": [
      "<class 'pandas.core.frame.DataFrame'>\n",
      "RangeIndex: 2312944 entries, 0 to 2312943\n",
      "Data columns (total 13 columns):\n",
      " #   Column            Dtype  \n",
      "---  ------            -----  \n",
      " 0   Category          object \n",
      " 1   Rating            float64\n",
      " 2   Rating Count      float64\n",
      " 3   Installs          object \n",
      " 4   Free              bool   \n",
      " 5   Price             float64\n",
      " 6   Size              object \n",
      " 7   Last Updated      object \n",
      " 8   Content Rating    object \n",
      " 9   Ad Supported      bool   \n",
      " 10  In App Purchases  bool   \n",
      " 11  Editors Choice    bool   \n",
      " 12  Scraped Time      object \n",
      "dtypes: bool(4), float64(3), object(6)\n",
      "memory usage: 167.6+ MB\n"
     ]
    }
   ],
   "source": [
    "googleplay = googleplay[['Category','Rating','Rating Count','Installs', 'Free', 'Price', 'Size', 'Last Updated', 'Content Rating', 'Ad Supported', 'In App Purchases', 'Editors Choice', 'Scraped Time']]\n",
    "googleplay.info()"
   ]
  },
  {
   "cell_type": "code",
   "execution_count": null,
   "id": "095be2ec",
   "metadata": {},
   "outputs": [],
   "source": []
  },
  {
   "cell_type": "markdown",
   "id": "f114d1a4",
   "metadata": {},
   "source": [
    "## Removing all rows with null values "
   ]
  },
  {
   "cell_type": "code",
   "execution_count": 809,
   "id": "357601fc",
   "metadata": {},
   "outputs": [],
   "source": [
    "googleplayclean = googleplay.dropna()"
   ]
  },
  {
   "cell_type": "markdown",
   "id": "045d6b5c",
   "metadata": {},
   "source": [
    "# Removing all apps with a rating of 0, to avoid using apps that have 0 outreach and/or are brand new"
   ]
  },
  {
   "cell_type": "code",
   "execution_count": 810,
   "id": "6d9ddbd6",
   "metadata": {},
   "outputs": [],
   "source": [
    "googleplayclean = googleplayclean[(googleplayclean['Rating'] > 0)]"
   ]
  },
  {
   "cell_type": "markdown",
   "id": "ee7aaa8c",
   "metadata": {},
   "source": [
    "## Cleaning the Dataset, so that only Game Categories Remain"
   ]
  },
  {
   "cell_type": "code",
   "execution_count": 811,
   "id": "da0865e0",
   "metadata": {},
   "outputs": [],
   "source": [
    "games = ['Word', 'Strategy', 'Card', 'Board', 'Trivia', 'Racing', 'Role Playing', 'Adventure', 'Action', 'Simulation', 'Arcade', 'Puzzle', 'Casual']"
   ]
  },
  {
   "cell_type": "code",
   "execution_count": 812,
   "id": "a512d0fc",
   "metadata": {},
   "outputs": [],
   "source": [
    "googleplayclean = googleplayclean[googleplayclean['Category'].isin(games)]"
   ]
  },
  {
   "cell_type": "code",
   "execution_count": 813,
   "id": "5f694f8c",
   "metadata": {},
   "outputs": [
    {
     "name": "stdout",
     "output_type": "stream",
     "text": [
      "Puzzle          31939\n",
      "Arcade          30315\n",
      "Casual          28969\n",
      "Simulation      19130\n",
      "Action          18113\n",
      "Adventure       15733\n",
      "Role Playing     8239\n",
      "Racing           7539\n",
      "Trivia           7204\n",
      "Board            7142\n",
      "Card             6162\n",
      "Strategy         5966\n",
      "Word             5859\n",
      "Name: Category, dtype: int64\n"
     ]
    }
   ],
   "source": [
    "print(googleplayclean['Category'].value_counts())"
   ]
  },
  {
   "cell_type": "markdown",
   "id": "8ed9ecfa",
   "metadata": {},
   "source": [
    "# Clean 'Size' column, convert all to kilobytes "
   ]
  },
  {
   "cell_type": "code",
   "execution_count": 814,
   "id": "6a08d3ab",
   "metadata": {},
   "outputs": [
    {
     "data": {
      "text/plain": [
       "Varies with device    9808\n",
       "19M                   3575\n",
       "18M                   3493\n",
       "23M                   3480\n",
       "25M                   3432\n",
       "                      ... \n",
       "531k                     1\n",
       "281k                     1\n",
       "239M                     1\n",
       "559k                     1\n",
       "870k                     1\n",
       "Name: Size, Length: 1117, dtype: int64"
      ]
     },
     "execution_count": 814,
     "metadata": {},
     "output_type": "execute_result"
    }
   ],
   "source": [
    "googleplayclean['Size'].value_counts()"
   ]
  },
  {
   "cell_type": "code",
   "execution_count": 815,
   "id": "40bd5bc2",
   "metadata": {},
   "outputs": [],
   "source": [
    "googleplayclean.drop(googleplayclean[googleplayclean['Size'] == 'Varies with device'].index, inplace=True)"
   ]
  },
  {
   "cell_type": "code",
   "execution_count": 816,
   "id": "94ce3ce4",
   "metadata": {},
   "outputs": [],
   "source": [
    "def convert_size(x): #convert to kilobytes\n",
    "    unit = x[-1]\n",
    "    value = x[0:-1]\n",
    "    if(unit == 'M'):\n",
    "        value = value.replace(',', '')\n",
    "        # value = float(x[0:-1])\n",
    "        value = float(value)\n",
    "        value = value*1024\n",
    "        \n",
    "    elif(unit == 'k'):\n",
    "        # value = x[0:-1]\n",
    "        value = value.replace(',', '')\n",
    "        value = float(value)\n",
    "    \n",
    "    return value"
   ]
  },
  {
   "cell_type": "code",
   "execution_count": 817,
   "id": "94a97393",
   "metadata": {},
   "outputs": [],
   "source": [
    "googleplayclean['Size'] = googleplayclean.apply(lambda row : convert_size(row['Size']), axis = 1)"
   ]
  },
  {
   "cell_type": "code",
   "execution_count": 818,
   "id": "1ad295fd",
   "metadata": {},
   "outputs": [
    {
     "data": {
      "text/plain": [
       "10         52224.0\n",
       "22         16384.0\n",
       "25         25600.0\n",
       "43         26624.0\n",
       "69         39936.0\n",
       "            ...   \n",
       "2312846    29696.0\n",
       "2312866    22528.0\n",
       "2312932    37888.0\n",
       "2312939    78848.0\n",
       "2312943     5324.8\n",
       "Name: Size, Length: 182502, dtype: object"
      ]
     },
     "execution_count": 818,
     "metadata": {},
     "output_type": "execute_result"
    }
   ],
   "source": [
    "googleplayclean['Size']"
   ]
  },
  {
   "cell_type": "markdown",
   "id": "9eff129c",
   "metadata": {},
   "source": [
    "# Cleaning the 'Installs' Column"
   ]
  },
  {
   "cell_type": "code",
   "execution_count": 819,
   "id": "38c1801f",
   "metadata": {},
   "outputs": [
    {
     "data": {
      "text/plain": [
       "1,000,000+        10269\n",
       "500,000+           6999\n",
       "10,000,000+        2285\n",
       "5,000,000+         2249\n",
       "50,000,000+         299\n",
       "100,000,000+        170\n",
       "500,000,000+         10\n",
       "1,000,000,000+        1\n",
       "Name: Installs, dtype: int64"
      ]
     },
     "execution_count": 819,
     "metadata": {},
     "output_type": "execute_result"
    }
   ],
   "source": [
    "installs_0 = ['0+', '1+', '5+', '10+', '50+', '100+', '500+', '1,000+', '5,000+', '10,000+', '50,000+', '100,000+']\n",
    "googleplayclean.loc[~googleplayclean['Installs'].isin(installs_0), 'Installs'].value_counts()"
   ]
  },
  {
   "cell_type": "markdown",
   "id": "32ea1407",
   "metadata": {},
   "source": [
    "# Turning Installs into a \"High\" or \"Low\" Variable"
   ]
  },
  {
   "cell_type": "code",
   "execution_count": 820,
   "id": "7f8709fa",
   "metadata": {},
   "outputs": [],
   "source": [
    "googleplayclean.loc[~googleplayclean['Installs'].isin(installs_0), 'Installs'] = '>=500000'\n",
    "googleplayclean.loc[googleplayclean['Installs'].isin(installs_0), 'Installs'] = '<500000'\n"
   ]
  },
  {
   "cell_type": "code",
   "execution_count": 821,
   "id": "5f066ce5",
   "metadata": {},
   "outputs": [
    {
     "data": {
      "text/plain": [
       "<500000     160220\n",
       ">=500000     22282\n",
       "Name: Installs, dtype: int64"
      ]
     },
     "execution_count": 821,
     "metadata": {},
     "output_type": "execute_result"
    }
   ],
   "source": [
    "googleplayclean['Installs'].value_counts()"
   ]
  },
  {
   "cell_type": "markdown",
   "id": "cda9d2d2",
   "metadata": {},
   "source": [
    "# Cleaning the 'Ratings' Column"
   ]
  },
  {
   "cell_type": "code",
   "execution_count": 822,
   "id": "09f92af7",
   "metadata": {},
   "outputs": [
    {
     "data": {
      "text/html": [
       "<div>\n",
       "<style scoped>\n",
       "    .dataframe tbody tr th:only-of-type {\n",
       "        vertical-align: middle;\n",
       "    }\n",
       "\n",
       "    .dataframe tbody tr th {\n",
       "        vertical-align: top;\n",
       "    }\n",
       "\n",
       "    .dataframe thead th {\n",
       "        text-align: right;\n",
       "    }\n",
       "</style>\n",
       "<table border=\"1\" class=\"dataframe\">\n",
       "  <thead>\n",
       "    <tr style=\"text-align: right;\">\n",
       "      <th></th>\n",
       "      <th>Rating</th>\n",
       "    </tr>\n",
       "  </thead>\n",
       "  <tbody>\n",
       "    <tr>\n",
       "      <th>count</th>\n",
       "      <td>182502.000000</td>\n",
       "    </tr>\n",
       "    <tr>\n",
       "      <th>mean</th>\n",
       "      <td>4.099288</td>\n",
       "    </tr>\n",
       "    <tr>\n",
       "      <th>std</th>\n",
       "      <td>0.619297</td>\n",
       "    </tr>\n",
       "    <tr>\n",
       "      <th>min</th>\n",
       "      <td>1.000000</td>\n",
       "    </tr>\n",
       "    <tr>\n",
       "      <th>25%</th>\n",
       "      <td>3.800000</td>\n",
       "    </tr>\n",
       "    <tr>\n",
       "      <th>50%</th>\n",
       "      <td>4.200000</td>\n",
       "    </tr>\n",
       "    <tr>\n",
       "      <th>75%</th>\n",
       "      <td>4.500000</td>\n",
       "    </tr>\n",
       "    <tr>\n",
       "      <th>max</th>\n",
       "      <td>5.000000</td>\n",
       "    </tr>\n",
       "  </tbody>\n",
       "</table>\n",
       "</div>"
      ],
      "text/plain": [
       "              Rating\n",
       "count  182502.000000\n",
       "mean        4.099288\n",
       "std         0.619297\n",
       "min         1.000000\n",
       "25%         3.800000\n",
       "50%         4.200000\n",
       "75%         4.500000\n",
       "max         5.000000"
      ]
     },
     "execution_count": 822,
     "metadata": {},
     "output_type": "execute_result"
    }
   ],
   "source": [
    "googleplayclean.describe()[['Rating']]"
   ]
  },
  {
   "cell_type": "code",
   "execution_count": 823,
   "id": "4b5924f3",
   "metadata": {},
   "outputs": [],
   "source": [
    "ratings_0 = [4.0, 4.1, 4.2, 4.3, 4.4, 4.5, 4.6, 4.7, 4.8, 4.9, 5.0]\n",
    "ratings_1 = [1.0, 1.1, 1.2, 1.3, 1.4, 1.5, 1.6, 1.7, 1.8, 1.9, 2.0, 2.1, 2.2, 2.3, 2.4, 2.5, 2.6, 2.7, 2.8, 2.9, 3.0, 3.1, 3.2, 3.3, 3.4, 3.5, 3.6, 3.7, 3.8, 3.9]"
   ]
  },
  {
   "cell_type": "code",
   "execution_count": 824,
   "id": "8efc0548",
   "metadata": {},
   "outputs": [],
   "source": [
    "googleplayclean.loc[googleplayclean['Rating'].isin(ratings_0), 'Rating'] = '>=4.0'\n",
    "googleplayclean.loc[googleplayclean['Rating'].isin(ratings_1), 'Rating'] = '<4.0'"
   ]
  },
  {
   "cell_type": "code",
   "execution_count": 825,
   "id": "a1bd7444",
   "metadata": {},
   "outputs": [
    {
     "data": {
      "text/plain": [
       ">=4.0    116328\n",
       "<4.0      66174\n",
       "Name: Rating, dtype: int64"
      ]
     },
     "execution_count": 825,
     "metadata": {},
     "output_type": "execute_result"
    }
   ],
   "source": [
    "googleplayclean['Rating'].value_counts()"
   ]
  },
  {
   "cell_type": "markdown",
   "id": "ba4b3aee",
   "metadata": {},
   "source": [
    "# Convert 'Last Updated' into datetime"
   ]
  },
  {
   "cell_type": "code",
   "execution_count": 826,
   "id": "c92c5f7f",
   "metadata": {},
   "outputs": [
    {
     "name": "stdout",
     "output_type": "stream",
     "text": [
      "10        2020-07-30\n",
      "22        2020-05-11\n",
      "25        2018-03-26\n",
      "43        2021-05-01\n",
      "69        2021-05-24\n",
      "             ...    \n",
      "2312846   2020-08-15\n",
      "2312866   2016-04-08\n",
      "2312932   2017-03-06\n",
      "2312939   2021-06-01\n",
      "2312943   2019-08-19\n",
      "Name: Last Updated, Length: 182502, dtype: datetime64[ns]\n"
     ]
    }
   ],
   "source": [
    "from datetime import datetime\n",
    "googleplayclean['Last Updated'] = googleplayclean.apply(lambda row : datetime.strptime(row['Last Updated'], '%b %d, %Y'), axis = 1)\n",
    "print(googleplayclean['Last Updated'])"
   ]
  },
  {
   "cell_type": "markdown",
   "id": "540d3fb7",
   "metadata": {},
   "source": [
    "# Convert 'Scraped Time' into datetime"
   ]
  },
  {
   "cell_type": "code",
   "execution_count": 827,
   "id": "73d97bac",
   "metadata": {},
   "outputs": [],
   "source": [
    "googleplayclean['Scraped Time'] = googleplayclean['Scraped Time'].astype(str)\n",
    "googleplayclean['Scraped Time'] = googleplayclean['Scraped Time'].str.slice(0, 10, 1)"
   ]
  },
  {
   "cell_type": "code",
   "execution_count": 828,
   "id": "d38504cd",
   "metadata": {},
   "outputs": [
    {
     "name": "stdout",
     "output_type": "stream",
     "text": [
      "10        2021-06-15\n",
      "22        2021-06-15\n",
      "25        2021-06-15\n",
      "43        2021-06-15\n",
      "69        2021-06-15\n",
      "             ...    \n",
      "2312846   2021-06-16\n",
      "2312866   2021-06-16\n",
      "2312932   2021-06-16\n",
      "2312939   2021-06-16\n",
      "2312943   2021-06-16\n",
      "Name: Scraped Time, Length: 182502, dtype: datetime64[ns]\n"
     ]
    }
   ],
   "source": [
    "googleplayclean['Scraped Time'] = googleplayclean.apply(lambda row : datetime.strptime(row['Scraped Time'], '%Y-%m-%d'), axis = 1)\n",
    "print(googleplayclean['Scraped Time'])"
   ]
  },
  {
   "cell_type": "markdown",
   "id": "e07e1f1f",
   "metadata": {},
   "source": [
    "# Creating a \"Success\" column, based of Installs and Rating\n"
   ]
  },
  {
   "cell_type": "code",
   "execution_count": 829,
   "id": "aa09d301",
   "metadata": {},
   "outputs": [],
   "source": [
    "googleplayclean[\"Success\"] = googleplayclean[\"Rating\"] + googleplayclean[\"Installs\"]"
   ]
  },
  {
   "cell_type": "code",
   "execution_count": 830,
   "id": "0b805cd1",
   "metadata": {},
   "outputs": [
    {
     "data": {
      "text/plain": [
       "False    168140\n",
       "True      14362\n",
       "Name: Success, dtype: int64"
      ]
     },
     "execution_count": 830,
     "metadata": {},
     "output_type": "execute_result"
    }
   ],
   "source": [
    "success_0 = ['>=4.0>=500000']\n",
    "googleplayclean.loc[~googleplayclean['Success'].isin(success_0), 'Success'] = False\n",
    "googleplayclean.loc[googleplayclean['Success'].isin(success_0), 'Success'] = True\n",
    "googleplayclean['Success'].value_counts()"
   ]
  },
  {
   "cell_type": "code",
   "execution_count": 831,
   "id": "65c86595",
   "metadata": {},
   "outputs": [
    {
     "data": {
      "text/plain": [
       "10         False\n",
       "22         False\n",
       "25         False\n",
       "43         False\n",
       "69         False\n",
       "           ...  \n",
       "2312846    False\n",
       "2312866    False\n",
       "2312932     True\n",
       "2312939    False\n",
       "2312943    False\n",
       "Name: Success, Length: 182502, dtype: bool"
      ]
     },
     "execution_count": 831,
     "metadata": {},
     "output_type": "execute_result"
    }
   ],
   "source": [
    "googleplayclean['Success'].astype(bool)"
   ]
  },
  {
   "cell_type": "markdown",
   "id": "2266e592",
   "metadata": {},
   "source": [
    "# Combining Date Scraped and Last Updated"
   ]
  },
  {
   "cell_type": "code",
   "execution_count": 832,
   "id": "e5426410",
   "metadata": {},
   "outputs": [],
   "source": [
    "googleplayclean['Time Gap'] = googleplayclean['Scraped Time'] - googleplayclean['Last Updated']"
   ]
  },
  {
   "cell_type": "code",
   "execution_count": 833,
   "id": "6d8a1e67",
   "metadata": {},
   "outputs": [
    {
     "name": "stdout",
     "output_type": "stream",
     "text": [
      "10         320 days\n",
      "22         400 days\n",
      "25        1177 days\n",
      "43          45 days\n",
      "69          22 days\n",
      "             ...   \n",
      "2312846    305 days\n",
      "2312866   1895 days\n",
      "2312932   1563 days\n",
      "2312939     15 days\n",
      "2312943    667 days\n",
      "Name: Time Gap, Length: 182502, dtype: timedelta64[ns]\n"
     ]
    }
   ],
   "source": [
    "print(googleplayclean['Time Gap'])"
   ]
  },
  {
   "cell_type": "code",
   "execution_count": 834,
   "id": "6c0cfc73",
   "metadata": {},
   "outputs": [
    {
     "name": "stdout",
     "output_type": "stream",
     "text": [
      "10          320\n",
      "22          400\n",
      "25         1177\n",
      "43           45\n",
      "69           22\n",
      "           ... \n",
      "2312846     305\n",
      "2312866    1895\n",
      "2312932    1563\n",
      "2312939      15\n",
      "2312943     667\n",
      "Name: Time Gap, Length: 182502, dtype: object\n"
     ]
    }
   ],
   "source": [
    "googleplayclean['Time Gap'] = googleplayclean['Time Gap'].astype(str)\n",
    "googleplayclean['Time Gap'] = googleplayclean['Time Gap'].str.slice(0, -5, 1)\n",
    "print(googleplayclean['Time Gap'])"
   ]
  },
  {
   "cell_type": "markdown",
   "id": "170cf2ef",
   "metadata": {},
   "source": [
    "# Exporting CSV"
   ]
  },
  {
   "cell_type": "code",
   "execution_count": 835,
   "id": "75119f27",
   "metadata": {},
   "outputs": [],
   "source": [
    "googleplayclean.to_csv(\"googleplayclean.csv\")"
   ]
  }
 ],
 "metadata": {
  "kernelspec": {
   "display_name": "Python 3 (ipykernel)",
   "language": "python",
   "name": "python3"
  },
  "language_info": {
   "codemirror_mode": {
    "name": "ipython",
    "version": 3
   },
   "file_extension": ".py",
   "mimetype": "text/x-python",
   "name": "python",
   "nbconvert_exporter": "python",
   "pygments_lexer": "ipython3",
   "version": "3.9.7"
  }
 },
 "nbformat": 4,
 "nbformat_minor": 5
}
