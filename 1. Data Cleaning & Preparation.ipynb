{
 "cells": [
  {
   "cell_type": "code",
   "execution_count": 593,
   "id": "e748aa87",
   "metadata": {},
   "outputs": [],
   "source": [
    "import numpy as np\n",
    "import pandas as pd\n",
    "import seaborn as sb\n",
    "import matplotlib.pyplot as plt\n",
    "import sklearn.model_selection as sk\n",
    "sb.set()"
   ]
  },
  {
   "cell_type": "code",
   "execution_count": 594,
   "id": "43d3e074",
   "metadata": {},
   "outputs": [],
   "source": [
    "googleplay = pd.read_csv('C:/Users/davyn/OneDrive/Desktop/SC1015 mini-project/googleplay2/Google-Playstore.csv')"
   ]
  },
  {
   "cell_type": "code",
   "execution_count": 595,
   "id": "aad6ef2a",
   "metadata": {},
   "outputs": [
    {
     "name": "stdout",
     "output_type": "stream",
     "text": [
      "<class 'pandas.core.frame.DataFrame'>\n",
      "RangeIndex: 2312944 entries, 0 to 2312943\n",
      "Data columns (total 24 columns):\n",
      " #   Column             Dtype  \n",
      "---  ------             -----  \n",
      " 0   App Name           object \n",
      " 1   App Id             object \n",
      " 2   Category           object \n",
      " 3   Rating             float64\n",
      " 4   Rating Count       float64\n",
      " 5   Installs           object \n",
      " 6   Minimum Installs   float64\n",
      " 7   Maximum Installs   int64  \n",
      " 8   Free               bool   \n",
      " 9   Price              float64\n",
      " 10  Currency           object \n",
      " 11  Size               object \n",
      " 12  Minimum Android    object \n",
      " 13  Developer Id       object \n",
      " 14  Developer Website  object \n",
      " 15  Developer Email    object \n",
      " 16  Released           object \n",
      " 17  Last Updated       object \n",
      " 18  Content Rating     object \n",
      " 19  Privacy Policy     object \n",
      " 20  Ad Supported       bool   \n",
      " 21  In App Purchases   bool   \n",
      " 22  Editors Choice     bool   \n",
      " 23  Scraped Time       object \n",
      "dtypes: bool(4), float64(4), int64(1), object(15)\n",
      "memory usage: 361.8+ MB\n"
     ]
    }
   ],
   "source": [
    "googleplay.info()"
   ]
  },
  {
   "cell_type": "markdown",
   "id": "b3b78d8d",
   "metadata": {},
   "source": [
    "## Dropping unneccessary Columns (e.g. Developer ID, Email, etc.)"
   ]
  },
  {
   "cell_type": "code",
   "execution_count": 596,
   "id": "7ab14de6",
   "metadata": {},
   "outputs": [
    {
     "name": "stdout",
     "output_type": "stream",
     "text": [
      "<class 'pandas.core.frame.DataFrame'>\n",
      "RangeIndex: 2312944 entries, 0 to 2312943\n",
      "Data columns (total 12 columns):\n",
      " #   Column            Dtype  \n",
      "---  ------            -----  \n",
      " 0   Category          object \n",
      " 1   Rating            float64\n",
      " 2   Rating Count      float64\n",
      " 3   Installs          object \n",
      " 4   Free              bool   \n",
      " 5   Price             float64\n",
      " 6   Size              object \n",
      " 7   Last Updated      object \n",
      " 8   Content Rating    object \n",
      " 9   Ad Supported      bool   \n",
      " 10  In App Purchases  bool   \n",
      " 11  Editors Choice    bool   \n",
      "dtypes: bool(4), float64(3), object(5)\n",
      "memory usage: 150.0+ MB\n"
     ]
    }
   ],
   "source": [
    "googleplay = googleplay[['Category','Rating','Rating Count','Installs', 'Free', 'Price', 'Size', 'Last Updated', 'Content Rating', 'Ad Supported', 'In App Purchases', 'Editors Choice']]\n",
    "googleplay.info()"
   ]
  },
  {
   "cell_type": "markdown",
   "id": "d47cf92d",
   "metadata": {},
   "source": [
    "## Removing all rows with null values "
   ]
  },
  {
   "cell_type": "code",
   "execution_count": 597,
   "id": "357601fc",
   "metadata": {},
   "outputs": [],
   "source": [
    "googleplayclean = googleplay.dropna()"
   ]
  },
  {
   "cell_type": "markdown",
   "id": "00fb9b26",
   "metadata": {},
   "source": [
    "# Removing all apps with a rating of 0, to avoid using apps that have 0 outreach and/or are brand new"
   ]
  },
  {
   "cell_type": "code",
   "execution_count": 598,
   "id": "6d9ddbd6",
   "metadata": {},
   "outputs": [],
   "source": [
    "googleplayclean = googleplayclean[(googleplayclean['Rating'] > 0)]"
   ]
  },
  {
   "cell_type": "markdown",
   "id": "a8475715",
   "metadata": {},
   "source": [
    "## Cleaning the Dataset, so that only Game Categories Remain"
   ]
  },
  {
   "cell_type": "code",
   "execution_count": 599,
   "id": "da0865e0",
   "metadata": {},
   "outputs": [],
   "source": [
    "games = ['Word', 'Strategy', 'Card', 'Board', 'Trivia', 'Racing', 'Role Playing', 'Adventure', 'Action', 'Simulation', 'Arcade', 'Puzzle', 'Casual']"
   ]
  },
  {
   "cell_type": "code",
   "execution_count": 600,
   "id": "8354739d",
   "metadata": {},
   "outputs": [],
   "source": [
    "googleplayclean = googleplayclean[googleplayclean['Category'].isin(games)]"
   ]
  },
  {
   "cell_type": "code",
   "execution_count": 601,
   "id": "4e675ca0",
   "metadata": {},
   "outputs": [
    {
     "name": "stdout",
     "output_type": "stream",
     "text": [
      "Puzzle          31939\n",
      "Arcade          30315\n",
      "Casual          28969\n",
      "Simulation      19130\n",
      "Action          18113\n",
      "Adventure       15733\n",
      "Role Playing     8239\n",
      "Racing           7539\n",
      "Trivia           7204\n",
      "Board            7142\n",
      "Card             6162\n",
      "Strategy         5966\n",
      "Word             5859\n",
      "Name: Category, dtype: int64\n"
     ]
    }
   ],
   "source": [
    "print(googleplayclean['Category'].value_counts())"
   ]
  },
  {
   "cell_type": "markdown",
   "id": "7bd819e7",
   "metadata": {},
   "source": [
    "# Clean 'Size' column, convert all to kilobytes "
   ]
  },
  {
   "cell_type": "code",
   "execution_count": 602,
   "id": "8192f119",
   "metadata": {},
   "outputs": [
    {
     "data": {
      "text/plain": [
       "Varies with device    9808\n",
       "19M                   3575\n",
       "18M                   3493\n",
       "23M                   3480\n",
       "25M                   3432\n",
       "                      ... \n",
       "531k                     1\n",
       "281k                     1\n",
       "239M                     1\n",
       "559k                     1\n",
       "870k                     1\n",
       "Name: Size, Length: 1117, dtype: int64"
      ]
     },
     "execution_count": 602,
     "metadata": {},
     "output_type": "execute_result"
    }
   ],
   "source": [
    "googleplayclean['Size'].value_counts()"
   ]
  },
  {
   "cell_type": "code",
   "execution_count": 603,
   "id": "2a55dfd3",
   "metadata": {},
   "outputs": [],
   "source": [
    "googleplayclean.drop(googleplayclean[googleplayclean['Size'] == 'Varies with device'].index, inplace=True)"
   ]
  },
  {
   "cell_type": "code",
   "execution_count": 604,
   "id": "46553b6d",
   "metadata": {},
   "outputs": [],
   "source": [
    "def convert_size(x): #convert to kilobytes\n",
    "    unit = x[-1]\n",
    "    value = x[0:-1]\n",
    "    if(unit == 'M'):\n",
    "        value = value.replace(',', '')\n",
    "        # value = float(x[0:-1])\n",
    "        value = float(value)\n",
    "        value = value*1024\n",
    "        \n",
    "    elif(unit == 'k'):\n",
    "        # value = x[0:-1]\n",
    "        value = value.replace(',', '')\n",
    "        value = float(value)\n",
    "    \n",
    "    return value"
   ]
  },
  {
   "cell_type": "code",
   "execution_count": 605,
   "id": "79e23cec",
   "metadata": {},
   "outputs": [],
   "source": [
    "googleplayclean['Size'] = googleplayclean.apply(lambda row : convert_size(row['Size']), axis = 1)"
   ]
  },
  {
   "cell_type": "code",
   "execution_count": 606,
   "id": "5077c2db",
   "metadata": {},
   "outputs": [
    {
     "data": {
      "text/plain": [
       "10         52224.0\n",
       "22         16384.0\n",
       "25         25600.0\n",
       "43         26624.0\n",
       "69         39936.0\n",
       "            ...   \n",
       "2312846    29696.0\n",
       "2312866    22528.0\n",
       "2312932    37888.0\n",
       "2312939    78848.0\n",
       "2312943     5324.8\n",
       "Name: Size, Length: 182502, dtype: object"
      ]
     },
     "execution_count": 606,
     "metadata": {},
     "output_type": "execute_result"
    }
   ],
   "source": [
    "googleplayclean['Size']"
   ]
  },
  {
   "cell_type": "markdown",
   "id": "0bc706a5",
   "metadata": {},
   "source": [
    "# Cleaning the 'Installs' Column"
   ]
  },
  {
   "cell_type": "code",
   "execution_count": 607,
   "id": "e15603c3",
   "metadata": {},
   "outputs": [
    {
     "data": {
      "text/plain": [
       "1,000,000+        10269\n",
       "500,000+           6999\n",
       "10,000,000+        2285\n",
       "5,000,000+         2249\n",
       "50,000,000+         299\n",
       "100,000,000+        170\n",
       "500,000,000+         10\n",
       "1,000,000,000+        1\n",
       "Name: Installs, dtype: int64"
      ]
     },
     "execution_count": 607,
     "metadata": {},
     "output_type": "execute_result"
    }
   ],
   "source": [
    "installs_0 = ['0+', '1+', '5+', '10+', '50+', '100+', '500+', '1,000+', '5,000+', '10,000+', '50,000+', '100,000+']\n",
    "googleplayclean.loc[~googleplayclean['Installs'].isin(installs_0), 'Installs'].value_counts()"
   ]
  },
  {
   "cell_type": "markdown",
   "id": "03d4636b",
   "metadata": {},
   "source": [
    "# Turning Installs into a \"High\" or \"Low\" Variable"
   ]
  },
  {
   "cell_type": "code",
   "execution_count": 608,
   "id": "59c76a8f",
   "metadata": {},
   "outputs": [],
   "source": [
    "googleplayclean.loc[~googleplayclean['Installs'].isin(installs_0), 'Installs'] = '>=500000'\n",
    "googleplayclean.loc[googleplayclean['Installs'].isin(installs_0), 'Installs'] = '<500000'\n"
   ]
  },
  {
   "cell_type": "code",
   "execution_count": 609,
   "id": "fd1f6cca",
   "metadata": {},
   "outputs": [
    {
     "data": {
      "text/plain": [
       "<500000     160220\n",
       ">=500000     22282\n",
       "Name: Installs, dtype: int64"
      ]
     },
     "execution_count": 609,
     "metadata": {},
     "output_type": "execute_result"
    }
   ],
   "source": [
    "googleplayclean['Installs'].value_counts()"
   ]
  },
  {
   "cell_type": "markdown",
   "id": "59e096e9",
   "metadata": {},
   "source": [
    "# Cleaning the 'Ratings' Column"
   ]
  },
  {
   "cell_type": "code",
   "execution_count": 610,
   "id": "f56e002a",
   "metadata": {},
   "outputs": [
    {
     "data": {
      "text/html": [
       "<div>\n",
       "<style scoped>\n",
       "    .dataframe tbody tr th:only-of-type {\n",
       "        vertical-align: middle;\n",
       "    }\n",
       "\n",
       "    .dataframe tbody tr th {\n",
       "        vertical-align: top;\n",
       "    }\n",
       "\n",
       "    .dataframe thead th {\n",
       "        text-align: right;\n",
       "    }\n",
       "</style>\n",
       "<table border=\"1\" class=\"dataframe\">\n",
       "  <thead>\n",
       "    <tr style=\"text-align: right;\">\n",
       "      <th></th>\n",
       "      <th>Rating</th>\n",
       "    </tr>\n",
       "  </thead>\n",
       "  <tbody>\n",
       "    <tr>\n",
       "      <th>count</th>\n",
       "      <td>182502.000000</td>\n",
       "    </tr>\n",
       "    <tr>\n",
       "      <th>mean</th>\n",
       "      <td>4.099288</td>\n",
       "    </tr>\n",
       "    <tr>\n",
       "      <th>std</th>\n",
       "      <td>0.619297</td>\n",
       "    </tr>\n",
       "    <tr>\n",
       "      <th>min</th>\n",
       "      <td>1.000000</td>\n",
       "    </tr>\n",
       "    <tr>\n",
       "      <th>25%</th>\n",
       "      <td>3.800000</td>\n",
       "    </tr>\n",
       "    <tr>\n",
       "      <th>50%</th>\n",
       "      <td>4.200000</td>\n",
       "    </tr>\n",
       "    <tr>\n",
       "      <th>75%</th>\n",
       "      <td>4.500000</td>\n",
       "    </tr>\n",
       "    <tr>\n",
       "      <th>max</th>\n",
       "      <td>5.000000</td>\n",
       "    </tr>\n",
       "  </tbody>\n",
       "</table>\n",
       "</div>"
      ],
      "text/plain": [
       "              Rating\n",
       "count  182502.000000\n",
       "mean        4.099288\n",
       "std         0.619297\n",
       "min         1.000000\n",
       "25%         3.800000\n",
       "50%         4.200000\n",
       "75%         4.500000\n",
       "max         5.000000"
      ]
     },
     "execution_count": 610,
     "metadata": {},
     "output_type": "execute_result"
    }
   ],
   "source": [
    "googleplayclean.describe()[['Rating']]"
   ]
  },
  {
   "cell_type": "code",
   "execution_count": 611,
   "id": "8dd50bfb",
   "metadata": {},
   "outputs": [],
   "source": [
    "ratings_0 = [4.0, 4.1, 4.2, 4.3, 4.4, 4.5, 4.6, 4.7, 4.8, 4.9, 5.0]\n",
    "ratings_1 = [1.0, 1.1, 1.2, 1.3, 1.4, 1.5, 1.6, 1.7, 1.8, 1.9, 2.0, 2.1, 2.2, 2.3, 2.4, 2.5, 2.6, 2.7, 2.8, 2.9, 3.0, 3.1, 3.2, 3.3, 3.4, 3.5, 3.6, 3.7, 3.8, 3.9]"
   ]
  },
  {
   "cell_type": "code",
   "execution_count": 612,
   "id": "394e10c3",
   "metadata": {},
   "outputs": [],
   "source": [
    "googleplayclean.loc[googleplayclean['Rating'].isin(ratings_0), 'Rating'] = '>=4.0'\n",
    "googleplayclean.loc[googleplayclean['Rating'].isin(ratings_1), 'Rating'] = '<4.0'"
   ]
  },
  {
   "cell_type": "code",
   "execution_count": 613,
   "id": "936103cc",
   "metadata": {},
   "outputs": [
    {
     "data": {
      "text/plain": [
       ">=4.0    116328\n",
       "<4.0      66174\n",
       "Name: Rating, dtype: int64"
      ]
     },
     "execution_count": 613,
     "metadata": {},
     "output_type": "execute_result"
    }
   ],
   "source": [
    "googleplayclean['Rating'].value_counts()"
   ]
  },
  {
   "cell_type": "markdown",
   "id": "6ba56cf0",
   "metadata": {},
   "source": [
    "# Convert 'Last Updated' into datetime"
   ]
  },
  {
   "cell_type": "code",
   "execution_count": 614,
   "id": "91ac9cb6",
   "metadata": {},
   "outputs": [
    {
     "name": "stdout",
     "output_type": "stream",
     "text": [
      "10        2020-07-30\n",
      "22        2020-05-11\n",
      "25        2018-03-26\n",
      "43        2021-05-01\n",
      "69        2021-05-24\n",
      "             ...    \n",
      "2312846   2020-08-15\n",
      "2312866   2016-04-08\n",
      "2312932   2017-03-06\n",
      "2312939   2021-06-01\n",
      "2312943   2019-08-19\n",
      "Name: Last Updated, Length: 182502, dtype: datetime64[ns]\n"
     ]
    }
   ],
   "source": [
    "from datetime import datetime\n",
    "googleplayclean['Last Updated'] = googleplayclean.apply(lambda row : datetime.strptime(row['Last Updated'], '%b %d, %Y'), axis = 1)\n",
    "print(googleplayclean['Last Updated'])"
   ]
  },
  {
   "cell_type": "markdown",
   "id": "74c23f22",
   "metadata": {},
   "source": [
    "# Creating a \"Success\" column, based of Installs and Rating\n"
   ]
  },
  {
   "cell_type": "code",
   "execution_count": 615,
   "id": "7e45218d",
   "metadata": {},
   "outputs": [],
   "source": [
    "googleplayclean[\"Success\"] = googleplayclean[\"Rating\"] + googleplayclean[\"Installs\"]"
   ]
  },
  {
   "cell_type": "code",
   "execution_count": 616,
   "id": "f07cb784",
   "metadata": {},
   "outputs": [
    {
     "data": {
      "text/plain": [
       "False    168140\n",
       "True      14362\n",
       "Name: Success, dtype: int64"
      ]
     },
     "execution_count": 616,
     "metadata": {},
     "output_type": "execute_result"
    }
   ],
   "source": [
    "success_0 = ['>=4.0>=500000']\n",
    "googleplayclean.loc[~googleplayclean['Success'].isin(success_0), 'Success'] = False\n",
    "googleplayclean.loc[googleplayclean['Success'].isin(success_0), 'Success'] = True\n",
    "googleplayclean['Success'].value_counts()"
   ]
  },
  {
   "cell_type": "code",
   "execution_count": 617,
   "id": "e347df88",
   "metadata": {},
   "outputs": [
    {
     "data": {
      "text/plain": [
       "10         False\n",
       "22         False\n",
       "25         False\n",
       "43         False\n",
       "69         False\n",
       "           ...  \n",
       "2312846    False\n",
       "2312866    False\n",
       "2312932     True\n",
       "2312939    False\n",
       "2312943    False\n",
       "Name: Success, Length: 182502, dtype: bool"
      ]
     },
     "execution_count": 617,
     "metadata": {},
     "output_type": "execute_result"
    }
   ],
   "source": [
    "googleplayclean['Success'].astype(bool)"
   ]
  },
  {
   "cell_type": "code",
   "execution_count": 618,
   "id": "fe87087d",
   "metadata": {},
   "outputs": [],
   "source": [
    "googleplayclean.to_csv(\"googleplayclean.csv\")"
   ]
  }
 ],
 "metadata": {
  "kernelspec": {
   "display_name": "Python 3 (ipykernel)",
   "language": "python",
   "name": "python3"
  },
  "language_info": {
   "codemirror_mode": {
    "name": "ipython",
    "version": 3
   },
   "file_extension": ".py",
   "mimetype": "text/x-python",
   "name": "python",
   "nbconvert_exporter": "python",
   "pygments_lexer": "ipython3",
   "version": "3.9.7"
  }
 },
 "nbformat": 4,
 "nbformat_minor": 5
}
