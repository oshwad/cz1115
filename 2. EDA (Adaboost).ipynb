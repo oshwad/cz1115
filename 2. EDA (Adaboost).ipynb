{
 "cells": [
  {
   "cell_type": "code",
   "execution_count": 1,
   "id": "5c1cb5e1",
   "metadata": {},
   "outputs": [],
   "source": [
    "import numpy as np\n",
    "import matplotlib.pyplot as plt\n",
    "import pandas as pd\n",
    "import sklearn\n",
    "from sklearn import metrics\n",
    "from sklearn.preprocessing import StandardScaler\n",
    "sc = StandardScaler()\n",
    "from imblearn.over_sampling import SMOTE\n",
    "from sklearn.model_selection import train_test_split\n",
    "import math\n",
    "from sklearn.ensemble import AdaBoostClassifier\n",
    "ad = AdaBoostClassifier()"
   ]
  },
  {
   "cell_type": "code",
   "execution_count": 2,
   "id": "92fbdeab",
   "metadata": {},
   "outputs": [],
   "source": [
    "googleplayclean = pd.read_csv('C:/Users/davyn/OneDrive/Documents/GitHub/play-store-analysis/googleplayclean.csv')"
   ]
  },
  {
   "cell_type": "code",
   "execution_count": 3,
   "id": "ff423bd0",
   "metadata": {},
   "outputs": [],
   "source": [
    "puzzle = googleplayclean.copy()\n",
    "arcade = googleplayclean.copy()\n",
    "casual = googleplayclean.copy()\n",
    "sim = googleplayclean.copy()\n",
    "action = googleplayclean.copy()\n",
    "adv = googleplayclean.copy()"
   ]
  },
  {
   "cell_type": "markdown",
   "id": "a13cf611",
   "metadata": {},
   "source": [
    "# Using Adaboost on Whole Dataset"
   ]
  },
  {
   "cell_type": "code",
   "execution_count": 4,
   "id": "bb2864f9",
   "metadata": {},
   "outputs": [],
   "source": [
    "cat_vars=['Free', 'Size', 'Ad Supported', 'In App Purchases', 'Editors Choice', 'Time Gap']\n",
    "for var in cat_vars:\n",
    "    cat_list = 'var'+'_'+var\n",
    "    cat_list = pd.get_dummies(googleplayclean[var], prefix=var)\n",
    "    data1 = googleplayclean.join(cat_list)\n",
    "    googleplayclean = data1\n",
    "cat_vars=['Free', 'Size', 'Ad Supported', 'In App Purchases', 'Editors Choice', 'Time Gap']\n",
    "data_vars = googleplayclean.columns.values.tolist()\n",
    "to_keep = [i for i in data_vars if i not in cat_vars]\n",
    "cat_vars=['Free', 'Size', 'Ad Supported', 'In App Purchases', 'Editors Choice', 'Time Gap']\n",
    "data_vars = googleplayclean.columns.values.tolist()\n",
    "to_keep = [i for i in data_vars if i not in cat_vars]"
   ]
  },
  {
   "cell_type": "code",
   "execution_count": 5,
   "id": "823551fb",
   "metadata": {},
   "outputs": [],
   "source": [
    "# dependent variable\n",
    "y = googleplayclean[['Success']]\n",
    "# independent variables\n",
    "x = googleplayclean[['Free', 'Price', 'Ad Supported', 'In App Purchases', 'Editors Choice', 'Time Gap']]\n",
    "\n",
    "os = SMOTE(random_state = 0)\n",
    "x_train, x_test, y_train, y_test = train_test_split(x, y, test_size = 0.2, random_state=0)\n",
    "columns = x_train.columns\n",
    "\n",
    "smote_data_x, smote_data_y = os.fit_resample(x_train, y_train)\n",
    "smote_data_x = pd.DataFrame(data = smote_data_x, columns = columns)\n",
    "smote_data_y = pd.DataFrame(data = smote_data_y, columns = ['Success'])"
   ]
  },
  {
   "cell_type": "code",
   "execution_count": 6,
   "id": "f23862ee",
   "metadata": {},
   "outputs": [
    {
     "name": "stdout",
     "output_type": "stream",
     "text": [
      "Model Score = 0.9229323514262857\n"
     ]
    }
   ],
   "source": [
    "# make a list of all independent features\n",
    "feature_names = smote_data_x.columns.to_list()\n",
    "model = ad.fit(googleplayclean[feature_names].values, googleplayclean[\"Success\"].values)\n",
    "# get the scores\n",
    "score = model.score(googleplayclean[feature_names].values, googleplayclean['Success'].values)\n",
    "print(\"Model Score = {}\".format(score))\n"
   ]
  },
  {
   "cell_type": "code",
   "execution_count": 7,
   "id": "1e4121fd",
   "metadata": {},
   "outputs": [],
   "source": [
    "# create the X with all important features only\n",
    "x = smote_data_x[feature_names]\n",
    "y = smote_data_y['Success']"
   ]
  },
  {
   "cell_type": "code",
   "execution_count": 8,
   "id": "698738f8",
   "metadata": {},
   "outputs": [],
   "source": [
    "x = pd.get_dummies(x, columns=['Free', 'Ad Supported', 'In App Purchases', 'Editors Choice'], drop_first=True)"
   ]
  },
  {
   "cell_type": "code",
   "execution_count": 9,
   "id": "bf7a6bf9",
   "metadata": {},
   "outputs": [
    {
     "name": "stdout",
     "output_type": "stream",
     "text": [
      "Confusion Matrix = \n",
      "[[19547  7381]\n",
      " [ 6140 20762]]\n",
      "Accuracy Score = 0.7488203603938325\n",
      "TNR = 0.7258986928104575\n",
      "TPR = 0.7717641811017768\n"
     ]
    }
   ],
   "source": [
    "#Split the dataset to test and train data\n",
    "x_train, x_test, y_train, y_test = train_test_split(x, y, test_size=0.2, random_state=0)\n",
    "y_pred = ad.fit(x_train, y_train).predict(x_test)\n",
    "from sklearn.metrics import confusion_matrix, accuracy_score\n",
    "cm = confusion_matrix(y_test, y_pred)\n",
    "print(\"Confusion Matrix = \\n{}\".format(cm))\n",
    "ac = accuracy_score(y_test, y_pred)\n",
    "print(\"Accuracy Score = {}\".format(ac))\n",
    "print(\"TNR = {}\".format(19547/(19547+7381)))\n",
    "print(\"TPR = {}\".format(20762/(20762+6140)))"
   ]
  },
  {
   "cell_type": "markdown",
   "id": "724d856f",
   "metadata": {},
   "source": [
    "# Using Adaboost on Puzzle Games"
   ]
  },
  {
   "cell_type": "code",
   "execution_count": 10,
   "id": "b7524f56",
   "metadata": {},
   "outputs": [],
   "source": [
    "puzzle_0 = ['Puzzle']\n",
    "puzzleNotExist = ~puzzle['Category'].isin(puzzle_0)\n",
    "puzzleNotExist_rows = puzzle[puzzleNotExist]\n",
    "puzzle = puzzle.drop(puzzleNotExist_rows.index)"
   ]
  },
  {
   "cell_type": "code",
   "execution_count": 11,
   "id": "c708398c",
   "metadata": {},
   "outputs": [],
   "source": [
    "cat_vars=['Free', 'Size', 'Ad Supported', 'In App Purchases', 'Editors Choice', 'Time Gap']\n",
    "for var in cat_vars:\n",
    "    cat_list = 'var'+'_'+var\n",
    "    cat_list = pd.get_dummies(puzzle[var], prefix=var)\n",
    "    data1 = puzzle.join(cat_list)\n",
    "    puzzle = data1\n",
    "cat_vars=['Free', 'Size', 'Ad Supported', 'In App Purchases', 'Editors Choice', 'Time Gap']\n",
    "data_vars = puzzle.columns.values.tolist()\n",
    "to_keep = [i for i in data_vars if i not in cat_vars]"
   ]
  },
  {
   "cell_type": "code",
   "execution_count": 12,
   "id": "98dd0475",
   "metadata": {},
   "outputs": [
    {
     "name": "stdout",
     "output_type": "stream",
     "text": [
      "Model Score = 0.9368530020703933\n",
      "Confusion Matrix = \n",
      "[[3340 1141]\n",
      " [ 747 3741]]\n",
      "Accuracy Score = 0.7894971568736759\n",
      "TNR = 0.7453693372015175\n",
      "TPR = 0.8335561497326203\n"
     ]
    }
   ],
   "source": [
    "# dependent variable\n",
    "yP = puzzle[['Success']]\n",
    "# independent variables\n",
    "xP = puzzle[['Free', 'Price', 'Ad Supported', 'In App Purchases', 'Editors Choice', 'Time Gap']]\n",
    "\n",
    "osP = SMOTE(random_state = 0)\n",
    "xP_train, xP_test, yP_train, yP_test = train_test_split(xP, yP, test_size = 0.2, random_state=0)\n",
    "columnsP = xP_train.columns\n",
    "\n",
    "smote_data_xP, smote_data_yP = osP.fit_resample(xP_train, yP_train)\n",
    "smote_data_xP = pd.DataFrame(data = smote_data_xP, columns = columnsP)\n",
    "smote_data_yP = pd.DataFrame(data = smote_data_yP, columns = ['Success'])\n",
    "\n",
    "# make a list of all independent features\n",
    "feature_namesP = smote_data_xP.columns.to_list()\n",
    "modelP = ad.fit(puzzle[feature_names].values, puzzle[\"Success\"].values)\n",
    "# get the scores\n",
    "scoreP = modelP.score(puzzle[feature_names].values, puzzle['Success'].values)\n",
    "print(\"Model Score = {}\".format(scoreP))\n",
    "\n",
    "# create the X with all important features only\n",
    "xP = smote_data_xP[feature_names]\n",
    "yP = smote_data_yP['Success']\n",
    "\n",
    "xP = pd.get_dummies(xP, columns=['Free', 'Ad Supported', 'In App Purchases', 'Editors Choice'], drop_first=True)\n",
    "\n",
    "# Splitting the Dataset\n",
    "xP_train, xP_test, yP_train, yP_test = train_test_split(xP, yP, test_size = 0.2, random_state = 0)\n",
    "yP_pred = ad.fit(xP_train, yP_train).predict(xP_test)\n",
    "cmP = confusion_matrix(yP_test, yP_pred)\n",
    "print(\"Confusion Matrix = \\n{}\".format(cmP))\n",
    "acP = accuracy_score(yP_test, yP_pred)\n",
    "print(\"Accuracy Score = {}\".format(acP))\n",
    "print(\"TNR = {}\".format(3340/(3340+1141)))\n",
    "print(\"TPR = {}\".format(3741/(3741+747)))"
   ]
  },
  {
   "cell_type": "markdown",
   "id": "001d79c2",
   "metadata": {},
   "source": [
    "# Using AdaBoost on Arcade Games"
   ]
  },
  {
   "cell_type": "code",
   "execution_count": 13,
   "id": "2c0d437e",
   "metadata": {},
   "outputs": [],
   "source": [
    "arcade_0 = ['Arcade']\n",
    "arcadeNotExist = ~arcade['Category'].isin(arcade_0)\n",
    "arcadeNotExist_rows = arcade[arcadeNotExist]\n",
    "arcade = arcade.drop(arcadeNotExist_rows.index)"
   ]
  },
  {
   "cell_type": "code",
   "execution_count": 14,
   "id": "6ad2965b",
   "metadata": {},
   "outputs": [],
   "source": [
    "cat_vars=['Free', 'Size', 'Ad Supported', 'In App Purchases', 'Editors Choice', 'Time Gap']\n",
    "for var in cat_vars:\n",
    "    cat_list = 'var'+'_'+var\n",
    "    cat_list = pd.get_dummies(arcade[var], prefix=var)\n",
    "    data1 = arcade.join(cat_list)\n",
    "    arcade = data1\n",
    "cat_vars=['Free', 'Size', 'Ad Supported', 'In App Purchases', 'Editors Choice', 'Time Gap']\n",
    "data_vars = arcade.columns.values.tolist()\n",
    "to_keep = [i for i in data_vars if i not in cat_vars]"
   ]
  },
  {
   "cell_type": "code",
   "execution_count": 15,
   "id": "d50a7b8e",
   "metadata": {},
   "outputs": [
    {
     "name": "stdout",
     "output_type": "stream",
     "text": [
      "Model Score = 0.9229323514262857\n",
      "Confusion Matrix = \n",
      "[[3513  921]\n",
      " [ 600 3844]]\n",
      "Accuracy Score = 0.8286776300968687\n",
      "TNR = 0.7922868741542625\n",
      "TPR = 0.864986498649865\n"
     ]
    }
   ],
   "source": [
    "# dependent variable\n",
    "yAr = arcade[['Success']]\n",
    "# independent variables\n",
    "xAr = arcade[['Free', 'Price', 'Ad Supported', 'In App Purchases', 'Editors Choice', 'Time Gap']]\n",
    "\n",
    "osAr = SMOTE(random_state = 0)\n",
    "xAr_train, xAr_test, yAr_train, yAr_test = train_test_split(xAr, yAr, test_size = 0.2, random_state=0)\n",
    "columnsAr= xAr_train.columns\n",
    "\n",
    "smote_data_xAr, smote_data_yAr = osAr.fit_resample(xAr_train, yAr_train)\n",
    "smote_data_xAr = pd.DataFrame(data = smote_data_xAr, columns = columnsAr)\n",
    "smote_data_yAr = pd.DataFrame(data = smote_data_yAr, columns = ['Success'])\n",
    "\n",
    "# make a list of all independent features\n",
    "feature_namesAr = smote_data_xAr.columns.to_list()\n",
    "modelAr = ad.fit(casual[feature_namesAr].values, casual[\"Success\"].values)\n",
    "# get the scores\n",
    "scoreAr = modelAr.score(casual[feature_namesAr].values, casual['Success'].values)\n",
    "print(\"Model Score = {}\".format(scoreAr))\n",
    "\n",
    "# create the X with all important features only\n",
    "xAr = smote_data_xAr[feature_names]\n",
    "yAr = smote_data_yAr['Success']\n",
    "\n",
    "xAr = pd.get_dummies(xAr, columns=['Free', 'Ad Supported', 'In App Purchases', 'Editors Choice'], drop_first=True)\n",
    "\n",
    "# Splitting the Dataset\n",
    "xAr_train, xAr_test, yAr_train, yAr_test = train_test_split(xAr, yAr, test_size = 0.2, random_state = 0)\n",
    "yAr_pred = ad.fit(xAr_train, yAr_train).predict(xAr_test)\n",
    "cmAr = confusion_matrix(yAr_test, yAr_pred)\n",
    "print(\"Confusion Matrix = \\n{}\".format(cmAr))\n",
    "acAr = accuracy_score(yAr_test, yAr_pred)\n",
    "print(\"Accuracy Score = {}\".format(acAr))\n",
    "print(\"TNR = {}\".format(3513/(3513+921)))\n",
    "print(\"TPR = {}\".format(3844/(3844+600)))"
   ]
  },
  {
   "cell_type": "markdown",
   "id": "0d92b942",
   "metadata": {},
   "source": [
    "# Using AdaBoost on Casual Games"
   ]
  },
  {
   "cell_type": "code",
   "execution_count": 16,
   "id": "98c36249",
   "metadata": {},
   "outputs": [
    {
     "name": "stdout",
     "output_type": "stream",
     "text": [
      "Model Score = 0.9255048670637803\n",
      "Confusion Matrix = \n",
      "[[3046 1030]\n",
      " [ 901 3176]]\n",
      "Accuracy Score = 0.7631546669937447\n",
      "TNR = 0.7473012757605496\n",
      "TPR = 0.7790041697326465\n"
     ]
    }
   ],
   "source": [
    "casual_0 = ['Casual']\n",
    "casualNotExist = ~casual['Category'].isin(casual_0)\n",
    "casualNotExist_rows = casual[casualNotExist]\n",
    "casual = casual.drop(casualNotExist_rows.index)\n",
    "\n",
    "cat_vars=['Free', 'Size', 'Ad Supported', 'In App Purchases', 'Editors Choice', 'Time Gap']\n",
    "for var in cat_vars:\n",
    "    cat_list = 'var'+'_'+var\n",
    "    cat_list = pd.get_dummies(casual[var], prefix=var)\n",
    "    data1 = casual.join(cat_list)\n",
    "    casual = data1\n",
    "cat_vars=['Free', 'Size', 'Ad Supported', 'In App Purchases', 'Editors Choice', 'Time Gap']\n",
    "data_vars = casual.columns.values.tolist()\n",
    "to_keep = [i for i in data_vars if i not in cat_vars]\n",
    "\n",
    "# dependent variable\n",
    "yC = casual[['Success']]\n",
    "# independent variables\n",
    "xC = casual[['Free', 'Price', 'Ad Supported', 'In App Purchases', 'Editors Choice', 'Time Gap']]\n",
    "osC = SMOTE(random_state = 0)\n",
    "xC_train, xC_test, yC_train, yC_test = train_test_split(xC, yC, test_size = 0.2, random_state=0)\n",
    "columnsC = xC_train.columns\n",
    "\n",
    "smote_data_xC, smote_data_yC = osC.fit_resample(xC_train, yC_train)\n",
    "smote_data_xC = pd.DataFrame(data = smote_data_xC, columns = columnsC)\n",
    "smote_data_yC = pd.DataFrame(data = smote_data_yC, columns = ['Success'])\n",
    "\n",
    "# make a list of all independent features\n",
    "feature_namesC = smote_data_xC.columns.to_list()\n",
    "modelC = ad.fit(casual[feature_names].values, casual[\"Success\"].values)\n",
    "# get the scores\n",
    "scoreC = modelC.score(casual[feature_namesC].values, casual['Success'].values)\n",
    "print(\"Model Score = {}\".format(scoreC))\n",
    "\n",
    "# create the X with all important features only\n",
    "xC = smote_data_xC[feature_namesC]\n",
    "yC = smote_data_yC['Success']\n",
    "xC = pd.get_dummies(xC, columns=['Free', 'Ad Supported', 'In App Purchases', 'Editors Choice'], drop_first=True)\n",
    "\n",
    "# Splitting the Dataset\n",
    "xC_train, xC_test, yC_train, yC_test = train_test_split(xC, yC, test_size = 0.2, random_state = 0)\n",
    "yC_pred = ad.fit(xC_train, yC_train).predict(xC_test)\n",
    "cmC = confusion_matrix(yC_test, yC_pred)\n",
    "print(\"Confusion Matrix = \\n{}\".format(cmC))\n",
    "acC = accuracy_score(yC_test, yC_pred)\n",
    "print(\"Accuracy Score = {}\".format(acC))\n",
    "print(\"TNR = {}\".format(3046/(3046+1030)))\n",
    "print(\"TPR = {}\".format(3176/(3176+901)))"
   ]
  },
  {
   "cell_type": "markdown",
   "id": "91cfedb3",
   "metadata": {},
   "source": [
    "# Using AdaBoost on Simulation Games"
   ]
  },
  {
   "cell_type": "code",
   "execution_count": 17,
   "id": "6eea0414",
   "metadata": {},
   "outputs": [
    {
     "name": "stdout",
     "output_type": "stream",
     "text": [
      "Model Score = 0.8954370533260033\n",
      "Confusion Matrix = \n",
      "[[1830  725]\n",
      " [ 570 2066]]\n",
      "Accuracy Score = 0.7505297630514352\n",
      "TNR = 0.7162426614481409\n",
      "TPR = 0.783763277693475\n"
     ]
    }
   ],
   "source": [
    "sim_0 = ['Simulation']\n",
    "simNotExist = ~sim['Category'].isin(sim_0)\n",
    "simNotExist_rows = sim[simNotExist]\n",
    "sim = sim.drop(simNotExist_rows.index)\n",
    "\n",
    "cat_vars=['Free', 'Size', 'Ad Supported', 'In App Purchases', 'Editors Choice', 'Time Gap']\n",
    "for var in cat_vars:\n",
    "    cat_list = 'var'+'_'+var\n",
    "    cat_list = pd.get_dummies(sim[var], prefix=var)\n",
    "    data1 = sim.join(cat_list)\n",
    "    sim = data1\n",
    "cat_vars=['Free', 'Size', 'Ad Supported', 'In App Purchases', 'Editors Choice', 'Time Gap']\n",
    "data_vars = sim.columns.values.tolist()\n",
    "to_keep = [i for i in data_vars if i not in cat_vars]\n",
    "\n",
    "# dependent variable\n",
    "yS = sim[['Success']]\n",
    "# independent variables\n",
    "xS = sim[['Free', 'Price', 'Ad Supported', 'In App Purchases', 'Editors Choice', 'Time Gap']]\n",
    "\n",
    "osS = SMOTE(random_state = 0)\n",
    "xS_train, xS_test, yS_train, yS_test = train_test_split(xS, yS, test_size = 0.2, random_state=0)\n",
    "columnsS = xS_train.columns\n",
    "\n",
    "smote_data_xS, smote_data_yS = osS.fit_resample(xS_train, yS_train)\n",
    "smote_data_xS = pd.DataFrame(data = smote_data_xS, columns = columnsS)\n",
    "smote_data_yS = pd.DataFrame(data = smote_data_yS, columns = ['Success'])\n",
    "\n",
    "# make a list of all independent features\n",
    "feature_namesS = smote_data_xS.columns.to_list()\n",
    "modelS = ad.fit(sim[feature_names].values, sim[\"Success\"].values)\n",
    "# get the scores\n",
    "scoreS = modelS.score(sim[feature_namesS].values, sim['Success'].values)\n",
    "print(\"Model Score = {}\".format(scoreS))\n",
    "\n",
    "# create the X with all important features only\n",
    "xS = smote_data_xS[feature_namesS]\n",
    "yS = smote_data_yS['Success']\n",
    "xS = pd.get_dummies(xS, columns=['Free', 'Ad Supported', 'In App Purchases', 'Editors Choice'], drop_first=True)\n",
    "\n",
    "# Splitting the Dataset\n",
    "xS_train, xS_test, yS_train, yS_test = train_test_split(xS, yS, test_size = 0.2, random_state = 0)\n",
    "yS_pred = ad.fit(xS_train, yS_train).predict(xS_test)\n",
    "cmS = confusion_matrix(yS_test, yS_pred)\n",
    "print(\"Confusion Matrix = \\n{}\".format(cmS))\n",
    "acS = accuracy_score(yS_test, yS_pred)\n",
    "print(\"Accuracy Score = {}\".format(acS))\n",
    "print(\"TNR = {}\".format(1830/(1830+725)))\n",
    "print(\"TPR = {}\".format(2066/(2066+570)))"
   ]
  },
  {
   "cell_type": "markdown",
   "id": "19aac11a",
   "metadata": {},
   "source": [
    "# Using AdaBoost on Action Games"
   ]
  },
  {
   "cell_type": "code",
   "execution_count": 18,
   "id": "078e6f16",
   "metadata": {},
   "outputs": [
    {
     "name": "stdout",
     "output_type": "stream",
     "text": [
      "Model Score = 0.905054405054405\n",
      "Confusion Matrix = \n",
      "[[1788  675]\n",
      " [ 358 2105]]\n",
      "Accuracy Score = 0.7902963865205035\n",
      "TNR = 0.7259439707673568\n",
      "TPR = 0.85464880227365\n"
     ]
    }
   ],
   "source": [
    "action_0 = ['Action']\n",
    "actionNotExist = ~action['Category'].isin(action_0)\n",
    "actionNotExist_rows = action[actionNotExist]\n",
    "action = action.drop(actionNotExist_rows.index)\n",
    "\n",
    "cat_vars=['Free', 'Size', 'Ad Supported', 'In App Purchases', 'Editors Choice', 'Time Gap']\n",
    "for var in cat_vars:\n",
    "    cat_list = 'var'+'_'+var\n",
    "    cat_list = pd.get_dummies(action[var], prefix=var)\n",
    "    data1 = action.join(cat_list)\n",
    "    action = data1\n",
    "cat_vars=['Free', 'Size', 'Ad Supported', 'In App Purchases', 'Editors Choice', 'Time Gap']\n",
    "data_vars = action.columns.values.tolist()\n",
    "to_keep = [i for i in data_vars if i not in cat_vars]\n",
    "\n",
    "# dependent variable\n",
    "yA = action[['Success']]\n",
    "# independent variables\n",
    "xA = action[['Free', 'Price', 'Ad Supported', 'In App Purchases', 'Editors Choice', 'Time Gap']]\n",
    "\n",
    "osA = SMOTE(random_state = 0)\n",
    "xA_train, xA_test, yA_train, yA_test = train_test_split(xA, yA, test_size = 0.2, random_state=0)\n",
    "columnsA = xA_train.columns\n",
    "\n",
    "smote_data_xA, smote_data_yA = osA.fit_resample(xA_train, yA_train)\n",
    "smote_data_xA = pd.DataFrame(data = smote_data_xA, columns = columnsA)\n",
    "smote_data_yA = pd.DataFrame(data = smote_data_yA, columns = ['Success'])\n",
    "\n",
    "# make a list of all independent features\n",
    "feature_namesA = smote_data_xA.columns.to_list()\n",
    "modelA = ad.fit(action[feature_names].values, action[\"Success\"].values)\n",
    "# get the scores\n",
    "scoreA = modelA.score(action[feature_namesA].values, action['Success'].values)\n",
    "print(\"Model Score = {}\".format(scoreA))\n",
    "\n",
    "# create the X with all important features only\n",
    "xA = smote_data_xA[feature_namesA]\n",
    "yA = smote_data_yA['Success']\n",
    "xA = pd.get_dummies(xA, columns=['Free', 'Ad Supported', 'In App Purchases', 'Editors Choice'], drop_first=True)\n",
    "\n",
    "# Splitting the Dataset\n",
    "xA_train, xA_test, yA_train, yA_test = train_test_split(xA, yA, test_size = 0.2, random_state = 0)\n",
    "yA_pred = ad.fit(xA_train, yA_train).predict(xA_test)\n",
    "cmA = confusion_matrix(yA_test, yA_pred)\n",
    "print(\"Confusion Matrix = \\n{}\".format(cmA))\n",
    "acA = accuracy_score(yA_test, yA_pred)\n",
    "print(\"Accuracy Score = {}\".format(acA))\n",
    "print(\"TNR = {}\".format(1788/(1788+675)))\n",
    "print(\"TPR = {}\".format(2105/(2105+358)))"
   ]
  },
  {
   "cell_type": "markdown",
   "id": "59af3b61",
   "metadata": {},
   "source": [
    "# Using AdaBoost on Adventure Games"
   ]
  },
  {
   "cell_type": "code",
   "execution_count": 19,
   "id": "ea525bf7",
   "metadata": {},
   "outputs": [
    {
     "name": "stdout",
     "output_type": "stream",
     "text": [
      "Model Score = 0.9047034047034047\n",
      "Confusion Matrix = \n",
      "[[1878  408]\n",
      " [ 282 1959]]\n",
      "Accuracy Score = 0.8475811795891319\n",
      "TNR = 0.821522309711286\n",
      "TPR = 0.8741633199464525\n"
     ]
    }
   ],
   "source": [
    "adv_0 = ['Adventure']\n",
    "advNotExist = ~adv['Category'].isin(adv_0)\n",
    "advNotExist_rows = adv[advNotExist]\n",
    "adv = adv.drop(advNotExist_rows.index)\n",
    "\n",
    "cat_vars=['Free', 'Size', 'Ad Supported', 'In App Purchases', 'Editors Choice', 'Time Gap']\n",
    "for var in cat_vars:\n",
    "    cat_list = 'var'+'_'+var\n",
    "    cat_list = pd.get_dummies(adv[var], prefix=var)\n",
    "    data1 = adv.join(cat_list)\n",
    "    adv = data1\n",
    "cat_vars=['Free', 'Size', 'Ad Supported', 'In App Purchases', 'Editors Choice', 'Time Gap']\n",
    "data_vars = adv.columns.values.tolist()\n",
    "to_keep = [i for i in data_vars if i not in cat_vars]\n",
    "\n",
    "# dependent variable\n",
    "yAdv = adv[['Success']]\n",
    "# independent variables\n",
    "xAdv = adv[['Free', 'Price', 'Ad Supported', 'In App Purchases', 'Editors Choice', 'Time Gap']]\n",
    "\n",
    "osAdv = SMOTE(random_state = 0)\n",
    "xAdv_train, xAdv_test, yAdv_train, yAdv_test = train_test_split(xAdv, yAdv, test_size = 0.2, random_state=0)\n",
    "columnsAdv = xAdv_train.columns\n",
    "\n",
    "smote_data_xAdv, smote_data_yAdv = osAdv.fit_resample(xAdv_train, yAdv_train)\n",
    "smote_data_xAdv = pd.DataFrame(data = smote_data_xAdv, columns = columnsAdv)\n",
    "smote_data_yAdv = pd.DataFrame(data = smote_data_yAdv, columns = ['Success'])\n",
    "\n",
    "# make a list of all independent features\n",
    "feature_namesAdv = smote_data_xAdv.columns.to_list()\n",
    "modelAdv = ad.fit(adv[feature_names].values, adv[\"Success\"].values)\n",
    "# get the scores\n",
    "scoreAdv = modelAdv.score(action[feature_namesAdv].values, action['Success'].values)\n",
    "print(\"Model Score = {}\".format(scoreAdv))\n",
    "\n",
    "# create the X with all important features only\n",
    "xAdv = smote_data_xAdv[feature_namesAdv]\n",
    "yAdv = smote_data_yAdv['Success']\n",
    "xAdv = pd.get_dummies(xAdv, columns=['Free', 'Ad Supported', 'In App Purchases', 'Editors Choice'], drop_first=True)\n",
    "\n",
    "# Splitting the Dataset\n",
    "xAdv_train, xAdv_test, yAdv_train, yAdv_test = train_test_split(xAdv, yAdv, test_size = 0.2, random_state = 0)\n",
    "yAdv_pred = ad.fit(xAdv_train, yAdv_train).predict(xAdv_test)\n",
    "cmAdv = confusion_matrix(yAdv_test, yAdv_pred)\n",
    "print(\"Confusion Matrix = \\n{}\".format(cmAdv))\n",
    "acAdv = accuracy_score(yAdv_test, yAdv_pred)\n",
    "print(\"Accuracy Score = {}\".format(acAdv))\n",
    "print(\"TNR = {}\".format(1878/(1878+408)))\n",
    "print(\"TPR = {}\".format(1959/(1959+282)))"
   ]
  },
  {
   "cell_type": "code",
   "execution_count": null,
   "id": "a8fad986",
   "metadata": {},
   "outputs": [],
   "source": []
  }
 ],
 "metadata": {
  "kernelspec": {
   "display_name": "Python 3 (ipykernel)",
   "language": "python",
   "name": "python3"
  },
  "language_info": {
   "codemirror_mode": {
    "name": "ipython",
    "version": 3
   },
   "file_extension": ".py",
   "mimetype": "text/x-python",
   "name": "python",
   "nbconvert_exporter": "python",
   "pygments_lexer": "ipython3",
   "version": "3.9.7"
  }
 },
 "nbformat": 4,
 "nbformat_minor": 5
}
