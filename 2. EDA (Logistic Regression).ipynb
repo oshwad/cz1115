{
 "cells": [
  {
   "cell_type": "code",
   "execution_count": 1,
   "id": "df4cda9a",
   "metadata": {},
   "outputs": [],
   "source": [
    "import numpy as np\n",
    "import pandas as pd\n",
    "import seaborn as sb\n",
    "import matplotlib.pyplot as plt\n",
    "import sklearn.model_selection as sk\n",
    "sb.set()\n",
    "from sklearn import preprocessing\n",
    "plt.rc(\"font\", size=14)\n",
    "from sklearn.linear_model import LogisticRegression\n",
    "from sklearn.model_selection import train_test_split\n",
    "sb.set(style=\"white\")\n",
    "sb.set(style=\"whitegrid\", color_codes=True)\n",
    "from imblearn.over_sampling import SMOTE\n",
    "import statsmodels.api as sm\n",
    "import math\n",
    "from sklearn import metrics\n",
    "from sklearn.metrics import confusion_matrix"
   ]
  },
  {
   "cell_type": "code",
   "execution_count": 2,
   "id": "89ea02a9",
   "metadata": {},
   "outputs": [],
   "source": [
    "googleplayclean = pd.read_csv('C:/Users/davyn/OneDrive/Documents/GitHub/play-store-analysis/googleplayclean.csv')\n",
    "puzzle = googleplayclean.copy()\n",
    "arcade = googleplayclean.copy()\n",
    "casual = googleplayclean.copy()\n",
    "sim = googleplayclean.copy()\n",
    "action = googleplayclean.copy()\n",
    "adv = googleplayclean.copy()"
   ]
  },
  {
   "cell_type": "code",
   "execution_count": 3,
   "id": "b5913055",
   "metadata": {},
   "outputs": [
    {
     "data": {
      "text/plain": [
       "(182502, 16)"
      ]
     },
     "execution_count": 3,
     "metadata": {},
     "output_type": "execute_result"
    }
   ],
   "source": [
    "googleplayclean.shape"
   ]
  },
  {
   "cell_type": "code",
   "execution_count": 4,
   "id": "b00f2d33",
   "metadata": {},
   "outputs": [
    {
     "data": {
      "text/plain": [
       "Puzzle          29946\n",
       "Arcade          29177\n",
       "Casual          27532\n",
       "Simulation      18190\n",
       "Action          17094\n",
       "Adventure       14994\n",
       "Role Playing     7758\n",
       "Racing           7147\n",
       "Trivia           6992\n",
       "Board            6789\n",
       "Strategy         5670\n",
       "Card             5618\n",
       "Word             5595\n",
       "Name: Category, dtype: int64"
      ]
     },
     "execution_count": 4,
     "metadata": {},
     "output_type": "execute_result"
    }
   ],
   "source": [
    "googleplayclean['Category'].value_counts()"
   ]
  },
  {
   "cell_type": "code",
   "execution_count": 5,
   "id": "df1a02f9",
   "metadata": {},
   "outputs": [
    {
     "name": "stdout",
     "output_type": "stream",
     "text": [
      "<class 'pandas.core.frame.DataFrame'>\n",
      "RangeIndex: 182502 entries, 0 to 182501\n",
      "Data columns (total 16 columns):\n",
      " #   Column            Non-Null Count   Dtype  \n",
      "---  ------            --------------   -----  \n",
      " 0   Unnamed: 0        182502 non-null  int64  \n",
      " 1   Category          182502 non-null  object \n",
      " 2   Rating            182502 non-null  object \n",
      " 3   Rating Count      182502 non-null  float64\n",
      " 4   Installs          182502 non-null  object \n",
      " 5   Free              182502 non-null  bool   \n",
      " 6   Price             182502 non-null  float64\n",
      " 7   Size              182502 non-null  float64\n",
      " 8   Last Updated      182502 non-null  object \n",
      " 9   Content Rating    182502 non-null  object \n",
      " 10  Ad Supported      182502 non-null  bool   \n",
      " 11  In App Purchases  182502 non-null  bool   \n",
      " 12  Editors Choice    182502 non-null  bool   \n",
      " 13  Scraped Time      182502 non-null  object \n",
      " 14  Success           182502 non-null  bool   \n",
      " 15  Time Gap          182502 non-null  int64  \n",
      "dtypes: bool(5), float64(3), int64(2), object(6)\n",
      "memory usage: 16.2+ MB\n"
     ]
    }
   ],
   "source": [
    "googleplayclean.info()"
   ]
  },
  {
   "cell_type": "markdown",
   "id": "9abc8c0d",
   "metadata": {},
   "source": [
    "# Using a Logistic Regression Model for All Categories\n"
   ]
  },
  {
   "cell_type": "code",
   "execution_count": 6,
   "id": "b9b28b55",
   "metadata": {},
   "outputs": [],
   "source": [
    "cat_vars=['Free', 'Size', 'Ad Supported', 'In App Purchases', 'Editors Choice', 'Time Gap']\n",
    "for var in cat_vars:\n",
    "    cat_list = 'var'+'_'+var\n",
    "    cat_list = pd.get_dummies(googleplayclean[var], prefix=var)\n",
    "    data1 = googleplayclean.join(cat_list)\n",
    "    googleplayclean = data1\n",
    "cat_vars=['Free', 'Size', 'Ad Supported', 'In App Purchases', 'Editors Choice', 'Time Gap']\n",
    "data_vars = googleplayclean.columns.values.tolist()\n",
    "to_keep = [i for i in data_vars if i not in cat_vars]\n",
    "cat_vars=['Free', 'Size', 'Ad Supported', 'In App Purchases', 'Editors Choice', 'Time Gap']\n",
    "data_vars = googleplayclean.columns.values.tolist()\n",
    "to_keep = [i for i in data_vars if i not in cat_vars]"
   ]
  },
  {
   "cell_type": "code",
   "execution_count": 7,
   "id": "7d3815da",
   "metadata": {},
   "outputs": [
    {
     "name": "stdout",
     "output_type": "stream",
     "text": [
      "False    168140\n",
      "True      14362\n",
      "Name: Success, dtype: int64\n",
      "False    0.921305\n",
      "True     0.078695\n",
      "Name: Success, dtype: float64\n"
     ]
    }
   ],
   "source": [
    "print(googleplayclean['Success'].value_counts())\n",
    "print(googleplayclean.Success.value_counts() / len(googleplayclean))"
   ]
  },
  {
   "cell_type": "code",
   "execution_count": 8,
   "id": "1b16f8a1",
   "metadata": {},
   "outputs": [],
   "source": [
    "# dependent variable\n",
    "y = googleplayclean[['Success']]\n",
    "# independent variables\n",
    "# x = googleplayclean.drop(columns = ['Success', 'Category', 'Rating', 'Installs', 'Last Updated', 'Content Rating'])\n",
    "x = googleplayclean[['Free', 'Price', 'Ad Supported', 'In App Purchases', 'Editors Choice', 'Time Gap']]\n",
    "# not using size, as the numbers are too similar when compared with size\n",
    "os = SMOTE(random_state = 0)\n",
    "x_train, x_test, y_train, y_test = sk.train_test_split(x, y, test_size = 0.2, random_state=0)\n",
    "columns = x_train.columns\n",
    "\n",
    "smote_data_x, smote_data_y = os.fit_resample(x_train, y_train)\n",
    "smote_data_x = pd.DataFrame(data = smote_data_x, columns = columns)\n",
    "smote_data_y = pd.DataFrame(data = smote_data_y, columns = ['Success'])"
   ]
  },
  {
   "cell_type": "code",
   "execution_count": 9,
   "id": "d6b282e7",
   "metadata": {},
   "outputs": [
    {
     "data": {
      "text/html": [
       "<div>\n",
       "<style scoped>\n",
       "    .dataframe tbody tr th:only-of-type {\n",
       "        vertical-align: middle;\n",
       "    }\n",
       "\n",
       "    .dataframe tbody tr th {\n",
       "        vertical-align: top;\n",
       "    }\n",
       "\n",
       "    .dataframe thead th {\n",
       "        text-align: right;\n",
       "    }\n",
       "</style>\n",
       "<table border=\"1\" class=\"dataframe\">\n",
       "  <thead>\n",
       "    <tr style=\"text-align: right;\">\n",
       "      <th></th>\n",
       "      <th>Free</th>\n",
       "      <th>Price</th>\n",
       "      <th>Ad Supported</th>\n",
       "      <th>In App Purchases</th>\n",
       "      <th>Editors Choice</th>\n",
       "      <th>Time Gap</th>\n",
       "    </tr>\n",
       "  </thead>\n",
       "  <tbody>\n",
       "    <tr>\n",
       "      <th>0</th>\n",
       "      <td>True</td>\n",
       "      <td>0.0</td>\n",
       "      <td>True</td>\n",
       "      <td>False</td>\n",
       "      <td>False</td>\n",
       "      <td>323</td>\n",
       "    </tr>\n",
       "    <tr>\n",
       "      <th>1</th>\n",
       "      <td>True</td>\n",
       "      <td>0.0</td>\n",
       "      <td>False</td>\n",
       "      <td>False</td>\n",
       "      <td>False</td>\n",
       "      <td>378</td>\n",
       "    </tr>\n",
       "    <tr>\n",
       "      <th>2</th>\n",
       "      <td>True</td>\n",
       "      <td>0.0</td>\n",
       "      <td>True</td>\n",
       "      <td>False</td>\n",
       "      <td>False</td>\n",
       "      <td>364</td>\n",
       "    </tr>\n",
       "    <tr>\n",
       "      <th>3</th>\n",
       "      <td>True</td>\n",
       "      <td>0.0</td>\n",
       "      <td>True</td>\n",
       "      <td>False</td>\n",
       "      <td>False</td>\n",
       "      <td>184</td>\n",
       "    </tr>\n",
       "    <tr>\n",
       "      <th>4</th>\n",
       "      <td>True</td>\n",
       "      <td>0.0</td>\n",
       "      <td>True</td>\n",
       "      <td>False</td>\n",
       "      <td>False</td>\n",
       "      <td>25</td>\n",
       "    </tr>\n",
       "    <tr>\n",
       "      <th>...</th>\n",
       "      <td>...</td>\n",
       "      <td>...</td>\n",
       "      <td>...</td>\n",
       "      <td>...</td>\n",
       "      <td>...</td>\n",
       "      <td>...</td>\n",
       "    </tr>\n",
       "    <tr>\n",
       "      <th>269141</th>\n",
       "      <td>True</td>\n",
       "      <td>0.0</td>\n",
       "      <td>True</td>\n",
       "      <td>True</td>\n",
       "      <td>False</td>\n",
       "      <td>630</td>\n",
       "    </tr>\n",
       "    <tr>\n",
       "      <th>269142</th>\n",
       "      <td>True</td>\n",
       "      <td>0.0</td>\n",
       "      <td>True</td>\n",
       "      <td>True</td>\n",
       "      <td>False</td>\n",
       "      <td>92</td>\n",
       "    </tr>\n",
       "    <tr>\n",
       "      <th>269143</th>\n",
       "      <td>True</td>\n",
       "      <td>0.0</td>\n",
       "      <td>True</td>\n",
       "      <td>True</td>\n",
       "      <td>False</td>\n",
       "      <td>1570</td>\n",
       "    </tr>\n",
       "    <tr>\n",
       "      <th>269144</th>\n",
       "      <td>True</td>\n",
       "      <td>0.0</td>\n",
       "      <td>True</td>\n",
       "      <td>True</td>\n",
       "      <td>False</td>\n",
       "      <td>36</td>\n",
       "    </tr>\n",
       "    <tr>\n",
       "      <th>269145</th>\n",
       "      <td>True</td>\n",
       "      <td>0.0</td>\n",
       "      <td>True</td>\n",
       "      <td>True</td>\n",
       "      <td>False</td>\n",
       "      <td>16</td>\n",
       "    </tr>\n",
       "  </tbody>\n",
       "</table>\n",
       "<p>269146 rows × 6 columns</p>\n",
       "</div>"
      ],
      "text/plain": [
       "        Free  Price  Ad Supported  In App Purchases  Editors Choice  Time Gap\n",
       "0       True    0.0          True             False           False       323\n",
       "1       True    0.0         False             False           False       378\n",
       "2       True    0.0          True             False           False       364\n",
       "3       True    0.0          True             False           False       184\n",
       "4       True    0.0          True             False           False        25\n",
       "...      ...    ...           ...               ...             ...       ...\n",
       "269141  True    0.0          True              True           False       630\n",
       "269142  True    0.0          True              True           False        92\n",
       "269143  True    0.0          True              True           False      1570\n",
       "269144  True    0.0          True              True           False        36\n",
       "269145  True    0.0          True              True           False        16\n",
       "\n",
       "[269146 rows x 6 columns]"
      ]
     },
     "execution_count": 9,
     "metadata": {},
     "output_type": "execute_result"
    }
   ],
   "source": [
    "smote_data_x"
   ]
  },
  {
   "cell_type": "code",
   "execution_count": 10,
   "id": "692c89de",
   "metadata": {},
   "outputs": [
    {
     "data": {
      "text/html": [
       "<div>\n",
       "<style scoped>\n",
       "    .dataframe tbody tr th:only-of-type {\n",
       "        vertical-align: middle;\n",
       "    }\n",
       "\n",
       "    .dataframe tbody tr th {\n",
       "        vertical-align: top;\n",
       "    }\n",
       "\n",
       "    .dataframe thead th {\n",
       "        text-align: right;\n",
       "    }\n",
       "</style>\n",
       "<table border=\"1\" class=\"dataframe\">\n",
       "  <thead>\n",
       "    <tr style=\"text-align: right;\">\n",
       "      <th></th>\n",
       "      <th>Success</th>\n",
       "    </tr>\n",
       "  </thead>\n",
       "  <tbody>\n",
       "    <tr>\n",
       "      <th>0</th>\n",
       "      <td>False</td>\n",
       "    </tr>\n",
       "    <tr>\n",
       "      <th>1</th>\n",
       "      <td>False</td>\n",
       "    </tr>\n",
       "    <tr>\n",
       "      <th>2</th>\n",
       "      <td>False</td>\n",
       "    </tr>\n",
       "    <tr>\n",
       "      <th>3</th>\n",
       "      <td>False</td>\n",
       "    </tr>\n",
       "    <tr>\n",
       "      <th>4</th>\n",
       "      <td>False</td>\n",
       "    </tr>\n",
       "    <tr>\n",
       "      <th>...</th>\n",
       "      <td>...</td>\n",
       "    </tr>\n",
       "    <tr>\n",
       "      <th>269141</th>\n",
       "      <td>True</td>\n",
       "    </tr>\n",
       "    <tr>\n",
       "      <th>269142</th>\n",
       "      <td>True</td>\n",
       "    </tr>\n",
       "    <tr>\n",
       "      <th>269143</th>\n",
       "      <td>True</td>\n",
       "    </tr>\n",
       "    <tr>\n",
       "      <th>269144</th>\n",
       "      <td>True</td>\n",
       "    </tr>\n",
       "    <tr>\n",
       "      <th>269145</th>\n",
       "      <td>True</td>\n",
       "    </tr>\n",
       "  </tbody>\n",
       "</table>\n",
       "<p>269146 rows × 1 columns</p>\n",
       "</div>"
      ],
      "text/plain": [
       "        Success\n",
       "0         False\n",
       "1         False\n",
       "2         False\n",
       "3         False\n",
       "4         False\n",
       "...         ...\n",
       "269141     True\n",
       "269142     True\n",
       "269143     True\n",
       "269144     True\n",
       "269145     True\n",
       "\n",
       "[269146 rows x 1 columns]"
      ]
     },
     "execution_count": 10,
     "metadata": {},
     "output_type": "execute_result"
    }
   ],
   "source": [
    "smote_data_y"
   ]
  },
  {
   "cell_type": "code",
   "execution_count": 11,
   "id": "dd5e45e3",
   "metadata": {},
   "outputs": [
    {
     "name": "stdout",
     "output_type": "stream",
     "text": [
      "% of each class in the original dataset -\n",
      "False    0.921305\n",
      "True     0.078695\n",
      "Name: Success, dtype: float64\n"
     ]
    }
   ],
   "source": [
    "print( \"% of each class in the original dataset -\")\n",
    "print(googleplayclean.Success.value_counts() / len(googleplayclean))"
   ]
  },
  {
   "cell_type": "code",
   "execution_count": 12,
   "id": "098ca8bc",
   "metadata": {},
   "outputs": [
    {
     "name": "stdout",
     "output_type": "stream",
     "text": [
      "% of each class in SMOTE sampled dataset -\n",
      "False    0.737378\n",
      "True     0.737378\n",
      "Name: Success, dtype: float64\n"
     ]
    }
   ],
   "source": [
    "print ( \"% of each class in SMOTE sampled dataset -\")\n",
    "print (smote_data_y.Success.value_counts() / len(googleplayclean))"
   ]
  },
  {
   "cell_type": "code",
   "execution_count": 13,
   "id": "6c0063e7",
   "metadata": {},
   "outputs": [
    {
     "name": "stderr",
     "output_type": "stream",
     "text": [
      "C:\\Users\\davyn\\anaconda3\\lib\\site-packages\\sklearn\\linear_model\\_logistic.py:814: ConvergenceWarning: lbfgs failed to converge (status=1):\n",
      "STOP: TOTAL NO. of ITERATIONS REACHED LIMIT.\n",
      "\n",
      "Increase the number of iterations (max_iter) or scale the data as shown in:\n",
      "    https://scikit-learn.org/stable/modules/preprocessing.html\n",
      "Please also refer to the documentation for alternative solver options:\n",
      "    https://scikit-learn.org/stable/modules/linear_model.html#logistic-regression\n",
      "  n_iter_i = _check_optimize_result(\n"
     ]
    },
    {
     "name": "stdout",
     "output_type": "stream",
     "text": [
      "Model Score = 0.9228994750742457\n"
     ]
    },
    {
     "data": {
      "image/png": "[encoded data removed]",
      "text/plain": [
       "<Figure size 432x288 with 1 Axes>"
      ]
     },
     "metadata": {},
     "output_type": "display_data"
    },
    {
     "data": {
      "text/html": [
       "<div>\n",
       "<style scoped>\n",
       "    .dataframe tbody tr th:only-of-type {\n",
       "        vertical-align: middle;\n",
       "    }\n",
       "\n",
       "    .dataframe tbody tr th {\n",
       "        vertical-align: top;\n",
       "    }\n",
       "\n",
       "    .dataframe thead th {\n",
       "        text-align: right;\n",
       "    }\n",
       "</style>\n",
       "<table border=\"1\" class=\"dataframe\">\n",
       "  <thead>\n",
       "    <tr style=\"text-align: right;\">\n",
       "      <th></th>\n",
       "      <th>feature</th>\n",
       "      <th>importance</th>\n",
       "    </tr>\n",
       "  </thead>\n",
       "  <tbody>\n",
       "    <tr>\n",
       "      <th>4</th>\n",
       "      <td>Editors Choice</td>\n",
       "      <td>13.761855</td>\n",
       "    </tr>\n",
       "    <tr>\n",
       "      <th>3</th>\n",
       "      <td>In App Purchases</td>\n",
       "      <td>5.274470</td>\n",
       "    </tr>\n",
       "    <tr>\n",
       "      <th>2</th>\n",
       "      <td>Ad Supported</td>\n",
       "      <td>1.955677</td>\n",
       "    </tr>\n",
       "    <tr>\n",
       "      <th>5</th>\n",
       "      <td>Time Gap</td>\n",
       "      <td>0.999355</td>\n",
       "    </tr>\n",
       "    <tr>\n",
       "      <th>1</th>\n",
       "      <td>Price</td>\n",
       "      <td>0.703430</td>\n",
       "    </tr>\n",
       "    <tr>\n",
       "      <th>0</th>\n",
       "      <td>Free</td>\n",
       "      <td>0.273074</td>\n",
       "    </tr>\n",
       "  </tbody>\n",
       "</table>\n",
       "</div>"
      ],
      "text/plain": [
       "            feature  importance\n",
       "4    Editors Choice   13.761855\n",
       "3  In App Purchases    5.274470\n",
       "2      Ad Supported    1.955677\n",
       "5          Time Gap    0.999355\n",
       "1             Price    0.703430\n",
       "0              Free    0.273074"
      ]
     },
     "execution_count": 13,
     "metadata": {},
     "output_type": "execute_result"
    }
   ],
   "source": [
    "# make a list of all independent features\n",
    "feature_names = smote_data_x.columns.to_list()\n",
    "model = LogisticRegression(random_state=0).fit(googleplayclean[feature_names].values, googleplayclean[\"Success\"].values)\n",
    "# get the scores\n",
    "score = model.score(googleplayclean[feature_names].values, googleplayclean['Success'].values)\n",
    "print(\"Model Score = {}\".format(score))\n",
    "w0 = model.intercept_[0]\n",
    "w = model.coef_[0]\n",
    "\n",
    "# important features\n",
    "feature_importance = pd.DataFrame(feature_names, columns = [\"feature\"])\n",
    "feature_importance[\"importance\"] = pow(math.e, w)\n",
    "feature_importance = feature_importance.sort_values(by = [\"importance\"], ascending = False)\n",
    "feature_importance = feature_importance[:10].sort_values(by = [\"importance\"], ascending = False)\n",
    "\n",
    "# Visualisation\n",
    "ax = feature_importance.sort_values(by = [\"importance\"], ascending=True).plot.barh(x = 'feature', y = 'importance')\n",
    "\n",
    "plt.title('Important Features')\n",
    "plt.show()\n",
    "\n",
    "# Important Features\n",
    "feature_importance"
   ]
  },
  {
   "cell_type": "code",
   "execution_count": 14,
   "id": "be27c5d8",
   "metadata": {},
   "outputs": [],
   "source": [
    "# make a list of all features\n",
    "feature_importance_list = feature_importance['feature'].to_list()\n",
    "\n",
    "# create the X with all important features only\n",
    "x = smote_data_x[feature_importance_list]\n",
    "y = smote_data_y['Success']"
   ]
  },
  {
   "cell_type": "code",
   "execution_count": 15,
   "id": "60ebf66e",
   "metadata": {},
   "outputs": [],
   "source": [
    "x = pd.get_dummies(x, columns=['Free', 'Ad Supported', 'In App Purchases', 'Editors Choice'], drop_first=True)"
   ]
  },
  {
   "cell_type": "code",
   "execution_count": 16,
   "id": "95fa9d86",
   "metadata": {
    "scrolled": true
   },
   "outputs": [
    {
     "name": "stdout",
     "output_type": "stream",
     "text": [
      "Optimization terminated successfully.\n",
      "         Current function value: 0.546454\n",
      "         Iterations 9\n",
      "                            Results: Logit\n",
      "======================================================================\n",
      "Model:                Logit             Pseudo R-squared:  0.212      \n",
      "Dependent Variable:   Success           AIC:               235332.7557\n",
      "Date:                 2022-04-22 04:38  BIC:               235394.4349\n",
      "No. Observations:     215316            Log-Likelihood:    -1.1766e+05\n",
      "Df Model:             5                 LL-Null:           -1.4925e+05\n",
      "Df Residuals:         215310            LLR p-value:       0.0000     \n",
      "Converged:            1.0000            Scale:             1.0000     \n",
      "No. Iterations:       9.0000                                          \n",
      "----------------------------------------------------------------------\n",
      "                       Coef.  Std.Err.    z     P>|z|   [0.025  0.975]\n",
      "----------------------------------------------------------------------\n",
      "Time Gap              -0.0006   0.0000 -70.1162 0.0000 -0.0006 -0.0006\n",
      "Price                 -0.7836   0.0230 -34.0362 0.0000 -0.8287 -0.7385\n",
      "Free_True             -1.8872   0.0200 -94.2019 0.0000 -1.9265 -1.8480\n",
      "Ad Supported_True      1.3650   0.0193  70.7465 0.0000  1.3271  1.4028\n",
      "In App Purchases_True  1.8872   0.0101 186.5869 0.0000  1.8674  1.9071\n",
      "Editors Choice_True    4.1617   0.1810  22.9984 0.0000  3.8070  4.5163\n",
      "======================================================================\n",
      "\n"
     ]
    }
   ],
   "source": [
    "#Split the dataset to test and train data\n",
    "x_train, x_test, y_train, y_test = sk.train_test_split(x, y, test_size=0.2, random_state=0)\n",
    "logit_model=sm.Logit(y_train,x_train)\n",
    "result = logit_model.fit()\n",
    "print(result.summary2())"
   ]
  },
  {
   "cell_type": "code",
   "execution_count": 17,
   "id": "53891503",
   "metadata": {},
   "outputs": [
    {
     "name": "stdout",
     "output_type": "stream",
     "text": [
      "Logistic Regression Model Accuracy: 0.74\n"
     ]
    },
    {
     "name": "stderr",
     "output_type": "stream",
     "text": [
      "C:\\Users\\davyn\\anaconda3\\lib\\site-packages\\sklearn\\linear_model\\_logistic.py:814: ConvergenceWarning: lbfgs failed to converge (status=1):\n",
      "STOP: TOTAL NO. of ITERATIONS REACHED LIMIT.\n",
      "\n",
      "Increase the number of iterations (max_iter) or scale the data as shown in:\n",
      "    https://scikit-learn.org/stable/modules/preprocessing.html\n",
      "Please also refer to the documentation for alternative solver options:\n",
      "    https://scikit-learn.org/stable/modules/linear_model.html#logistic-regression\n",
      "  n_iter_i = _check_optimize_result(\n"
     ]
    }
   ],
   "source": [
    "logreg = LogisticRegression()\n",
    "logreg.fit(x_train, y_train)\n",
    "y_pred = logreg.predict(x_test)\n",
    "print('Logistic Regression Model Accuracy: {:.2f}'.format(logreg.score(x_test,y_test)))"
   ]
  },
  {
   "cell_type": "code",
   "execution_count": 18,
   "id": "0958494a",
   "metadata": {},
   "outputs": [
    {
     "data": {
      "image/png": "[encoded data removed]",
      "text/plain": [
       "<Figure size 432x288 with 1 Axes>"
      ]
     },
     "metadata": {},
     "output_type": "display_data"
    }
   ],
   "source": [
    "from sklearn.metrics import roc_auc_score\n",
    "from sklearn.metrics import roc_curve\n",
    "logit_roc_auc = roc_auc_score(y_test, logreg.predict(x_test))\n",
    "fpr, tpr, thresholds = roc_curve(y_test, logreg.predict_proba(x_test)[:,1])\n",
    "plt.figure()\n",
    "plt.plot(fpr, tpr, label='Logistric Regression (area = %0.2f)' % logit_roc_auc)\n",
    "plt.plot([0,1], [0,1], 'r--')\n",
    "plt.xlim([0.0, 1.0])\n",
    "plt.ylim([0.0, 1.05])\n",
    "plt.xlabel('False Positive Rate')\n",
    "plt.ylabel('True Positive Rate')\n",
    "plt.title('Receiver Operating Characteristic')\n",
    "plt.legend(loc = \"lower right\")\n",
    "plt.savefig('Log_ROC')\n",
    "plt.show()"
   ]
  },
  {
   "cell_type": "code",
   "execution_count": 19,
   "id": "445cf91b",
   "metadata": {},
   "outputs": [
    {
     "name": "stdout",
     "output_type": "stream",
     "text": [
      "[[20451  6477]\n",
      " [ 7712 19190]]\n",
      "Accuracy Score = 0.7364109232769831\n",
      "TNR = 0.759469696969697\n",
      "TPR = 0.7133298639506357\n"
     ]
    }
   ],
   "source": [
    "from sklearn.metrics import confusion_matrix, accuracy_score\n",
    "cm = confusion_matrix(y_test, y_pred)\n",
    "ac = accuracy_score(y_test, y_pred)\n",
    "print(cm)\n",
    "print(\"Accuracy Score = {}\".format(ac))\n",
    "print(\"TNR = {}\".format(20451/(20451+6477)))\n",
    "print(\"TPR = {}\".format(19190/(19190+7712)))"
   ]
  },
  {
   "cell_type": "markdown",
   "id": "df787adb",
   "metadata": {},
   "source": [
    "# Logistic Regression for Puzzle Games\n"
   ]
  },
  {
   "cell_type": "code",
   "execution_count": 20,
   "id": "63a1087c",
   "metadata": {},
   "outputs": [],
   "source": [
    "puzzle_0 = ['Puzzle']\n",
    "puzzleNotExist = ~puzzle['Category'].isin(puzzle_0)\n",
    "puzzleNotExist_rows = puzzle[puzzleNotExist]"
   ]
  },
  {
   "cell_type": "code",
   "execution_count": 21,
   "id": "4d4a0f0d",
   "metadata": {},
   "outputs": [],
   "source": [
    "puzzle = puzzle.drop(puzzleNotExist_rows.index)"
   ]
  },
  {
   "cell_type": "code",
   "execution_count": 22,
   "id": "53e8d252",
   "metadata": {},
   "outputs": [],
   "source": [
    "cat_vars=['Free', 'Size', 'Ad Supported', 'In App Purchases', 'Editors Choice', 'Time Gap']\n",
    "for var in cat_vars:\n",
    "    cat_list = 'var'+'_'+var\n",
    "    cat_list = pd.get_dummies(puzzle[var], prefix=var)\n",
    "    data1 = puzzle.join(cat_list)\n",
    "    puzzle = data1\n",
    "cat_vars=['Free', 'Size', 'Ad Supported', 'In App Purchases', 'Editors Choice', 'Time Gap']\n",
    "data_vars = puzzle.columns.values.tolist()\n",
    "to_keep = [i for i in data_vars if i not in cat_vars]\n"
   ]
  },
  {
   "cell_type": "code",
   "execution_count": 23,
   "id": "0bfee158",
   "metadata": {},
   "outputs": [
    {
     "name": "stdout",
     "output_type": "stream",
     "text": [
      "False    28011\n",
      "True      1935\n",
      "Name: Success, dtype: int64\n",
      "False    0.935384\n",
      "True     0.064616\n",
      "Name: Success, dtype: float64\n"
     ]
    }
   ],
   "source": [
    "print(puzzle['Success'].value_counts())\n",
    "print(puzzle.Success.value_counts() / len(puzzle))"
   ]
  },
  {
   "cell_type": "code",
   "execution_count": 24,
   "id": "0fb7c9fe",
   "metadata": {},
   "outputs": [],
   "source": [
    "# dependent variable\n",
    "yP = puzzle[['Success']]\n",
    "# independent variables\n",
    "xP = puzzle[['Free', 'Price', 'Ad Supported', 'In App Purchases', 'Editors Choice', 'Time Gap']]\n",
    "# not using size, as the numbers are too similar when compared with size\n",
    "osP = SMOTE(random_state = 0)\n",
    "xP_train, xP_test, yP_train, yP_test = sk.train_test_split(xP, yP, test_size = 0.2, random_state=0)\n",
    "columnsP = xP_train.columns\n",
    "\n",
    "smote_data_xP, smote_data_yP = osP.fit_resample(xP_train, yP_train)\n",
    "smote_data_xP = pd.DataFrame(data = smote_data_xP, columns = columnsP)\n",
    "smote_data_yP = pd.DataFrame(data = smote_data_yP, columns = ['Success'])"
   ]
  },
  {
   "cell_type": "code",
   "execution_count": 25,
   "id": "af5e4750",
   "metadata": {},
   "outputs": [
    {
     "data": {
      "text/html": [
       "<div>\n",
       "<style scoped>\n",
       "    .dataframe tbody tr th:only-of-type {\n",
       "        vertical-align: middle;\n",
       "    }\n",
       "\n",
       "    .dataframe tbody tr th {\n",
       "        vertical-align: top;\n",
       "    }\n",
       "\n",
       "    .dataframe thead th {\n",
       "        text-align: right;\n",
       "    }\n",
       "</style>\n",
       "<table border=\"1\" class=\"dataframe\">\n",
       "  <thead>\n",
       "    <tr style=\"text-align: right;\">\n",
       "      <th></th>\n",
       "      <th>Free</th>\n",
       "      <th>Price</th>\n",
       "      <th>Ad Supported</th>\n",
       "      <th>In App Purchases</th>\n",
       "      <th>Editors Choice</th>\n",
       "      <th>Time Gap</th>\n",
       "    </tr>\n",
       "  </thead>\n",
       "  <tbody>\n",
       "    <tr>\n",
       "      <th>0</th>\n",
       "      <td>True</td>\n",
       "      <td>0.0</td>\n",
       "      <td>True</td>\n",
       "      <td>False</td>\n",
       "      <td>False</td>\n",
       "      <td>1551</td>\n",
       "    </tr>\n",
       "    <tr>\n",
       "      <th>1</th>\n",
       "      <td>True</td>\n",
       "      <td>0.0</td>\n",
       "      <td>True</td>\n",
       "      <td>False</td>\n",
       "      <td>False</td>\n",
       "      <td>1446</td>\n",
       "    </tr>\n",
       "    <tr>\n",
       "      <th>2</th>\n",
       "      <td>True</td>\n",
       "      <td>0.0</td>\n",
       "      <td>True</td>\n",
       "      <td>False</td>\n",
       "      <td>False</td>\n",
       "      <td>824</td>\n",
       "    </tr>\n",
       "    <tr>\n",
       "      <th>3</th>\n",
       "      <td>True</td>\n",
       "      <td>0.0</td>\n",
       "      <td>False</td>\n",
       "      <td>False</td>\n",
       "      <td>False</td>\n",
       "      <td>1223</td>\n",
       "    </tr>\n",
       "    <tr>\n",
       "      <th>4</th>\n",
       "      <td>True</td>\n",
       "      <td>0.0</td>\n",
       "      <td>True</td>\n",
       "      <td>False</td>\n",
       "      <td>False</td>\n",
       "      <td>1081</td>\n",
       "    </tr>\n",
       "    <tr>\n",
       "      <th>...</th>\n",
       "      <td>...</td>\n",
       "      <td>...</td>\n",
       "      <td>...</td>\n",
       "      <td>...</td>\n",
       "      <td>...</td>\n",
       "      <td>...</td>\n",
       "    </tr>\n",
       "    <tr>\n",
       "      <th>44837</th>\n",
       "      <td>True</td>\n",
       "      <td>0.0</td>\n",
       "      <td>True</td>\n",
       "      <td>True</td>\n",
       "      <td>False</td>\n",
       "      <td>107</td>\n",
       "    </tr>\n",
       "    <tr>\n",
       "      <th>44838</th>\n",
       "      <td>True</td>\n",
       "      <td>0.0</td>\n",
       "      <td>True</td>\n",
       "      <td>True</td>\n",
       "      <td>False</td>\n",
       "      <td>139</td>\n",
       "    </tr>\n",
       "    <tr>\n",
       "      <th>44839</th>\n",
       "      <td>True</td>\n",
       "      <td>0.0</td>\n",
       "      <td>True</td>\n",
       "      <td>True</td>\n",
       "      <td>True</td>\n",
       "      <td>89</td>\n",
       "    </tr>\n",
       "    <tr>\n",
       "      <th>44840</th>\n",
       "      <td>True</td>\n",
       "      <td>0.0</td>\n",
       "      <td>True</td>\n",
       "      <td>True</td>\n",
       "      <td>False</td>\n",
       "      <td>162</td>\n",
       "    </tr>\n",
       "    <tr>\n",
       "      <th>44841</th>\n",
       "      <td>True</td>\n",
       "      <td>0.0</td>\n",
       "      <td>True</td>\n",
       "      <td>True</td>\n",
       "      <td>False</td>\n",
       "      <td>53</td>\n",
       "    </tr>\n",
       "  </tbody>\n",
       "</table>\n",
       "<p>44842 rows × 6 columns</p>\n",
       "</div>"
      ],
      "text/plain": [
       "       Free  Price  Ad Supported  In App Purchases  Editors Choice  Time Gap\n",
       "0      True    0.0          True             False           False      1551\n",
       "1      True    0.0          True             False           False      1446\n",
       "2      True    0.0          True             False           False       824\n",
       "3      True    0.0         False             False           False      1223\n",
       "4      True    0.0          True             False           False      1081\n",
       "...     ...    ...           ...               ...             ...       ...\n",
       "44837  True    0.0          True              True           False       107\n",
       "44838  True    0.0          True              True           False       139\n",
       "44839  True    0.0          True              True            True        89\n",
       "44840  True    0.0          True              True           False       162\n",
       "44841  True    0.0          True              True           False        53\n",
       "\n",
       "[44842 rows x 6 columns]"
      ]
     },
     "execution_count": 25,
     "metadata": {},
     "output_type": "execute_result"
    }
   ],
   "source": [
    "smote_data_xP"
   ]
  },
  {
   "cell_type": "code",
   "execution_count": 26,
   "id": "c5d49c98",
   "metadata": {},
   "outputs": [
    {
     "data": {
      "text/html": [
       "<div>\n",
       "<style scoped>\n",
       "    .dataframe tbody tr th:only-of-type {\n",
       "        vertical-align: middle;\n",
       "    }\n",
       "\n",
       "    .dataframe tbody tr th {\n",
       "        vertical-align: top;\n",
       "    }\n",
       "\n",
       "    .dataframe thead th {\n",
       "        text-align: right;\n",
       "    }\n",
       "</style>\n",
       "<table border=\"1\" class=\"dataframe\">\n",
       "  <thead>\n",
       "    <tr style=\"text-align: right;\">\n",
       "      <th></th>\n",
       "      <th>Success</th>\n",
       "    </tr>\n",
       "  </thead>\n",
       "  <tbody>\n",
       "    <tr>\n",
       "      <th>0</th>\n",
       "      <td>False</td>\n",
       "    </tr>\n",
       "    <tr>\n",
       "      <th>1</th>\n",
       "      <td>False</td>\n",
       "    </tr>\n",
       "    <tr>\n",
       "      <th>2</th>\n",
       "      <td>False</td>\n",
       "    </tr>\n",
       "    <tr>\n",
       "      <th>3</th>\n",
       "      <td>False</td>\n",
       "    </tr>\n",
       "    <tr>\n",
       "      <th>4</th>\n",
       "      <td>False</td>\n",
       "    </tr>\n",
       "    <tr>\n",
       "      <th>...</th>\n",
       "      <td>...</td>\n",
       "    </tr>\n",
       "    <tr>\n",
       "      <th>44837</th>\n",
       "      <td>True</td>\n",
       "    </tr>\n",
       "    <tr>\n",
       "      <th>44838</th>\n",
       "      <td>True</td>\n",
       "    </tr>\n",
       "    <tr>\n",
       "      <th>44839</th>\n",
       "      <td>True</td>\n",
       "    </tr>\n",
       "    <tr>\n",
       "      <th>44840</th>\n",
       "      <td>True</td>\n",
       "    </tr>\n",
       "    <tr>\n",
       "      <th>44841</th>\n",
       "      <td>True</td>\n",
       "    </tr>\n",
       "  </tbody>\n",
       "</table>\n",
       "<p>44842 rows × 1 columns</p>\n",
       "</div>"
      ],
      "text/plain": [
       "       Success\n",
       "0        False\n",
       "1        False\n",
       "2        False\n",
       "3        False\n",
       "4        False\n",
       "...        ...\n",
       "44837     True\n",
       "44838     True\n",
       "44839     True\n",
       "44840     True\n",
       "44841     True\n",
       "\n",
       "[44842 rows x 1 columns]"
      ]
     },
     "execution_count": 26,
     "metadata": {},
     "output_type": "execute_result"
    }
   ],
   "source": [
    "smote_data_yP"
   ]
  },
  {
   "cell_type": "code",
   "execution_count": 27,
   "id": "f695804a",
   "metadata": {},
   "outputs": [
    {
     "name": "stdout",
     "output_type": "stream",
     "text": [
      "% of each class in the original dataset -\n",
      "False    0.935384\n",
      "True     0.064616\n",
      "Name: Success, dtype: float64\n"
     ]
    }
   ],
   "source": [
    "print( \"% of each class in the original dataset -\")\n",
    "print(puzzle.Success.value_counts() / len(puzzle))"
   ]
  },
  {
   "cell_type": "code",
   "execution_count": 28,
   "id": "3aab0c54",
   "metadata": {},
   "outputs": [
    {
     "name": "stdout",
     "output_type": "stream",
     "text": [
      "% of each class in SMOTE sampled dataset -\n",
      "False    0.748714\n",
      "True     0.748714\n",
      "Name: Success, dtype: float64\n"
     ]
    }
   ],
   "source": [
    "print ( \"% of each class in SMOTE sampled dataset -\")\n",
    "print (smote_data_yP.Success.value_counts() / len(puzzle))"
   ]
  },
  {
   "cell_type": "code",
   "execution_count": 29,
   "id": "6f6a04bf",
   "metadata": {},
   "outputs": [
    {
     "name": "stderr",
     "output_type": "stream",
     "text": [
      "C:\\Users\\davyn\\anaconda3\\lib\\site-packages\\sklearn\\linear_model\\_logistic.py:814: ConvergenceWarning: lbfgs failed to converge (status=1):\n",
      "STOP: TOTAL NO. of ITERATIONS REACHED LIMIT.\n",
      "\n",
      "Increase the number of iterations (max_iter) or scale the data as shown in:\n",
      "    https://scikit-learn.org/stable/modules/preprocessing.html\n",
      "Please also refer to the documentation for alternative solver options:\n",
      "    https://scikit-learn.org/stable/modules/linear_model.html#logistic-regression\n",
      "  n_iter_i = _check_optimize_result(\n"
     ]
    },
    {
     "name": "stdout",
     "output_type": "stream",
     "text": [
      "Model Score = 0.9367528217458091\n"
     ]
    },
    {
     "data": {
      "image/png": "[encoded data removed]",
      "text/plain": [
       "<Figure size 432x288 with 1 Axes>"
      ]
     },
     "metadata": {},
     "output_type": "display_data"
    },
    {
     "data": {
      "text/html": [
       "<div>\n",
       "<style scoped>\n",
       "    .dataframe tbody tr th:only-of-type {\n",
       "        vertical-align: middle;\n",
       "    }\n",
       "\n",
       "    .dataframe tbody tr th {\n",
       "        vertical-align: top;\n",
       "    }\n",
       "\n",
       "    .dataframe thead th {\n",
       "        text-align: right;\n",
       "    }\n",
       "</style>\n",
       "<table border=\"1\" class=\"dataframe\">\n",
       "  <thead>\n",
       "    <tr style=\"text-align: right;\">\n",
       "      <th></th>\n",
       "      <th>feature</th>\n",
       "      <th>importance</th>\n",
       "    </tr>\n",
       "  </thead>\n",
       "  <tbody>\n",
       "    <tr>\n",
       "      <th>4</th>\n",
       "      <td>Editors Choice</td>\n",
       "      <td>12.720054</td>\n",
       "    </tr>\n",
       "    <tr>\n",
       "      <th>3</th>\n",
       "      <td>In App Purchases</td>\n",
       "      <td>3.989214</td>\n",
       "    </tr>\n",
       "    <tr>\n",
       "      <th>2</th>\n",
       "      <td>Ad Supported</td>\n",
       "      <td>1.794591</td>\n",
       "    </tr>\n",
       "    <tr>\n",
       "      <th>5</th>\n",
       "      <td>Time Gap</td>\n",
       "      <td>0.998890</td>\n",
       "    </tr>\n",
       "    <tr>\n",
       "      <th>1</th>\n",
       "      <td>Price</td>\n",
       "      <td>0.642196</td>\n",
       "    </tr>\n",
       "    <tr>\n",
       "      <th>0</th>\n",
       "      <td>Free</td>\n",
       "      <td>0.371177</td>\n",
       "    </tr>\n",
       "  </tbody>\n",
       "</table>\n",
       "</div>"
      ],
      "text/plain": [
       "            feature  importance\n",
       "4    Editors Choice   12.720054\n",
       "3  In App Purchases    3.989214\n",
       "2      Ad Supported    1.794591\n",
       "5          Time Gap    0.998890\n",
       "1             Price    0.642196\n",
       "0              Free    0.371177"
      ]
     },
     "execution_count": 29,
     "metadata": {},
     "output_type": "execute_result"
    }
   ],
   "source": [
    "# make a list of all independent features\n",
    "feature_namesP = smote_data_xP.columns.to_list()\n",
    "modelP = LogisticRegression(random_state=0).fit(puzzle[feature_names].values, puzzle[\"Success\"].values)\n",
    "# get the scores\n",
    "scoreP = modelP.score(puzzle[feature_names].values, puzzle['Success'].values)\n",
    "print(\"Model Score = {}\".format(scoreP))\n",
    "w0 = modelP.intercept_[0]\n",
    "w = modelP.coef_[0]\n",
    "\n",
    "# important features\n",
    "feature_importanceP = pd.DataFrame(feature_namesP, columns = [\"feature\"])\n",
    "feature_importanceP[\"importance\"] = pow(math.e, w)\n",
    "feature_importanceP = feature_importanceP.sort_values(by = [\"importance\"], ascending = False)\n",
    "feature_importanceP = feature_importanceP[:10].sort_values(by = [\"importance\"], ascending = False)\n",
    "\n",
    "# Visualisation\n",
    "ax = feature_importanceP.sort_values(by = [\"importance\"], ascending=True).plot.barh(x = 'feature', y = 'importance')\n",
    "\n",
    "plt.title('Important Features')\n",
    "plt.show()\n",
    "\n",
    "# Important Features\n",
    "feature_importanceP"
   ]
  },
  {
   "cell_type": "code",
   "execution_count": 30,
   "id": "3e749d20",
   "metadata": {},
   "outputs": [],
   "source": [
    "# make a list of all features\n",
    "feature_importance_listP = feature_importanceP['feature'].to_list()\n",
    "\n",
    "# create the X with all important features only\n",
    "xP = smote_data_xP[feature_importance_listP]\n",
    "yP = smote_data_yP['Success']"
   ]
  },
  {
   "cell_type": "code",
   "execution_count": 31,
   "id": "9b6f1518",
   "metadata": {},
   "outputs": [],
   "source": [
    "xP = pd.get_dummies(xP, columns=['Free', 'Ad Supported', 'In App Purchases', 'Editors Choice'], drop_first=True)"
   ]
  },
  {
   "cell_type": "code",
   "execution_count": 32,
   "id": "8a91f455",
   "metadata": {},
   "outputs": [
    {
     "name": "stdout",
     "output_type": "stream",
     "text": [
      "Optimization terminated successfully.\n",
      "         Current function value: 0.497592\n",
      "         Iterations 9\n",
      "                            Results: Logit\n",
      "======================================================================\n",
      "Model:                 Logit             Pseudo R-squared:  0.282     \n",
      "Dependent Variable:    Success           AIC:               35712.2205\n",
      "Date:                  2022-04-22 04:38  BIC:               35763.1469\n",
      "No. Observations:      35873             Log-Likelihood:    -17850.   \n",
      "Df Model:              5                 LL-Null:           -24865.   \n",
      "Df Residuals:          35867             LLR p-value:       0.0000    \n",
      "Converged:             1.0000            Scale:             1.0000    \n",
      "No. Iterations:        9.0000                                         \n",
      "----------------------------------------------------------------------\n",
      "                       Coef.  Std.Err.    z     P>|z|   [0.025  0.975]\n",
      "----------------------------------------------------------------------\n",
      "Time Gap              -0.0007   0.0000 -31.2130 0.0000 -0.0008 -0.0007\n",
      "Price                 -0.6941   0.0527 -13.1822 0.0000 -0.7973 -0.5909\n",
      "Free_True             -2.8454   0.0806 -35.2804 0.0000 -3.0034 -2.6873\n",
      "Ad Supported_True      2.0308   0.0782  25.9660 0.0000  1.8775  2.1841\n",
      "In App Purchases_True  2.2492   0.0269  83.6536 0.0000  2.1965  2.3019\n",
      "Editors Choice_True    4.5632   0.4530  10.0724 0.0000  3.6753  5.4512\n",
      "======================================================================\n",
      "\n"
     ]
    }
   ],
   "source": [
    "#Split the dataset to test and train data\n",
    "xP_train, xP_test, yP_train, yP_test = sk.train_test_split(xP, yP, test_size=0.2, random_state=0)\n",
    "logit_modelP=sm.Logit(yP_train,xP_train)\n",
    "result = logit_modelP.fit()\n",
    "print(result.summary2())"
   ]
  },
  {
   "cell_type": "code",
   "execution_count": 33,
   "id": "d4ed7d65",
   "metadata": {},
   "outputs": [
    {
     "name": "stdout",
     "output_type": "stream",
     "text": [
      "Logistic Regression Model Accuracy: 0.79\n"
     ]
    },
    {
     "name": "stderr",
     "output_type": "stream",
     "text": [
      "C:\\Users\\davyn\\anaconda3\\lib\\site-packages\\sklearn\\linear_model\\_logistic.py:814: ConvergenceWarning: lbfgs failed to converge (status=1):\n",
      "STOP: TOTAL NO. of ITERATIONS REACHED LIMIT.\n",
      "\n",
      "Increase the number of iterations (max_iter) or scale the data as shown in:\n",
      "    https://scikit-learn.org/stable/modules/preprocessing.html\n",
      "Please also refer to the documentation for alternative solver options:\n",
      "    https://scikit-learn.org/stable/modules/linear_model.html#logistic-regression\n",
      "  n_iter_i = _check_optimize_result(\n"
     ]
    }
   ],
   "source": [
    "logreg = LogisticRegression()\n",
    "logreg.fit(xP_train, yP_train)\n",
    "yP_pred = logreg.predict(xP_test)\n",
    "print('Logistic Regression Model Accuracy: {:.2f}'.format(logreg.score(xP_test,yP_test)))"
   ]
  },
  {
   "cell_type": "code",
   "execution_count": 34,
   "id": "f71097aa",
   "metadata": {},
   "outputs": [
    {
     "data": {
      "image/png": "[encoded data removed]",
      "text/plain": [
       "<Figure size 432x288 with 1 Axes>"
      ]
     },
     "metadata": {},
     "output_type": "display_data"
    }
   ],
   "source": [
    "from sklearn.metrics import roc_auc_score\n",
    "from sklearn.metrics import roc_curve\n",
    "logit_roc_auc = roc_auc_score(yP_test, logreg.predict(xP_test))\n",
    "fpr, tpr, thresholds = roc_curve(yP_test, logreg.predict_proba(xP_test)[:,1])\n",
    "plt.figure()\n",
    "plt.plot(fpr, tpr, label='Logistric Regression (area = %0.2f)' % logit_roc_auc)\n",
    "plt.plot([0,1], [0,1], 'r--')\n",
    "plt.xlim([0.0, 1.0])\n",
    "plt.ylim([0.0, 1.05])\n",
    "plt.xlabel('False Positive Rate')\n",
    "plt.ylabel('True Positive Rate')\n",
    "plt.title('Receiver Operating Characteristic')\n",
    "plt.legend(loc = \"lower right\")\n",
    "plt.savefig('Log_ROC')\n",
    "plt.show()"
   ]
  },
  {
   "cell_type": "code",
   "execution_count": 35,
   "id": "0ce379cb",
   "metadata": {},
   "outputs": [
    {
     "name": "stdout",
     "output_type": "stream",
     "text": [
      "[[3393 1088]\n",
      " [ 825 3663]]\n",
      "Accuracy Score = 0.7867097781246516\n",
      "TNR = 0.7571970542289668\n",
      "TPR = 0.8161764705882353\n"
     ]
    }
   ],
   "source": [
    "from sklearn.metrics import confusion_matrix, accuracy_score\n",
    "cmP = confusion_matrix(yP_test, yP_pred)\n",
    "acP = accuracy_score(yP_test, yP_pred)\n",
    "print(cmP)\n",
    "print(\"Accuracy Score = {}\".format(acP))\n",
    "print(\"TNR = {}\".format(3393/(3393+1088)))\n",
    "print(\"TPR = {}\".format(3663/(3663+825)))"
   ]
  },
  {
   "cell_type": "markdown",
   "id": "4ea98dad",
   "metadata": {},
   "source": [
    "# Using Logistic Regression for Casual Games"
   ]
  },
  {
   "cell_type": "code",
   "execution_count": 36,
   "id": "e33243b0",
   "metadata": {},
   "outputs": [],
   "source": [
    "casual_0 = ['Casual']\n",
    "casualNotExist = ~casual['Category'].isin(casual_0)\n",
    "casualNotExist_rows = casual[casualNotExist]\n",
    "casual = casual.drop(casualNotExist_rows.index)"
   ]
  },
  {
   "cell_type": "code",
   "execution_count": 37,
   "id": "282cdc19",
   "metadata": {},
   "outputs": [],
   "source": [
    "cat_vars=['Free', 'Size', 'Ad Supported', 'In App Purchases', 'Editors Choice', 'Time Gap']\n",
    "for var in cat_vars:\n",
    "    cat_list = 'var'+'_'+var\n",
    "    cat_list = pd.get_dummies(casual[var], prefix=var)\n",
    "    data1 = casual.join(cat_list)\n",
    "    casual = data1\n",
    "cat_vars=['Free', 'Size', 'Ad Supported', 'In App Purchases', 'Editors Choice', 'Time Gap']\n",
    "data_vars = casual.columns.values.tolist()\n",
    "to_keep = [i for i in data_vars if i not in cat_vars]"
   ]
  },
  {
   "cell_type": "code",
   "execution_count": 38,
   "id": "35f76068",
   "metadata": {},
   "outputs": [
    {
     "name": "stdout",
     "output_type": "stream",
     "text": [
      "False    25445\n",
      "True      2087\n",
      "Name: Success, dtype: int64\n",
      "False    0.924197\n",
      "True     0.075803\n",
      "Name: Success, dtype: float64\n"
     ]
    }
   ],
   "source": [
    "print(casual['Success'].value_counts())\n",
    "print(casual.Success.value_counts() / len(casual))"
   ]
  },
  {
   "cell_type": "code",
   "execution_count": 39,
   "id": "132989de",
   "metadata": {},
   "outputs": [],
   "source": [
    "# dependent variable\n",
    "yC = casual[['Success']]\n",
    "# independent variables\n",
    "xC = casual[['Free', 'Price', 'Ad Supported', 'In App Purchases', 'Editors Choice', 'Time Gap']]\n",
    "# not using size, as the numbers are too similar when compared with size\n",
    "osC = SMOTE(random_state = 0)\n",
    "xC_train, xC_test, yC_train, yC_test = sk.train_test_split(xC, yC, test_size = 0.2, random_state=0)\n",
    "columnsC = xC_train.columns\n",
    "\n",
    "smote_data_xC, smote_data_yC = osC.fit_resample(xC_train, yC_train)\n",
    "smote_data_xC = pd.DataFrame(data = smote_data_xC, columns = columnsC)\n",
    "smote_data_yC = pd.DataFrame(data = smote_data_yC, columns = ['Success'])"
   ]
  },
  {
   "cell_type": "code",
   "execution_count": 40,
   "id": "57cb485b",
   "metadata": {},
   "outputs": [
    {
     "data": {
      "text/html": [
       "<div>\n",
       "<style scoped>\n",
       "    .dataframe tbody tr th:only-of-type {\n",
       "        vertical-align: middle;\n",
       "    }\n",
       "\n",
       "    .dataframe tbody tr th {\n",
       "        vertical-align: top;\n",
       "    }\n",
       "\n",
       "    .dataframe thead th {\n",
       "        text-align: right;\n",
       "    }\n",
       "</style>\n",
       "<table border=\"1\" class=\"dataframe\">\n",
       "  <thead>\n",
       "    <tr style=\"text-align: right;\">\n",
       "      <th></th>\n",
       "      <th>Free</th>\n",
       "      <th>Price</th>\n",
       "      <th>Ad Supported</th>\n",
       "      <th>In App Purchases</th>\n",
       "      <th>Editors Choice</th>\n",
       "      <th>Time Gap</th>\n",
       "    </tr>\n",
       "  </thead>\n",
       "  <tbody>\n",
       "    <tr>\n",
       "      <th>0</th>\n",
       "      <td>True</td>\n",
       "      <td>0.0</td>\n",
       "      <td>True</td>\n",
       "      <td>False</td>\n",
       "      <td>False</td>\n",
       "      <td>1334</td>\n",
       "    </tr>\n",
       "    <tr>\n",
       "      <th>1</th>\n",
       "      <td>True</td>\n",
       "      <td>0.0</td>\n",
       "      <td>True</td>\n",
       "      <td>False</td>\n",
       "      <td>False</td>\n",
       "      <td>984</td>\n",
       "    </tr>\n",
       "    <tr>\n",
       "      <th>2</th>\n",
       "      <td>True</td>\n",
       "      <td>0.0</td>\n",
       "      <td>True</td>\n",
       "      <td>False</td>\n",
       "      <td>False</td>\n",
       "      <td>1836</td>\n",
       "    </tr>\n",
       "    <tr>\n",
       "      <th>3</th>\n",
       "      <td>True</td>\n",
       "      <td>0.0</td>\n",
       "      <td>True</td>\n",
       "      <td>False</td>\n",
       "      <td>False</td>\n",
       "      <td>621</td>\n",
       "    </tr>\n",
       "    <tr>\n",
       "      <th>4</th>\n",
       "      <td>True</td>\n",
       "      <td>0.0</td>\n",
       "      <td>True</td>\n",
       "      <td>False</td>\n",
       "      <td>False</td>\n",
       "      <td>55</td>\n",
       "    </tr>\n",
       "    <tr>\n",
       "      <th>...</th>\n",
       "      <td>...</td>\n",
       "      <td>...</td>\n",
       "      <td>...</td>\n",
       "      <td>...</td>\n",
       "      <td>...</td>\n",
       "      <td>...</td>\n",
       "    </tr>\n",
       "    <tr>\n",
       "      <th>40759</th>\n",
       "      <td>True</td>\n",
       "      <td>0.0</td>\n",
       "      <td>True</td>\n",
       "      <td>True</td>\n",
       "      <td>False</td>\n",
       "      <td>51</td>\n",
       "    </tr>\n",
       "    <tr>\n",
       "      <th>40760</th>\n",
       "      <td>True</td>\n",
       "      <td>0.0</td>\n",
       "      <td>True</td>\n",
       "      <td>True</td>\n",
       "      <td>False</td>\n",
       "      <td>118</td>\n",
       "    </tr>\n",
       "    <tr>\n",
       "      <th>40761</th>\n",
       "      <td>True</td>\n",
       "      <td>0.0</td>\n",
       "      <td>True</td>\n",
       "      <td>True</td>\n",
       "      <td>False</td>\n",
       "      <td>153</td>\n",
       "    </tr>\n",
       "    <tr>\n",
       "      <th>40762</th>\n",
       "      <td>True</td>\n",
       "      <td>0.0</td>\n",
       "      <td>True</td>\n",
       "      <td>False</td>\n",
       "      <td>False</td>\n",
       "      <td>13</td>\n",
       "    </tr>\n",
       "    <tr>\n",
       "      <th>40763</th>\n",
       "      <td>True</td>\n",
       "      <td>0.0</td>\n",
       "      <td>True</td>\n",
       "      <td>True</td>\n",
       "      <td>False</td>\n",
       "      <td>563</td>\n",
       "    </tr>\n",
       "  </tbody>\n",
       "</table>\n",
       "<p>40764 rows × 6 columns</p>\n",
       "</div>"
      ],
      "text/plain": [
       "       Free  Price  Ad Supported  In App Purchases  Editors Choice  Time Gap\n",
       "0      True    0.0          True             False           False      1334\n",
       "1      True    0.0          True             False           False       984\n",
       "2      True    0.0          True             False           False      1836\n",
       "3      True    0.0          True             False           False       621\n",
       "4      True    0.0          True             False           False        55\n",
       "...     ...    ...           ...               ...             ...       ...\n",
       "40759  True    0.0          True              True           False        51\n",
       "40760  True    0.0          True              True           False       118\n",
       "40761  True    0.0          True              True           False       153\n",
       "40762  True    0.0          True             False           False        13\n",
       "40763  True    0.0          True              True           False       563\n",
       "\n",
       "[40764 rows x 6 columns]"
      ]
     },
     "execution_count": 40,
     "metadata": {},
     "output_type": "execute_result"
    }
   ],
   "source": [
    "smote_data_xC"
   ]
  },
  {
   "cell_type": "code",
   "execution_count": 41,
   "id": "2de3ada6",
   "metadata": {},
   "outputs": [
    {
     "data": {
      "text/html": [
       "<div>\n",
       "<style scoped>\n",
       "    .dataframe tbody tr th:only-of-type {\n",
       "        vertical-align: middle;\n",
       "    }\n",
       "\n",
       "    .dataframe tbody tr th {\n",
       "        vertical-align: top;\n",
       "    }\n",
       "\n",
       "    .dataframe thead th {\n",
       "        text-align: right;\n",
       "    }\n",
       "</style>\n",
       "<table border=\"1\" class=\"dataframe\">\n",
       "  <thead>\n",
       "    <tr style=\"text-align: right;\">\n",
       "      <th></th>\n",
       "      <th>Success</th>\n",
       "    </tr>\n",
       "  </thead>\n",
       "  <tbody>\n",
       "    <tr>\n",
       "      <th>0</th>\n",
       "      <td>False</td>\n",
       "    </tr>\n",
       "    <tr>\n",
       "      <th>1</th>\n",
       "      <td>False</td>\n",
       "    </tr>\n",
       "    <tr>\n",
       "      <th>2</th>\n",
       "      <td>False</td>\n",
       "    </tr>\n",
       "    <tr>\n",
       "      <th>3</th>\n",
       "      <td>False</td>\n",
       "    </tr>\n",
       "    <tr>\n",
       "      <th>4</th>\n",
       "      <td>False</td>\n",
       "    </tr>\n",
       "    <tr>\n",
       "      <th>...</th>\n",
       "      <td>...</td>\n",
       "    </tr>\n",
       "    <tr>\n",
       "      <th>40759</th>\n",
       "      <td>True</td>\n",
       "    </tr>\n",
       "    <tr>\n",
       "      <th>40760</th>\n",
       "      <td>True</td>\n",
       "    </tr>\n",
       "    <tr>\n",
       "      <th>40761</th>\n",
       "      <td>True</td>\n",
       "    </tr>\n",
       "    <tr>\n",
       "      <th>40762</th>\n",
       "      <td>True</td>\n",
       "    </tr>\n",
       "    <tr>\n",
       "      <th>40763</th>\n",
       "      <td>True</td>\n",
       "    </tr>\n",
       "  </tbody>\n",
       "</table>\n",
       "<p>40764 rows × 1 columns</p>\n",
       "</div>"
      ],
      "text/plain": [
       "       Success\n",
       "0        False\n",
       "1        False\n",
       "2        False\n",
       "3        False\n",
       "4        False\n",
       "...        ...\n",
       "40759     True\n",
       "40760     True\n",
       "40761     True\n",
       "40762     True\n",
       "40763     True\n",
       "\n",
       "[40764 rows x 1 columns]"
      ]
     },
     "execution_count": 41,
     "metadata": {},
     "output_type": "execute_result"
    }
   ],
   "source": [
    "smote_data_yC"
   ]
  },
  {
   "cell_type": "code",
   "execution_count": 42,
   "id": "486d606f",
   "metadata": {},
   "outputs": [
    {
     "name": "stdout",
     "output_type": "stream",
     "text": [
      "% of each class in the original dataset -\n",
      "False    0.924197\n",
      "True     0.075803\n",
      "Name: Success, dtype: float64\n",
      "% of each class in SMOTE sampled dataset -\n",
      "False    0.740302\n",
      "True     0.740302\n",
      "Name: Success, dtype: float64\n"
     ]
    }
   ],
   "source": [
    "print( \"% of each class in the original dataset -\")\n",
    "print(casual.Success.value_counts() / len(casual))\n",
    "print ( \"% of each class in SMOTE sampled dataset -\")\n",
    "print (smote_data_yC.Success.value_counts() / len(casual))"
   ]
  },
  {
   "cell_type": "code",
   "execution_count": 43,
   "id": "cd2f88aa",
   "metadata": {},
   "outputs": [
    {
     "name": "stdout",
     "output_type": "stream",
     "text": [
      "Model Score = 0.9255411884352753\n"
     ]
    },
    {
     "data": {
      "image/png": "[encoded data removed]",
      "text/plain": [
       "<Figure size 432x288 with 1 Axes>"
      ]
     },
     "metadata": {},
     "output_type": "display_data"
    },
    {
     "data": {
      "text/html": [
       "<div>\n",
       "<style scoped>\n",
       "    .dataframe tbody tr th:only-of-type {\n",
       "        vertical-align: middle;\n",
       "    }\n",
       "\n",
       "    .dataframe tbody tr th {\n",
       "        vertical-align: top;\n",
       "    }\n",
       "\n",
       "    .dataframe thead th {\n",
       "        text-align: right;\n",
       "    }\n",
       "</style>\n",
       "<table border=\"1\" class=\"dataframe\">\n",
       "  <thead>\n",
       "    <tr style=\"text-align: right;\">\n",
       "      <th></th>\n",
       "      <th>feature</th>\n",
       "      <th>importance</th>\n",
       "    </tr>\n",
       "  </thead>\n",
       "  <tbody>\n",
       "    <tr>\n",
       "      <th>4</th>\n",
       "      <td>Editors Choice</td>\n",
       "      <td>23.134304</td>\n",
       "    </tr>\n",
       "    <tr>\n",
       "      <th>3</th>\n",
       "      <td>In App Purchases</td>\n",
       "      <td>3.706964</td>\n",
       "    </tr>\n",
       "    <tr>\n",
       "      <th>2</th>\n",
       "      <td>Ad Supported</td>\n",
       "      <td>2.654070</td>\n",
       "    </tr>\n",
       "    <tr>\n",
       "      <th>5</th>\n",
       "      <td>Time Gap</td>\n",
       "      <td>0.999440</td>\n",
       "    </tr>\n",
       "    <tr>\n",
       "      <th>0</th>\n",
       "      <td>Free</td>\n",
       "      <td>0.334375</td>\n",
       "    </tr>\n",
       "    <tr>\n",
       "      <th>1</th>\n",
       "      <td>Price</td>\n",
       "      <td>0.134804</td>\n",
       "    </tr>\n",
       "  </tbody>\n",
       "</table>\n",
       "</div>"
      ],
      "text/plain": [
       "            feature  importance\n",
       "4    Editors Choice   23.134304\n",
       "3  In App Purchases    3.706964\n",
       "2      Ad Supported    2.654070\n",
       "5          Time Gap    0.999440\n",
       "0              Free    0.334375\n",
       "1             Price    0.134804"
      ]
     },
     "execution_count": 43,
     "metadata": {},
     "output_type": "execute_result"
    }
   ],
   "source": [
    "# make a list of all independent features\n",
    "feature_namesC = smote_data_xC.columns.to_list()\n",
    "modelC = LogisticRegression(random_state=0).fit(casual[feature_names].values, casual[\"Success\"].values)\n",
    "# get the scores\n",
    "scoreC = modelC.score(casual[feature_namesC].values, casual['Success'].values)\n",
    "print(\"Model Score = {}\".format(scoreC))\n",
    "w0 = modelC.intercept_[0]\n",
    "w = modelC.coef_[0]\n",
    "\n",
    "# important features\n",
    "feature_importanceC = pd.DataFrame(feature_namesC, columns = [\"feature\"])\n",
    "feature_importanceC[\"importance\"] = pow(math.e, w)\n",
    "feature_importanceC = feature_importanceC.sort_values(by = [\"importance\"], ascending = False)\n",
    "feature_importanceC = feature_importanceC[:10].sort_values(by = [\"importance\"], ascending = False)\n",
    "\n",
    "# Visualisation\n",
    "axC = feature_importanceC.sort_values(by = [\"importance\"], ascending=True).plot.barh(x = 'feature', y = 'importance')\n",
    "\n",
    "plt.title('Important Features')\n",
    "plt.show()\n",
    "\n",
    "# Important Features\n",
    "feature_importanceC"
   ]
  },
  {
   "cell_type": "code",
   "execution_count": 44,
   "id": "954af4bb",
   "metadata": {},
   "outputs": [],
   "source": [
    "# make a list of all features\n",
    "feature_importance_listC = feature_importanceC['feature'].to_list()\n",
    "\n",
    "# create the X with all important features only\n",
    "xC = smote_data_xC[feature_importance_listC]\n",
    "yC = smote_data_yC['Success']\n",
    "xC = pd.get_dummies(xC, columns=['Free', 'Ad Supported', 'In App Purchases', 'Editors Choice'], drop_first=True)"
   ]
  },
  {
   "cell_type": "code",
   "execution_count": 45,
   "id": "24497ba4",
   "metadata": {},
   "outputs": [
    {
     "name": "stdout",
     "output_type": "stream",
     "text": [
      "Optimization terminated successfully.\n",
      "         Current function value: 0.538389\n",
      "         Iterations 9\n",
      "                            Results: Logit\n",
      "======================================================================\n",
      "Model:                 Logit             Pseudo R-squared:  0.223     \n",
      "Dependent Variable:    Success           AIC:               35126.7849\n",
      "Date:                  2022-04-22 04:38  BIC:               35177.1394\n",
      "No. Observations:      32611             Log-Likelihood:    -17557.   \n",
      "Df Model:              5                 LL-Null:           -22604.   \n",
      "Df Residuals:          32605             LLR p-value:       0.0000    \n",
      "Converged:             1.0000            Scale:             1.0000    \n",
      "No. Iterations:        9.0000                                         \n",
      "----------------------------------------------------------------------\n",
      "                       Coef.  Std.Err.    z     P>|z|   [0.025  0.975]\n",
      "----------------------------------------------------------------------\n",
      "Time Gap              -0.0004   0.0000 -18.7043 0.0000 -0.0004 -0.0003\n",
      "Price                 -2.6192   0.2940  -8.9084 0.0000 -3.1954 -2.0429\n",
      "Free_True             -2.9315   0.0808 -36.2876 0.0000 -3.0898 -2.7731\n",
      "Ad Supported_True      2.4130   0.0794  30.3903 0.0000  2.2573  2.5686\n",
      "In App Purchases_True  1.8946   0.0262  72.1948 0.0000  1.8432  1.9460\n",
      "Editors Choice_True    4.2774   0.7127   6.0017 0.0000  2.8805  5.6742\n",
      "======================================================================\n",
      "\n"
     ]
    }
   ],
   "source": [
    "#Split the dataset to test and train data\n",
    "xC_train, xC_test, yC_train, yC_test = sk.train_test_split(xC, yC, test_size=0.2, random_state=0)\n",
    "logit_modelC=sm.Logit(yC_train,xC_train)\n",
    "result = logit_modelC.fit()\n",
    "print(result.summary2())"
   ]
  },
  {
   "cell_type": "code",
   "execution_count": 46,
   "id": "27d8c347",
   "metadata": {},
   "outputs": [
    {
     "name": "stdout",
     "output_type": "stream",
     "text": [
      "Logistic Regression Model Accuracy: 0.75\n"
     ]
    }
   ],
   "source": [
    "logreg = LogisticRegression()\n",
    "logreg.fit(xC_train, yC_train)\n",
    "yC_pred = logreg.predict(xC_test)\n",
    "print('Logistic Regression Model Accuracy: {:.2f}'.format(logreg.score(xC_test,yC_test)))"
   ]
  },
  {
   "cell_type": "code",
   "execution_count": 47,
   "id": "5cd06a6f",
   "metadata": {},
   "outputs": [
    {
     "data": {
      "image/png": "[encoded data removed]",
      "text/plain": [
       "<Figure size 432x288 with 1 Axes>"
      ]
     },
     "metadata": {},
     "output_type": "display_data"
    }
   ],
   "source": [
    "from sklearn.metrics import roc_auc_score\n",
    "from sklearn.metrics import roc_curve\n",
    "logit_roc_auc = roc_auc_score(yC_test, logreg.predict(xC_test))\n",
    "fpr, tpr, thresholds = roc_curve(yC_test, logreg.predict_proba(xC_test)[:,1])\n",
    "plt.figure()\n",
    "plt.plot(fpr, tpr, label='Logistric Regression (area = %0.2f)' % logit_roc_auc)\n",
    "plt.plot([0,1], [0,1], 'r--')\n",
    "plt.xlim([0.0, 1.0])\n",
    "plt.ylim([0.0, 1.05])\n",
    "plt.xlabel('False Positive Rate')\n",
    "plt.ylabel('True Positive Rate')\n",
    "plt.title('Receiver Operating Characteristic')\n",
    "plt.legend(loc = \"lower right\")\n",
    "plt.savefig('Log_ROC')\n",
    "plt.show()"
   ]
  },
  {
   "cell_type": "code",
   "execution_count": 48,
   "id": "c3bbe968",
   "metadata": {},
   "outputs": [
    {
     "name": "stdout",
     "output_type": "stream",
     "text": [
      "[[3241  835]\n",
      " [1210 2867]]\n",
      "Accuracy Score = 0.7491720838954986\n",
      "TNR = 0.7951422963689893\n",
      "TPR = 0.7032131469217562\n"
     ]
    }
   ],
   "source": [
    "from sklearn.metrics import confusion_matrix, accuracy_score\n",
    "cmC = confusion_matrix(yC_test, yC_pred)\n",
    "acC = accuracy_score(yC_test, yC_pred)\n",
    "print(cmC)\n",
    "print(\"Accuracy Score = {}\".format(acC))\n",
    "print(\"TNR = {}\".format(3241/(3241+835)))\n",
    "print(\"TPR = {}\".format(2867/(2867+1210)))"
   ]
  },
  {
   "cell_type": "markdown",
   "id": "8f301941",
   "metadata": {},
   "source": [
    "# Using Logistic Regression on Arcade Games"
   ]
  },
  {
   "cell_type": "code",
   "execution_count": 49,
   "id": "1888c219",
   "metadata": {},
   "outputs": [],
   "source": [
    "arcade_0 = ['Arcade']\n",
    "arcadeNotExist = ~arcade['Category'].isin(arcade_0)\n",
    "arcadeNotExist_rows = arcade[arcadeNotExist]\n",
    "arcade = arcade.drop(arcadeNotExist_rows.index)"
   ]
  },
  {
   "cell_type": "code",
   "execution_count": 50,
   "id": "dafcd729",
   "metadata": {},
   "outputs": [],
   "source": [
    "cat_vars=['Free', 'Size', 'Ad Supported', 'In App Purchases', 'Editors Choice', 'Time Gap']\n",
    "for var in cat_vars:\n",
    "    cat_list = 'var'+'_'+var\n",
    "    cat_list = pd.get_dummies(arcade[var], prefix=var)\n",
    "    data1 = arcade.join(cat_list)\n",
    "    arcade = data1\n",
    "cat_vars=['Free', 'Size', 'Ad Supported', 'In App Purchases', 'Editors Choice', 'Time Gap']\n",
    "data_vars = arcade.columns.values.tolist()\n",
    "to_keep = [i for i in data_vars if i not in cat_vars]"
   ]
  },
  {
   "cell_type": "code",
   "execution_count": 51,
   "id": "c2c1a129",
   "metadata": {},
   "outputs": [
    {
     "name": "stdout",
     "output_type": "stream",
     "text": [
      "False    27781\n",
      "True      1396\n",
      "Name: Success, dtype: int64\n",
      "False    0.952154\n",
      "True     0.047846\n",
      "Name: Success, dtype: float64\n"
     ]
    }
   ],
   "source": [
    "print(arcade['Success'].value_counts())\n",
    "print(arcade.Success.value_counts() / len(arcade))"
   ]
  },
  {
   "cell_type": "code",
   "execution_count": 52,
   "id": "7f6a7c90",
   "metadata": {},
   "outputs": [],
   "source": [
    "# dependent variable\n",
    "yAr = arcade[['Success']]\n",
    "# independent variables\n",
    "xAr = arcade[['Free', 'Price', 'Ad Supported', 'In App Purchases', 'Editors Choice', 'Time Gap']]\n",
    "# not using size, as the numbers are too similar when compared with size\n",
    "osAr = SMOTE(random_state = 0)\n",
    "xAr_train, xAr_test, yAr_train, yAr_test = sk.train_test_split(xAr, yAr, test_size = 0.2, random_state=0)\n",
    "columnsAr = xAr_train.columns\n",
    "\n",
    "smote_data_xAr, smote_data_yAr = osAr.fit_resample(xAr_train, yAr_train)\n",
    "smote_data_xAr = pd.DataFrame(data = smote_data_xAr, columns = columnsAr)\n",
    "smote_data_yAr = pd.DataFrame(data = smote_data_yAr, columns = ['Success'])"
   ]
  },
  {
   "cell_type": "code",
   "execution_count": 53,
   "id": "5323e610",
   "metadata": {},
   "outputs": [
    {
     "data": {
      "text/html": [
       "<div>\n",
       "<style scoped>\n",
       "    .dataframe tbody tr th:only-of-type {\n",
       "        vertical-align: middle;\n",
       "    }\n",
       "\n",
       "    .dataframe tbody tr th {\n",
       "        vertical-align: top;\n",
       "    }\n",
       "\n",
       "    .dataframe thead th {\n",
       "        text-align: right;\n",
       "    }\n",
       "</style>\n",
       "<table border=\"1\" class=\"dataframe\">\n",
       "  <thead>\n",
       "    <tr style=\"text-align: right;\">\n",
       "      <th></th>\n",
       "      <th>Free</th>\n",
       "      <th>Price</th>\n",
       "      <th>Ad Supported</th>\n",
       "      <th>In App Purchases</th>\n",
       "      <th>Editors Choice</th>\n",
       "      <th>Time Gap</th>\n",
       "    </tr>\n",
       "  </thead>\n",
       "  <tbody>\n",
       "    <tr>\n",
       "      <th>0</th>\n",
       "      <td>True</td>\n",
       "      <td>0.0</td>\n",
       "      <td>True</td>\n",
       "      <td>True</td>\n",
       "      <td>False</td>\n",
       "      <td>2456</td>\n",
       "    </tr>\n",
       "    <tr>\n",
       "      <th>1</th>\n",
       "      <td>True</td>\n",
       "      <td>0.0</td>\n",
       "      <td>True</td>\n",
       "      <td>False</td>\n",
       "      <td>False</td>\n",
       "      <td>1132</td>\n",
       "    </tr>\n",
       "    <tr>\n",
       "      <th>2</th>\n",
       "      <td>True</td>\n",
       "      <td>0.0</td>\n",
       "      <td>True</td>\n",
       "      <td>True</td>\n",
       "      <td>False</td>\n",
       "      <td>583</td>\n",
       "    </tr>\n",
       "    <tr>\n",
       "      <th>3</th>\n",
       "      <td>True</td>\n",
       "      <td>0.0</td>\n",
       "      <td>True</td>\n",
       "      <td>False</td>\n",
       "      <td>False</td>\n",
       "      <td>2099</td>\n",
       "    </tr>\n",
       "    <tr>\n",
       "      <th>4</th>\n",
       "      <td>True</td>\n",
       "      <td>0.0</td>\n",
       "      <td>True</td>\n",
       "      <td>False</td>\n",
       "      <td>False</td>\n",
       "      <td>1866</td>\n",
       "    </tr>\n",
       "    <tr>\n",
       "      <th>...</th>\n",
       "      <td>...</td>\n",
       "      <td>...</td>\n",
       "      <td>...</td>\n",
       "      <td>...</td>\n",
       "      <td>...</td>\n",
       "      <td>...</td>\n",
       "    </tr>\n",
       "    <tr>\n",
       "      <th>44381</th>\n",
       "      <td>True</td>\n",
       "      <td>0.0</td>\n",
       "      <td>True</td>\n",
       "      <td>True</td>\n",
       "      <td>False</td>\n",
       "      <td>981</td>\n",
       "    </tr>\n",
       "    <tr>\n",
       "      <th>44382</th>\n",
       "      <td>True</td>\n",
       "      <td>0.0</td>\n",
       "      <td>True</td>\n",
       "      <td>True</td>\n",
       "      <td>False</td>\n",
       "      <td>16</td>\n",
       "    </tr>\n",
       "    <tr>\n",
       "      <th>44383</th>\n",
       "      <td>True</td>\n",
       "      <td>0.0</td>\n",
       "      <td>True</td>\n",
       "      <td>True</td>\n",
       "      <td>False</td>\n",
       "      <td>97</td>\n",
       "    </tr>\n",
       "    <tr>\n",
       "      <th>44384</th>\n",
       "      <td>True</td>\n",
       "      <td>0.0</td>\n",
       "      <td>True</td>\n",
       "      <td>True</td>\n",
       "      <td>False</td>\n",
       "      <td>104</td>\n",
       "    </tr>\n",
       "    <tr>\n",
       "      <th>44385</th>\n",
       "      <td>True</td>\n",
       "      <td>0.0</td>\n",
       "      <td>True</td>\n",
       "      <td>True</td>\n",
       "      <td>False</td>\n",
       "      <td>712</td>\n",
       "    </tr>\n",
       "  </tbody>\n",
       "</table>\n",
       "<p>44386 rows × 6 columns</p>\n",
       "</div>"
      ],
      "text/plain": [
       "       Free  Price  Ad Supported  In App Purchases  Editors Choice  Time Gap\n",
       "0      True    0.0          True              True           False      2456\n",
       "1      True    0.0          True             False           False      1132\n",
       "2      True    0.0          True              True           False       583\n",
       "3      True    0.0          True             False           False      2099\n",
       "4      True    0.0          True             False           False      1866\n",
       "...     ...    ...           ...               ...             ...       ...\n",
       "44381  True    0.0          True              True           False       981\n",
       "44382  True    0.0          True              True           False        16\n",
       "44383  True    0.0          True              True           False        97\n",
       "44384  True    0.0          True              True           False       104\n",
       "44385  True    0.0          True              True           False       712\n",
       "\n",
       "[44386 rows x 6 columns]"
      ]
     },
     "execution_count": 53,
     "metadata": {},
     "output_type": "execute_result"
    }
   ],
   "source": [
    "smote_data_xAr"
   ]
  },
  {
   "cell_type": "code",
   "execution_count": 54,
   "id": "33cc4226",
   "metadata": {},
   "outputs": [
    {
     "data": {
      "text/html": [
       "<div>\n",
       "<style scoped>\n",
       "    .dataframe tbody tr th:only-of-type {\n",
       "        vertical-align: middle;\n",
       "    }\n",
       "\n",
       "    .dataframe tbody tr th {\n",
       "        vertical-align: top;\n",
       "    }\n",
       "\n",
       "    .dataframe thead th {\n",
       "        text-align: right;\n",
       "    }\n",
       "</style>\n",
       "<table border=\"1\" class=\"dataframe\">\n",
       "  <thead>\n",
       "    <tr style=\"text-align: right;\">\n",
       "      <th></th>\n",
       "      <th>Success</th>\n",
       "    </tr>\n",
       "  </thead>\n",
       "  <tbody>\n",
       "    <tr>\n",
       "      <th>0</th>\n",
       "      <td>True</td>\n",
       "    </tr>\n",
       "    <tr>\n",
       "      <th>1</th>\n",
       "      <td>False</td>\n",
       "    </tr>\n",
       "    <tr>\n",
       "      <th>2</th>\n",
       "      <td>False</td>\n",
       "    </tr>\n",
       "    <tr>\n",
       "      <th>3</th>\n",
       "      <td>False</td>\n",
       "    </tr>\n",
       "    <tr>\n",
       "      <th>4</th>\n",
       "      <td>False</td>\n",
       "    </tr>\n",
       "    <tr>\n",
       "      <th>...</th>\n",
       "      <td>...</td>\n",
       "    </tr>\n",
       "    <tr>\n",
       "      <th>44381</th>\n",
       "      <td>True</td>\n",
       "    </tr>\n",
       "    <tr>\n",
       "      <th>44382</th>\n",
       "      <td>True</td>\n",
       "    </tr>\n",
       "    <tr>\n",
       "      <th>44383</th>\n",
       "      <td>True</td>\n",
       "    </tr>\n",
       "    <tr>\n",
       "      <th>44384</th>\n",
       "      <td>True</td>\n",
       "    </tr>\n",
       "    <tr>\n",
       "      <th>44385</th>\n",
       "      <td>True</td>\n",
       "    </tr>\n",
       "  </tbody>\n",
       "</table>\n",
       "<p>44386 rows × 1 columns</p>\n",
       "</div>"
      ],
      "text/plain": [
       "       Success\n",
       "0         True\n",
       "1        False\n",
       "2        False\n",
       "3        False\n",
       "4        False\n",
       "...        ...\n",
       "44381     True\n",
       "44382     True\n",
       "44383     True\n",
       "44384     True\n",
       "44385     True\n",
       "\n",
       "[44386 rows x 1 columns]"
      ]
     },
     "execution_count": 54,
     "metadata": {},
     "output_type": "execute_result"
    }
   ],
   "source": [
    "smote_data_yAr"
   ]
  },
  {
   "cell_type": "code",
   "execution_count": 55,
   "id": "fd83fa73",
   "metadata": {},
   "outputs": [
    {
     "name": "stdout",
     "output_type": "stream",
     "text": [
      "% of each class in the original dataset -\n",
      "False    0.952154\n",
      "True     0.047846\n",
      "Name: Success, dtype: float64\n",
      "% of each class in SMOTE sampled dataset -\n",
      "True     0.760633\n",
      "False    0.760633\n",
      "Name: Success, dtype: float64\n"
     ]
    }
   ],
   "source": [
    "print( \"% of each class in the original dataset -\")\n",
    "print(arcade.Success.value_counts() / len(arcade))\n",
    "print ( \"% of each class in SMOTE sampled dataset -\")\n",
    "print (smote_data_yAr.Success.value_counts() / len(arcade))"
   ]
  },
  {
   "cell_type": "code",
   "execution_count": 56,
   "id": "2d31225b",
   "metadata": {},
   "outputs": [
    {
     "name": "stderr",
     "output_type": "stream",
     "text": [
      "C:\\Users\\davyn\\anaconda3\\lib\\site-packages\\sklearn\\linear_model\\_logistic.py:814: ConvergenceWarning: lbfgs failed to converge (status=1):\n",
      "STOP: TOTAL NO. of ITERATIONS REACHED LIMIT.\n",
      "\n",
      "Increase the number of iterations (max_iter) or scale the data as shown in:\n",
      "    https://scikit-learn.org/stable/modules/preprocessing.html\n",
      "Please also refer to the documentation for alternative solver options:\n",
      "    https://scikit-learn.org/stable/modules/linear_model.html#logistic-regression\n",
      "  n_iter_i = _check_optimize_result(\n"
     ]
    },
    {
     "name": "stdout",
     "output_type": "stream",
     "text": [
      "Model Score = 0.9527024711245159\n"
     ]
    },
    {
     "data": {
      "image/png": "[encoded data removed]",
      "text/plain": [
       "<Figure size 432x288 with 1 Axes>"
      ]
     },
     "metadata": {},
     "output_type": "display_data"
    },
    {
     "data": {
      "text/html": [
       "<div>\n",
       "<style scoped>\n",
       "    .dataframe tbody tr th:only-of-type {\n",
       "        vertical-align: middle;\n",
       "    }\n",
       "\n",
       "    .dataframe tbody tr th {\n",
       "        vertical-align: top;\n",
       "    }\n",
       "\n",
       "    .dataframe thead th {\n",
       "        text-align: right;\n",
       "    }\n",
       "</style>\n",
       "<table border=\"1\" class=\"dataframe\">\n",
       "  <thead>\n",
       "    <tr style=\"text-align: right;\">\n",
       "      <th></th>\n",
       "      <th>feature</th>\n",
       "      <th>importance</th>\n",
       "    </tr>\n",
       "  </thead>\n",
       "  <tbody>\n",
       "    <tr>\n",
       "      <th>4</th>\n",
       "      <td>Editors Choice</td>\n",
       "      <td>23.134304</td>\n",
       "    </tr>\n",
       "    <tr>\n",
       "      <th>3</th>\n",
       "      <td>In App Purchases</td>\n",
       "      <td>3.706964</td>\n",
       "    </tr>\n",
       "    <tr>\n",
       "      <th>2</th>\n",
       "      <td>Ad Supported</td>\n",
       "      <td>2.654070</td>\n",
       "    </tr>\n",
       "    <tr>\n",
       "      <th>5</th>\n",
       "      <td>Time Gap</td>\n",
       "      <td>0.999440</td>\n",
       "    </tr>\n",
       "    <tr>\n",
       "      <th>0</th>\n",
       "      <td>Free</td>\n",
       "      <td>0.334375</td>\n",
       "    </tr>\n",
       "    <tr>\n",
       "      <th>1</th>\n",
       "      <td>Price</td>\n",
       "      <td>0.134804</td>\n",
       "    </tr>\n",
       "  </tbody>\n",
       "</table>\n",
       "</div>"
      ],
      "text/plain": [
       "            feature  importance\n",
       "4    Editors Choice   23.134304\n",
       "3  In App Purchases    3.706964\n",
       "2      Ad Supported    2.654070\n",
       "5          Time Gap    0.999440\n",
       "0              Free    0.334375\n",
       "1             Price    0.134804"
      ]
     },
     "execution_count": 56,
     "metadata": {},
     "output_type": "execute_result"
    }
   ],
   "source": [
    "# make a list of all independent features\n",
    "feature_namesAr = smote_data_xAr.columns.to_list()\n",
    "modelAr = LogisticRegression(random_state=0).fit(arcade[feature_names].values, arcade[\"Success\"].values)\n",
    "# get the scores\n",
    "scoreAr = modelAr.score(arcade[feature_namesAr].values, arcade['Success'].values)\n",
    "print(\"Model Score = {}\".format(scoreAr))\n",
    "\n",
    "# important features\n",
    "feature_importanceAr = pd.DataFrame(feature_namesAr, columns = [\"feature\"])\n",
    "feature_importanceAr[\"importance\"] = pow(math.e, w)\n",
    "feature_importanceAr = feature_importanceAr.sort_values(by = [\"importance\"], ascending = False)\n",
    "feature_importanceAr = feature_importanceAr[:10].sort_values(by = [\"importance\"], ascending = False)\n",
    "\n",
    "# Visualisation\n",
    "axAr = feature_importanceAr.sort_values(by = [\"importance\"], ascending=True).plot.barh(x = 'feature', y = 'importance')\n",
    "\n",
    "plt.title('Important Features')\n",
    "plt.show()\n",
    "\n",
    "# Important Features\n",
    "feature_importanceAr"
   ]
  },
  {
   "cell_type": "code",
   "execution_count": 57,
   "id": "44175a07",
   "metadata": {},
   "outputs": [],
   "source": [
    "# make a list of all features\n",
    "feature_importance_listAr = feature_importanceAr['feature'].to_list()\n",
    "\n",
    "# create the X with all important features only\n",
    "xAr = smote_data_xAr[feature_importance_listAr]\n",
    "yAr = smote_data_yAr['Success']\n",
    "xAr = pd.get_dummies(xAr, columns=['Free', 'Ad Supported', 'In App Purchases', 'Editors Choice'], drop_first=True)"
   ]
  },
  {
   "cell_type": "code",
   "execution_count": 58,
   "id": "613bfea7",
   "metadata": {},
   "outputs": [
    {
     "name": "stdout",
     "output_type": "stream",
     "text": [
      "Warning: Maximum number of iterations has been exceeded.\n",
      "         Current function value: 0.455273\n",
      "         Iterations: 35\n",
      "                                Results: Logit\n",
      "==============================================================================\n",
      "Model:                   Logit                Pseudo R-squared:     0.343     \n",
      "Dependent Variable:      Success              AIC:                  32343.6932\n",
      "Date:                    2022-04-22 04:38     BIC:                  32394.5583\n",
      "No. Observations:        35508                Log-Likelihood:       -16166.   \n",
      "Df Model:                5                    LL-Null:              -24612.   \n",
      "Df Residuals:            35502                LLR p-value:          0.0000    \n",
      "Converged:               0.0000               Scale:                1.0000    \n",
      "No. Iterations:          35.0000                                              \n",
      "------------------------------------------------------------------------------\n",
      "                       Coef.   Std.Err.    z     P>|z|     [0.025     0.975]  \n",
      "------------------------------------------------------------------------------\n",
      "Time Gap              -0.0005    0.0000 -21.8083 0.0000     -0.0005    -0.0004\n",
      "Price                 -0.4511    0.0550  -8.1986 0.0000     -0.5589    -0.3432\n",
      "Free_True             -3.2950    0.0820 -40.1605 0.0000     -3.4558    -3.1342\n",
      "Ad Supported_True      2.1549    0.0801  26.9042 0.0000      1.9979     2.3119\n",
      "In App Purchases_True  2.7860    0.0286  97.5602 0.0000      2.7300     2.8419\n",
      "Editors Choice_True   21.2314 5428.9763   0.0039 0.9969 -10619.3667 10661.8295\n",
      "==============================================================================\n",
      "\n"
     ]
    },
    {
     "name": "stderr",
     "output_type": "stream",
     "text": [
      "C:\\Users\\davyn\\anaconda3\\lib\\site-packages\\statsmodels\\base\\model.py:566: ConvergenceWarning: Maximum Likelihood optimization failed to converge. Check mle_retvals\n",
      "  warnings.warn(\"Maximum Likelihood optimization failed to \"\n"
     ]
    }
   ],
   "source": [
    "#Split the dataset to test and train data\n",
    "xAr_train, xAr_test, yAr_train, yAr_test = sk.train_test_split(xAr, yAr, test_size=0.2, random_state=0)\n",
    "logit_modelAr=sm.Logit(yAr_train,xAr_train)\n",
    "result = logit_modelAr.fit()\n",
    "print(result.summary2())"
   ]
  },
  {
   "cell_type": "code",
   "execution_count": 59,
   "id": "98330c09",
   "metadata": {},
   "outputs": [
    {
     "name": "stdout",
     "output_type": "stream",
     "text": [
      "Logistic Regression Model Accuracy: 0.82\n"
     ]
    }
   ],
   "source": [
    "logreg = LogisticRegression()\n",
    "logreg.fit(xAr_train, yAr_train)\n",
    "yAr_pred = logreg.predict(xAr_test)\n",
    "print('Logistic Regression Model Accuracy: {:.2f}'.format(logreg.score(xAr_test,yAr_test)))"
   ]
  },
  {
   "cell_type": "code",
   "execution_count": 60,
   "id": "efb0e6e9",
   "metadata": {},
   "outputs": [
    {
     "data": {
      "image/png": "[encoded data removed]",
      "text/plain": [
       "<Figure size 432x288 with 1 Axes>"
      ]
     },
     "metadata": {},
     "output_type": "display_data"
    }
   ],
   "source": [
    "from sklearn.metrics import roc_auc_score\n",
    "from sklearn.metrics import roc_curve\n",
    "logit_roc_auc = roc_auc_score(yAr_test, logreg.predict(xAr_test))\n",
    "fpr, tpr, thresholds = roc_curve(yAr_test, logreg.predict_proba(xAr_test)[:,1])\n",
    "plt.figure()\n",
    "plt.plot(fpr, tpr, label='Logistric Regression (area = %0.2f)' % logit_roc_auc)\n",
    "plt.plot([0,1], [0,1], 'r--')\n",
    "plt.xlim([0.0, 1.0])\n",
    "plt.ylim([0.0, 1.05])\n",
    "plt.xlabel('False Positive Rate')\n",
    "plt.ylabel('True Positive Rate')\n",
    "plt.title('Receiver Operating Characteristic')\n",
    "plt.legend(loc = \"lower right\")\n",
    "plt.savefig('Log_ROC')\n",
    "plt.show()"
   ]
  },
  {
   "cell_type": "code",
   "execution_count": 61,
   "id": "5fb957fc",
   "metadata": {},
   "outputs": [
    {
     "name": "stdout",
     "output_type": "stream",
     "text": [
      "[[3521  913]\n",
      " [ 664 3780]]\n",
      "Accuracy Score = 0.8223699031313358\n",
      "TNR = 0.7940911141181777\n",
      "TPR = 0.8505850585058505\n"
     ]
    }
   ],
   "source": [
    "from sklearn.metrics import confusion_matrix, accuracy_score\n",
    "cmAr = confusion_matrix(yAr_test, yAr_pred)\n",
    "acAr = accuracy_score(yAr_test, yAr_pred)\n",
    "print(cmAr)\n",
    "print(\"Accuracy Score = {}\".format(acAr))\n",
    "print(\"TNR = {}\".format(3521/(3521+913)))\n",
    "print(\"TPR = {}\".format(3780/(3780+664)))"
   ]
  },
  {
   "cell_type": "markdown",
   "id": "d2a899db",
   "metadata": {},
   "source": [
    "# Using Logistic Regression for Simulation Games"
   ]
  },
  {
   "cell_type": "code",
   "execution_count": 62,
   "id": "692388b1",
   "metadata": {},
   "outputs": [],
   "source": [
    "sim_0 = ['Simulation']\n",
    "simNotExist = ~sim['Category'].isin(sim_0)\n",
    "simNotExist_rows = sim[simNotExist]\n",
    "sim = sim.drop(simNotExist_rows.index)"
   ]
  },
  {
   "cell_type": "code",
   "execution_count": 63,
   "id": "765611a5",
   "metadata": {},
   "outputs": [],
   "source": [
    "cat_vars=['Free', 'Size', 'Ad Supported', 'In App Purchases', 'Editors Choice', 'Time Gap']\n",
    "for var in cat_vars:\n",
    "    cat_list = 'var'+'_'+var\n",
    "    cat_list = pd.get_dummies(sim[var], prefix=var)\n",
    "    data1 = sim.join(cat_list)\n",
    "    sim = data1\n",
    "cat_vars=['Free', 'Size', 'Ad Supported', 'In App Purchases', 'Editors Choice', 'Time Gap']\n",
    "data_vars = sim.columns.values.tolist()\n",
    "to_keep = [i for i in data_vars if i not in cat_vars]"
   ]
  },
  {
   "cell_type": "code",
   "execution_count": 64,
   "id": "2011612a",
   "metadata": {},
   "outputs": [
    {
     "name": "stdout",
     "output_type": "stream",
     "text": [
      "False    16232\n",
      "True      1958\n",
      "Name: Success, dtype: int64\n",
      "False    0.892358\n",
      "True     0.107642\n",
      "Name: Success, dtype: float64\n"
     ]
    }
   ],
   "source": [
    "print(sim['Success'].value_counts())\n",
    "print(sim.Success.value_counts() / len(sim))"
   ]
  },
  {
   "cell_type": "code",
   "execution_count": 65,
   "id": "82137c85",
   "metadata": {},
   "outputs": [],
   "source": [
    "# dependent variable\n",
    "yS = sim[['Success']]\n",
    "# independent variables\n",
    "xS = sim[['Free', 'Price', 'Ad Supported', 'In App Purchases', 'Editors Choice', 'Time Gap']]\n",
    "# not using size, as the numbers are too similar when compared with size\n",
    "osS = SMOTE(random_state = 0)\n",
    "xS_train, xS_test, yS_train, yS_test = sk.train_test_split(xS, yS, test_size = 0.2, random_state=0)\n",
    "columnsS = xS_train.columns\n",
    "\n",
    "smote_data_xS, smote_data_yS = osS.fit_resample(xS_train, yS_train)\n",
    "smote_data_xS = pd.DataFrame(data = smote_data_xS, columns = columnsS)\n",
    "smote_data_yS = pd.DataFrame(data = smote_data_yS, columns = ['Success'])"
   ]
  },
  {
   "cell_type": "code",
   "execution_count": 66,
   "id": "17847c45",
   "metadata": {},
   "outputs": [
    {
     "data": {
      "text/html": [
       "<div>\n",
       "<style scoped>\n",
       "    .dataframe tbody tr th:only-of-type {\n",
       "        vertical-align: middle;\n",
       "    }\n",
       "\n",
       "    .dataframe tbody tr th {\n",
       "        vertical-align: top;\n",
       "    }\n",
       "\n",
       "    .dataframe thead th {\n",
       "        text-align: right;\n",
       "    }\n",
       "</style>\n",
       "<table border=\"1\" class=\"dataframe\">\n",
       "  <thead>\n",
       "    <tr style=\"text-align: right;\">\n",
       "      <th></th>\n",
       "      <th>Free</th>\n",
       "      <th>Price</th>\n",
       "      <th>Ad Supported</th>\n",
       "      <th>In App Purchases</th>\n",
       "      <th>Editors Choice</th>\n",
       "      <th>Time Gap</th>\n",
       "    </tr>\n",
       "  </thead>\n",
       "  <tbody>\n",
       "    <tr>\n",
       "      <th>0</th>\n",
       "      <td>True</td>\n",
       "      <td>0.0</td>\n",
       "      <td>True</td>\n",
       "      <td>False</td>\n",
       "      <td>False</td>\n",
       "      <td>96</td>\n",
       "    </tr>\n",
       "    <tr>\n",
       "      <th>1</th>\n",
       "      <td>True</td>\n",
       "      <td>0.0</td>\n",
       "      <td>True</td>\n",
       "      <td>True</td>\n",
       "      <td>False</td>\n",
       "      <td>1273</td>\n",
       "    </tr>\n",
       "    <tr>\n",
       "      <th>2</th>\n",
       "      <td>True</td>\n",
       "      <td>0.0</td>\n",
       "      <td>True</td>\n",
       "      <td>True</td>\n",
       "      <td>False</td>\n",
       "      <td>35</td>\n",
       "    </tr>\n",
       "    <tr>\n",
       "      <th>3</th>\n",
       "      <td>True</td>\n",
       "      <td>0.0</td>\n",
       "      <td>True</td>\n",
       "      <td>False</td>\n",
       "      <td>False</td>\n",
       "      <td>178</td>\n",
       "    </tr>\n",
       "    <tr>\n",
       "      <th>4</th>\n",
       "      <td>True</td>\n",
       "      <td>0.0</td>\n",
       "      <td>True</td>\n",
       "      <td>False</td>\n",
       "      <td>False</td>\n",
       "      <td>766</td>\n",
       "    </tr>\n",
       "    <tr>\n",
       "      <th>...</th>\n",
       "      <td>...</td>\n",
       "      <td>...</td>\n",
       "      <td>...</td>\n",
       "      <td>...</td>\n",
       "      <td>...</td>\n",
       "      <td>...</td>\n",
       "    </tr>\n",
       "    <tr>\n",
       "      <th>25947</th>\n",
       "      <td>True</td>\n",
       "      <td>0.0</td>\n",
       "      <td>True</td>\n",
       "      <td>True</td>\n",
       "      <td>False</td>\n",
       "      <td>364</td>\n",
       "    </tr>\n",
       "    <tr>\n",
       "      <th>25948</th>\n",
       "      <td>True</td>\n",
       "      <td>0.0</td>\n",
       "      <td>True</td>\n",
       "      <td>True</td>\n",
       "      <td>False</td>\n",
       "      <td>1199</td>\n",
       "    </tr>\n",
       "    <tr>\n",
       "      <th>25949</th>\n",
       "      <td>True</td>\n",
       "      <td>0.0</td>\n",
       "      <td>True</td>\n",
       "      <td>False</td>\n",
       "      <td>False</td>\n",
       "      <td>24</td>\n",
       "    </tr>\n",
       "    <tr>\n",
       "      <th>25950</th>\n",
       "      <td>True</td>\n",
       "      <td>0.0</td>\n",
       "      <td>True</td>\n",
       "      <td>True</td>\n",
       "      <td>False</td>\n",
       "      <td>47</td>\n",
       "    </tr>\n",
       "    <tr>\n",
       "      <th>25951</th>\n",
       "      <td>True</td>\n",
       "      <td>0.0</td>\n",
       "      <td>True</td>\n",
       "      <td>True</td>\n",
       "      <td>False</td>\n",
       "      <td>43</td>\n",
       "    </tr>\n",
       "  </tbody>\n",
       "</table>\n",
       "<p>25952 rows × 6 columns</p>\n",
       "</div>"
      ],
      "text/plain": [
       "       Free  Price  Ad Supported  In App Purchases  Editors Choice  Time Gap\n",
       "0      True    0.0          True             False           False        96\n",
       "1      True    0.0          True              True           False      1273\n",
       "2      True    0.0          True              True           False        35\n",
       "3      True    0.0          True             False           False       178\n",
       "4      True    0.0          True             False           False       766\n",
       "...     ...    ...           ...               ...             ...       ...\n",
       "25947  True    0.0          True              True           False       364\n",
       "25948  True    0.0          True              True           False      1199\n",
       "25949  True    0.0          True             False           False        24\n",
       "25950  True    0.0          True              True           False        47\n",
       "25951  True    0.0          True              True           False        43\n",
       "\n",
       "[25952 rows x 6 columns]"
      ]
     },
     "execution_count": 66,
     "metadata": {},
     "output_type": "execute_result"
    }
   ],
   "source": [
    "smote_data_xS"
   ]
  },
  {
   "cell_type": "code",
   "execution_count": 67,
   "id": "883e04b4",
   "metadata": {},
   "outputs": [
    {
     "data": {
      "text/html": [
       "<div>\n",
       "<style scoped>\n",
       "    .dataframe tbody tr th:only-of-type {\n",
       "        vertical-align: middle;\n",
       "    }\n",
       "\n",
       "    .dataframe tbody tr th {\n",
       "        vertical-align: top;\n",
       "    }\n",
       "\n",
       "    .dataframe thead th {\n",
       "        text-align: right;\n",
       "    }\n",
       "</style>\n",
       "<table border=\"1\" class=\"dataframe\">\n",
       "  <thead>\n",
       "    <tr style=\"text-align: right;\">\n",
       "      <th></th>\n",
       "      <th>Success</th>\n",
       "    </tr>\n",
       "  </thead>\n",
       "  <tbody>\n",
       "    <tr>\n",
       "      <th>0</th>\n",
       "      <td>False</td>\n",
       "    </tr>\n",
       "    <tr>\n",
       "      <th>1</th>\n",
       "      <td>True</td>\n",
       "    </tr>\n",
       "    <tr>\n",
       "      <th>2</th>\n",
       "      <td>False</td>\n",
       "    </tr>\n",
       "    <tr>\n",
       "      <th>3</th>\n",
       "      <td>False</td>\n",
       "    </tr>\n",
       "    <tr>\n",
       "      <th>4</th>\n",
       "      <td>False</td>\n",
       "    </tr>\n",
       "    <tr>\n",
       "      <th>...</th>\n",
       "      <td>...</td>\n",
       "    </tr>\n",
       "    <tr>\n",
       "      <th>25947</th>\n",
       "      <td>True</td>\n",
       "    </tr>\n",
       "    <tr>\n",
       "      <th>25948</th>\n",
       "      <td>True</td>\n",
       "    </tr>\n",
       "    <tr>\n",
       "      <th>25949</th>\n",
       "      <td>True</td>\n",
       "    </tr>\n",
       "    <tr>\n",
       "      <th>25950</th>\n",
       "      <td>True</td>\n",
       "    </tr>\n",
       "    <tr>\n",
       "      <th>25951</th>\n",
       "      <td>True</td>\n",
       "    </tr>\n",
       "  </tbody>\n",
       "</table>\n",
       "<p>25952 rows × 1 columns</p>\n",
       "</div>"
      ],
      "text/plain": [
       "       Success\n",
       "0        False\n",
       "1         True\n",
       "2        False\n",
       "3        False\n",
       "4        False\n",
       "...        ...\n",
       "25947     True\n",
       "25948     True\n",
       "25949     True\n",
       "25950     True\n",
       "25951     True\n",
       "\n",
       "[25952 rows x 1 columns]"
      ]
     },
     "execution_count": 67,
     "metadata": {},
     "output_type": "execute_result"
    }
   ],
   "source": [
    "smote_data_yS"
   ]
  },
  {
   "cell_type": "code",
   "execution_count": 68,
   "id": "21971aa6",
   "metadata": {},
   "outputs": [
    {
     "name": "stdout",
     "output_type": "stream",
     "text": [
      "% of each class in the original dataset -\n",
      "False    0.892358\n",
      "True     0.107642\n",
      "Name: Success, dtype: float64\n",
      "% of each class in SMOTE sampled dataset -\n",
      "False    0.713359\n",
      "True     0.713359\n",
      "Name: Success, dtype: float64\n"
     ]
    }
   ],
   "source": [
    "print( \"% of each class in the original dataset -\")\n",
    "print(sim.Success.value_counts() / len(sim))\n",
    "print ( \"% of each class in SMOTE sampled dataset -\")\n",
    "print (smote_data_yS.Success.value_counts() / len(sim))"
   ]
  },
  {
   "cell_type": "code",
   "execution_count": 69,
   "id": "36a7896e",
   "metadata": {},
   "outputs": [
    {
     "name": "stderr",
     "output_type": "stream",
     "text": [
      "C:\\Users\\davyn\\anaconda3\\lib\\site-packages\\sklearn\\linear_model\\_logistic.py:814: ConvergenceWarning: lbfgs failed to converge (status=1):\n",
      "STOP: TOTAL NO. of ITERATIONS REACHED LIMIT.\n",
      "\n",
      "Increase the number of iterations (max_iter) or scale the data as shown in:\n",
      "    https://scikit-learn.org/stable/modules/preprocessing.html\n",
      "Please also refer to the documentation for alternative solver options:\n",
      "    https://scikit-learn.org/stable/modules/linear_model.html#logistic-regression\n",
      "  n_iter_i = _check_optimize_result(\n"
     ]
    },
    {
     "name": "stdout",
     "output_type": "stream",
     "text": [
      "Model Score = 0.8951072017592083\n"
     ]
    },
    {
     "data": {
      "image/png": "[encoded data removed]",
      "text/plain": [
       "<Figure size 432x288 with 1 Axes>"
      ]
     },
     "metadata": {},
     "output_type": "display_data"
    },
    {
     "data": {
      "text/html": [
       "<div>\n",
       "<style scoped>\n",
       "    .dataframe tbody tr th:only-of-type {\n",
       "        vertical-align: middle;\n",
       "    }\n",
       "\n",
       "    .dataframe tbody tr th {\n",
       "        vertical-align: top;\n",
       "    }\n",
       "\n",
       "    .dataframe thead th {\n",
       "        text-align: right;\n",
       "    }\n",
       "</style>\n",
       "<table border=\"1\" class=\"dataframe\">\n",
       "  <thead>\n",
       "    <tr style=\"text-align: right;\">\n",
       "      <th></th>\n",
       "      <th>feature</th>\n",
       "      <th>importance</th>\n",
       "    </tr>\n",
       "  </thead>\n",
       "  <tbody>\n",
       "    <tr>\n",
       "      <th>4</th>\n",
       "      <td>Editors Choice</td>\n",
       "      <td>23.134304</td>\n",
       "    </tr>\n",
       "    <tr>\n",
       "      <th>3</th>\n",
       "      <td>In App Purchases</td>\n",
       "      <td>3.706964</td>\n",
       "    </tr>\n",
       "    <tr>\n",
       "      <th>2</th>\n",
       "      <td>Ad Supported</td>\n",
       "      <td>2.654070</td>\n",
       "    </tr>\n",
       "    <tr>\n",
       "      <th>5</th>\n",
       "      <td>Time Gap</td>\n",
       "      <td>0.999440</td>\n",
       "    </tr>\n",
       "    <tr>\n",
       "      <th>0</th>\n",
       "      <td>Free</td>\n",
       "      <td>0.334375</td>\n",
       "    </tr>\n",
       "    <tr>\n",
       "      <th>1</th>\n",
       "      <td>Price</td>\n",
       "      <td>0.134804</td>\n",
       "    </tr>\n",
       "  </tbody>\n",
       "</table>\n",
       "</div>"
      ],
      "text/plain": [
       "            feature  importance\n",
       "4    Editors Choice   23.134304\n",
       "3  In App Purchases    3.706964\n",
       "2      Ad Supported    2.654070\n",
       "5          Time Gap    0.999440\n",
       "0              Free    0.334375\n",
       "1             Price    0.134804"
      ]
     },
     "execution_count": 69,
     "metadata": {},
     "output_type": "execute_result"
    }
   ],
   "source": [
    "# make a list of all independent features\n",
    "feature_namesS = smote_data_xS.columns.to_list()\n",
    "modelS = LogisticRegression(random_state=0).fit(sim[feature_names].values, sim[\"Success\"].values)\n",
    "# get the scores\n",
    "scoreS = modelS.score(sim[feature_namesS].values, sim['Success'].values)\n",
    "print(\"Model Score = {}\".format(scoreS))\n",
    "\n",
    "# important features\n",
    "feature_importanceS = pd.DataFrame(feature_namesS, columns = [\"feature\"])\n",
    "feature_importanceS[\"importance\"] = pow(math.e, w)\n",
    "feature_importanceS = feature_importanceS.sort_values(by = [\"importance\"], ascending = False)\n",
    "feature_importanceS = feature_importanceS[:10].sort_values(by = [\"importance\"], ascending = False)\n",
    "\n",
    "# Visualisation\n",
    "axS = feature_importanceS.sort_values(by = [\"importance\"], ascending=True).plot.barh(x = 'feature', y = 'importance')\n",
    "\n",
    "plt.title('Important Features')\n",
    "plt.show()\n",
    "\n",
    "# Important Features\n",
    "feature_importanceS"
   ]
  },
  {
   "cell_type": "code",
   "execution_count": 70,
   "id": "dd3c96cd",
   "metadata": {},
   "outputs": [],
   "source": [
    "# make a list of all features\n",
    "feature_importance_listS = feature_importanceS['feature'].to_list()\n",
    "\n",
    "# create the X with all important features only\n",
    "xS = smote_data_xS[feature_importance_listS]\n",
    "yS = smote_data_yS['Success']\n",
    "xS = pd.get_dummies(xS, columns=['Free', 'Ad Supported', 'In App Purchases', 'Editors Choice'], drop_first=True)"
   ]
  },
  {
   "cell_type": "code",
   "execution_count": 71,
   "id": "f219477c",
   "metadata": {},
   "outputs": [
    {
     "name": "stdout",
     "output_type": "stream",
     "text": [
      "Optimization terminated successfully.\n",
      "         Current function value: 0.556591\n",
      "         Iterations 10\n",
      "                            Results: Logit\n",
      "======================================================================\n",
      "Model:                 Logit             Pseudo R-squared:  0.197     \n",
      "Dependent Variable:    Success           AIC:               23122.7781\n",
      "Date:                  2022-04-22 04:38  BIC:               23170.4231\n",
      "No. Observations:      20761             Log-Likelihood:    -11555.   \n",
      "Df Model:              5                 LL-Null:           -14390.   \n",
      "Df Residuals:          20755             LLR p-value:       0.0000    \n",
      "Converged:             1.0000            Scale:             1.0000    \n",
      "No. Iterations:        10.0000                                        \n",
      "----------------------------------------------------------------------\n",
      "                       Coef.  Std.Err.    z     P>|z|   [0.025  0.975]\n",
      "----------------------------------------------------------------------\n",
      "Time Gap              -0.0000   0.0000  -1.0126 0.3112 -0.0001  0.0000\n",
      "Price                 -1.0595   0.0881 -12.0270 0.0000 -1.2322 -0.8868\n",
      "Free_True             -3.1374   0.1065 -29.4497 0.0000 -3.3462 -2.9286\n",
      "Ad Supported_True      2.1509   0.1035  20.7761 0.0000  1.9480  2.3538\n",
      "In App Purchases_True  1.9696   0.0334  58.9913 0.0000  1.9042  2.0350\n",
      "Editors Choice_True    5.7772   1.1000   5.2521 0.0000  3.6213  7.9331\n",
      "======================================================================\n",
      "\n"
     ]
    }
   ],
   "source": [
    "#Split the dataset to test and train data\n",
    "xS_train, xS_test, yS_train, yS_test = sk.train_test_split(xS, yS, test_size=0.2, random_state=0)\n",
    "logit_modelS=sm.Logit(yS_train,xS_train)\n",
    "result = logit_modelS.fit()\n",
    "print(result.summary2())"
   ]
  },
  {
   "cell_type": "code",
   "execution_count": 72,
   "id": "a5c7bf8d",
   "metadata": {},
   "outputs": [
    {
     "name": "stdout",
     "output_type": "stream",
     "text": [
      "Logistic Regression Model Accuracy: 0.74\n"
     ]
    },
    {
     "name": "stderr",
     "output_type": "stream",
     "text": [
      "C:\\Users\\davyn\\anaconda3\\lib\\site-packages\\sklearn\\linear_model\\_logistic.py:814: ConvergenceWarning: lbfgs failed to converge (status=1):\n",
      "STOP: TOTAL NO. of ITERATIONS REACHED LIMIT.\n",
      "\n",
      "Increase the number of iterations (max_iter) or scale the data as shown in:\n",
      "    https://scikit-learn.org/stable/modules/preprocessing.html\n",
      "Please also refer to the documentation for alternative solver options:\n",
      "    https://scikit-learn.org/stable/modules/linear_model.html#logistic-regression\n",
      "  n_iter_i = _check_optimize_result(\n"
     ]
    }
   ],
   "source": [
    "logreg = LogisticRegression()\n",
    "logreg.fit(xS_train, yS_train)\n",
    "yS_pred = logreg.predict(xS_test)\n",
    "print('Logistic Regression Model Accuracy: {:.2f}'.format(logreg.score(xS_test,yS_test)))"
   ]
  },
  {
   "cell_type": "code",
   "execution_count": 73,
   "id": "91224f43",
   "metadata": {},
   "outputs": [
    {
     "data": {
      "image/png": "[encoded data removed]",
      "text/plain": [
       "<Figure size 432x288 with 1 Axes>"
      ]
     },
     "metadata": {},
     "output_type": "display_data"
    }
   ],
   "source": [
    "from sklearn.metrics import roc_auc_score\n",
    "from sklearn.metrics import roc_curve\n",
    "logit_roc_auc = roc_auc_score(yS_test, logreg.predict(xS_test))\n",
    "fpr, tpr, thresholds = roc_curve(yS_test, logreg.predict_proba(xS_test)[:,1])\n",
    "plt.figure()\n",
    "plt.plot(fpr, tpr, label='Logistric Regression (area = %0.2f)' % logit_roc_auc)\n",
    "plt.plot([0,1], [0,1], 'r--')\n",
    "plt.xlim([0.0, 1.0])\n",
    "plt.ylim([0.0, 1.05])\n",
    "plt.xlabel('False Positive Rate')\n",
    "plt.ylabel('True Positive Rate')\n",
    "plt.title('Receiver Operating Characteristic')\n",
    "plt.legend(loc = \"lower right\")\n",
    "plt.savefig('Log_ROC')\n",
    "plt.show()"
   ]
  },
  {
   "cell_type": "code",
   "execution_count": 74,
   "id": "ac4ff290",
   "metadata": {},
   "outputs": [
    {
     "name": "stdout",
     "output_type": "stream",
     "text": [
      "[[1838  717]\n",
      " [ 615 2021]]\n",
      "Accuracy Score = 0.7434020419957619\n",
      "TNR = 0.7193737769080235\n",
      "TPR = 0.7666919575113809\n"
     ]
    }
   ],
   "source": [
    "from sklearn.metrics import confusion_matrix, accuracy_score\n",
    "cmS = confusion_matrix(yS_test, yS_pred)\n",
    "acS = accuracy_score(yS_test, yS_pred)\n",
    "print(cmS)\n",
    "print(\"Accuracy Score = {}\".format(acS))\n",
    "print(\"TNR = {}\".format(1838/(1838+717)))\n",
    "print(\"TPR = {}\".format(2021/(2021+615)))"
   ]
  },
  {
   "cell_type": "markdown",
   "id": "92247e2d",
   "metadata": {},
   "source": [
    "# Using Logistic Regression on Action Games"
   ]
  },
  {
   "cell_type": "code",
   "execution_count": 75,
   "id": "eecc5a9a",
   "metadata": {},
   "outputs": [],
   "source": [
    "action_0 = ['Action']\n",
    "actionNotExist = ~action['Category'].isin(action_0)\n",
    "actionNotExist_rows = action[actionNotExist]\n",
    "action = action.drop(actionNotExist_rows.index)"
   ]
  },
  {
   "cell_type": "code",
   "execution_count": 76,
   "id": "bcd3fe06",
   "metadata": {},
   "outputs": [],
   "source": [
    "cat_vars=['Free', 'Size', 'Ad Supported', 'In App Purchases', 'Editors Choice', 'Time Gap']\n",
    "for var in cat_vars:\n",
    "    cat_list = 'var'+'_'+var\n",
    "    cat_list = pd.get_dummies(action[var], prefix=var)\n",
    "    data1 = action.join(cat_list)\n",
    "    action = data1\n",
    "cat_vars=['Free', 'Size', 'Ad Supported', 'In App Purchases', 'Editors Choice', 'Time Gap']\n",
    "data_vars = action.columns.values.tolist()\n",
    "to_keep = [i for i in data_vars if i not in cat_vars]"
   ]
  },
  {
   "cell_type": "code",
   "execution_count": 77,
   "id": "42c0e307",
   "metadata": {},
   "outputs": [
    {
     "name": "stdout",
     "output_type": "stream",
     "text": [
      "False    15415\n",
      "True      1679\n",
      "Name: Success, dtype: int64\n",
      "False    0.901778\n",
      "True     0.098222\n",
      "Name: Success, dtype: float64\n"
     ]
    }
   ],
   "source": [
    "print(action['Success'].value_counts())\n",
    "print(action.Success.value_counts() / len(action))"
   ]
  },
  {
   "cell_type": "code",
   "execution_count": 78,
   "id": "d4d75bb5",
   "metadata": {},
   "outputs": [],
   "source": [
    "# dependent variable\n",
    "yA = action[['Success']]\n",
    "# independent variables\n",
    "xA = action[['Free', 'Price', 'Ad Supported', 'In App Purchases', 'Editors Choice', 'Time Gap']]\n",
    "# not using size, as the numbers are too similar when compared with size\n",
    "osA = SMOTE(random_state = 0)\n",
    "xA_train, xA_test, yA_train, yA_test = sk.train_test_split(xA, yA, test_size = 0.2, random_state=0)\n",
    "columnsA = xA_train.columns\n",
    "\n",
    "smote_data_xA, smote_data_yA = osA.fit_resample(xA_train, yA_train)\n",
    "smote_data_xA = pd.DataFrame(data = smote_data_xA, columns = columnsA)\n",
    "smote_data_yA = pd.DataFrame(data = smote_data_yA, columns = ['Success'])"
   ]
  },
  {
   "cell_type": "code",
   "execution_count": 79,
   "id": "fbdc8c2c",
   "metadata": {},
   "outputs": [
    {
     "data": {
      "text/html": [
       "<div>\n",
       "<style scoped>\n",
       "    .dataframe tbody tr th:only-of-type {\n",
       "        vertical-align: middle;\n",
       "    }\n",
       "\n",
       "    .dataframe tbody tr th {\n",
       "        vertical-align: top;\n",
       "    }\n",
       "\n",
       "    .dataframe thead th {\n",
       "        text-align: right;\n",
       "    }\n",
       "</style>\n",
       "<table border=\"1\" class=\"dataframe\">\n",
       "  <thead>\n",
       "    <tr style=\"text-align: right;\">\n",
       "      <th></th>\n",
       "      <th>Free</th>\n",
       "      <th>Price</th>\n",
       "      <th>Ad Supported</th>\n",
       "      <th>In App Purchases</th>\n",
       "      <th>Editors Choice</th>\n",
       "      <th>Time Gap</th>\n",
       "    </tr>\n",
       "  </thead>\n",
       "  <tbody>\n",
       "    <tr>\n",
       "      <th>0</th>\n",
       "      <td>True</td>\n",
       "      <td>0.0</td>\n",
       "      <td>True</td>\n",
       "      <td>False</td>\n",
       "      <td>False</td>\n",
       "      <td>42</td>\n",
       "    </tr>\n",
       "    <tr>\n",
       "      <th>1</th>\n",
       "      <td>True</td>\n",
       "      <td>0.0</td>\n",
       "      <td>True</td>\n",
       "      <td>False</td>\n",
       "      <td>False</td>\n",
       "      <td>277</td>\n",
       "    </tr>\n",
       "    <tr>\n",
       "      <th>2</th>\n",
       "      <td>True</td>\n",
       "      <td>0.0</td>\n",
       "      <td>True</td>\n",
       "      <td>False</td>\n",
       "      <td>False</td>\n",
       "      <td>681</td>\n",
       "    </tr>\n",
       "    <tr>\n",
       "      <th>3</th>\n",
       "      <td>True</td>\n",
       "      <td>0.0</td>\n",
       "      <td>True</td>\n",
       "      <td>False</td>\n",
       "      <td>False</td>\n",
       "      <td>1535</td>\n",
       "    </tr>\n",
       "    <tr>\n",
       "      <th>4</th>\n",
       "      <td>True</td>\n",
       "      <td>0.0</td>\n",
       "      <td>True</td>\n",
       "      <td>False</td>\n",
       "      <td>False</td>\n",
       "      <td>196</td>\n",
       "    </tr>\n",
       "    <tr>\n",
       "      <th>...</th>\n",
       "      <td>...</td>\n",
       "      <td>...</td>\n",
       "      <td>...</td>\n",
       "      <td>...</td>\n",
       "      <td>...</td>\n",
       "      <td>...</td>\n",
       "    </tr>\n",
       "    <tr>\n",
       "      <th>24623</th>\n",
       "      <td>True</td>\n",
       "      <td>0.0</td>\n",
       "      <td>True</td>\n",
       "      <td>True</td>\n",
       "      <td>False</td>\n",
       "      <td>622</td>\n",
       "    </tr>\n",
       "    <tr>\n",
       "      <th>24624</th>\n",
       "      <td>True</td>\n",
       "      <td>0.0</td>\n",
       "      <td>True</td>\n",
       "      <td>True</td>\n",
       "      <td>False</td>\n",
       "      <td>70</td>\n",
       "    </tr>\n",
       "    <tr>\n",
       "      <th>24625</th>\n",
       "      <td>True</td>\n",
       "      <td>0.0</td>\n",
       "      <td>True</td>\n",
       "      <td>True</td>\n",
       "      <td>False</td>\n",
       "      <td>118</td>\n",
       "    </tr>\n",
       "    <tr>\n",
       "      <th>24626</th>\n",
       "      <td>True</td>\n",
       "      <td>0.0</td>\n",
       "      <td>True</td>\n",
       "      <td>True</td>\n",
       "      <td>False</td>\n",
       "      <td>1316</td>\n",
       "    </tr>\n",
       "    <tr>\n",
       "      <th>24627</th>\n",
       "      <td>True</td>\n",
       "      <td>0.0</td>\n",
       "      <td>True</td>\n",
       "      <td>True</td>\n",
       "      <td>False</td>\n",
       "      <td>42</td>\n",
       "    </tr>\n",
       "  </tbody>\n",
       "</table>\n",
       "<p>24628 rows × 6 columns</p>\n",
       "</div>"
      ],
      "text/plain": [
       "       Free  Price  Ad Supported  In App Purchases  Editors Choice  Time Gap\n",
       "0      True    0.0          True             False           False        42\n",
       "1      True    0.0          True             False           False       277\n",
       "2      True    0.0          True             False           False       681\n",
       "3      True    0.0          True             False           False      1535\n",
       "4      True    0.0          True             False           False       196\n",
       "...     ...    ...           ...               ...             ...       ...\n",
       "24623  True    0.0          True              True           False       622\n",
       "24624  True    0.0          True              True           False        70\n",
       "24625  True    0.0          True              True           False       118\n",
       "24626  True    0.0          True              True           False      1316\n",
       "24627  True    0.0          True              True           False        42\n",
       "\n",
       "[24628 rows x 6 columns]"
      ]
     },
     "execution_count": 79,
     "metadata": {},
     "output_type": "execute_result"
    }
   ],
   "source": [
    "smote_data_xA"
   ]
  },
  {
   "cell_type": "code",
   "execution_count": 80,
   "id": "46401e40",
   "metadata": {},
   "outputs": [
    {
     "data": {
      "text/html": [
       "<div>\n",
       "<style scoped>\n",
       "    .dataframe tbody tr th:only-of-type {\n",
       "        vertical-align: middle;\n",
       "    }\n",
       "\n",
       "    .dataframe tbody tr th {\n",
       "        vertical-align: top;\n",
       "    }\n",
       "\n",
       "    .dataframe thead th {\n",
       "        text-align: right;\n",
       "    }\n",
       "</style>\n",
       "<table border=\"1\" class=\"dataframe\">\n",
       "  <thead>\n",
       "    <tr style=\"text-align: right;\">\n",
       "      <th></th>\n",
       "      <th>Success</th>\n",
       "    </tr>\n",
       "  </thead>\n",
       "  <tbody>\n",
       "    <tr>\n",
       "      <th>0</th>\n",
       "      <td>False</td>\n",
       "    </tr>\n",
       "    <tr>\n",
       "      <th>1</th>\n",
       "      <td>False</td>\n",
       "    </tr>\n",
       "    <tr>\n",
       "      <th>2</th>\n",
       "      <td>False</td>\n",
       "    </tr>\n",
       "    <tr>\n",
       "      <th>3</th>\n",
       "      <td>False</td>\n",
       "    </tr>\n",
       "    <tr>\n",
       "      <th>4</th>\n",
       "      <td>False</td>\n",
       "    </tr>\n",
       "    <tr>\n",
       "      <th>...</th>\n",
       "      <td>...</td>\n",
       "    </tr>\n",
       "    <tr>\n",
       "      <th>24623</th>\n",
       "      <td>True</td>\n",
       "    </tr>\n",
       "    <tr>\n",
       "      <th>24624</th>\n",
       "      <td>True</td>\n",
       "    </tr>\n",
       "    <tr>\n",
       "      <th>24625</th>\n",
       "      <td>True</td>\n",
       "    </tr>\n",
       "    <tr>\n",
       "      <th>24626</th>\n",
       "      <td>True</td>\n",
       "    </tr>\n",
       "    <tr>\n",
       "      <th>24627</th>\n",
       "      <td>True</td>\n",
       "    </tr>\n",
       "  </tbody>\n",
       "</table>\n",
       "<p>24628 rows × 1 columns</p>\n",
       "</div>"
      ],
      "text/plain": [
       "       Success\n",
       "0        False\n",
       "1        False\n",
       "2        False\n",
       "3        False\n",
       "4        False\n",
       "...        ...\n",
       "24623     True\n",
       "24624     True\n",
       "24625     True\n",
       "24626     True\n",
       "24627     True\n",
       "\n",
       "[24628 rows x 1 columns]"
      ]
     },
     "execution_count": 80,
     "metadata": {},
     "output_type": "execute_result"
    }
   ],
   "source": [
    "smote_data_yA"
   ]
  },
  {
   "cell_type": "code",
   "execution_count": 81,
   "id": "4b501554",
   "metadata": {},
   "outputs": [
    {
     "name": "stdout",
     "output_type": "stream",
     "text": [
      "% of each class in the original dataset -\n",
      "False    0.901778\n",
      "True     0.098222\n",
      "Name: Success, dtype: float64\n",
      "% of each class in SMOTE sampled dataset -\n",
      "False    0.72037\n",
      "True     0.72037\n",
      "Name: Success, dtype: float64\n"
     ]
    }
   ],
   "source": [
    "print( \"% of each class in the original dataset -\")\n",
    "print(action.Success.value_counts() / len(action))\n",
    "print ( \"% of each class in SMOTE sampled dataset -\")\n",
    "print (smote_data_yA.Success.value_counts() / len(action))"
   ]
  },
  {
   "cell_type": "code",
   "execution_count": 82,
   "id": "69b03e13",
   "metadata": {},
   "outputs": [
    {
     "name": "stderr",
     "output_type": "stream",
     "text": [
      "C:\\Users\\davyn\\anaconda3\\lib\\site-packages\\sklearn\\linear_model\\_logistic.py:814: ConvergenceWarning: lbfgs failed to converge (status=1):\n",
      "STOP: TOTAL NO. of ITERATIONS REACHED LIMIT.\n",
      "\n",
      "Increase the number of iterations (max_iter) or scale the data as shown in:\n",
      "    https://scikit-learn.org/stable/modules/preprocessing.html\n",
      "Please also refer to the documentation for alternative solver options:\n",
      "    https://scikit-learn.org/stable/modules/linear_model.html#logistic-regression\n",
      "  n_iter_i = _check_optimize_result(\n"
     ]
    },
    {
     "name": "stdout",
     "output_type": "stream",
     "text": [
      "Model Score = 0.9047619047619048\n"
     ]
    },
    {
     "data": {
      "image/png": "[encoded data removed]",
      "text/plain": [
       "<Figure size 432x288 with 1 Axes>"
      ]
     },
     "metadata": {},
     "output_type": "display_data"
    },
    {
     "data": {
      "text/html": [
       "<div>\n",
       "<style scoped>\n",
       "    .dataframe tbody tr th:only-of-type {\n",
       "        vertical-align: middle;\n",
       "    }\n",
       "\n",
       "    .dataframe tbody tr th {\n",
       "        vertical-align: top;\n",
       "    }\n",
       "\n",
       "    .dataframe thead th {\n",
       "        text-align: right;\n",
       "    }\n",
       "</style>\n",
       "<table border=\"1\" class=\"dataframe\">\n",
       "  <thead>\n",
       "    <tr style=\"text-align: right;\">\n",
       "      <th></th>\n",
       "      <th>feature</th>\n",
       "      <th>importance</th>\n",
       "    </tr>\n",
       "  </thead>\n",
       "  <tbody>\n",
       "    <tr>\n",
       "      <th>4</th>\n",
       "      <td>Editors Choice</td>\n",
       "      <td>23.134304</td>\n",
       "    </tr>\n",
       "    <tr>\n",
       "      <th>3</th>\n",
       "      <td>In App Purchases</td>\n",
       "      <td>3.706964</td>\n",
       "    </tr>\n",
       "    <tr>\n",
       "      <th>2</th>\n",
       "      <td>Ad Supported</td>\n",
       "      <td>2.654070</td>\n",
       "    </tr>\n",
       "    <tr>\n",
       "      <th>5</th>\n",
       "      <td>Time Gap</td>\n",
       "      <td>0.999440</td>\n",
       "    </tr>\n",
       "    <tr>\n",
       "      <th>0</th>\n",
       "      <td>Free</td>\n",
       "      <td>0.334375</td>\n",
       "    </tr>\n",
       "    <tr>\n",
       "      <th>1</th>\n",
       "      <td>Price</td>\n",
       "      <td>0.134804</td>\n",
       "    </tr>\n",
       "  </tbody>\n",
       "</table>\n",
       "</div>"
      ],
      "text/plain": [
       "            feature  importance\n",
       "4    Editors Choice   23.134304\n",
       "3  In App Purchases    3.706964\n",
       "2      Ad Supported    2.654070\n",
       "5          Time Gap    0.999440\n",
       "0              Free    0.334375\n",
       "1             Price    0.134804"
      ]
     },
     "execution_count": 82,
     "metadata": {},
     "output_type": "execute_result"
    }
   ],
   "source": [
    "# make a list of all independent features\n",
    "feature_namesA = smote_data_xA.columns.to_list()\n",
    "modelA = LogisticRegression(random_state=0).fit(action[feature_names].values, action[\"Success\"].values)\n",
    "# get the scores\n",
    "scoreA = modelA.score(action[feature_namesA].values, action['Success'].values)\n",
    "print(\"Model Score = {}\".format(scoreA))\n",
    "\n",
    "# important features\n",
    "feature_importanceA = pd.DataFrame(feature_namesA, columns = [\"feature\"])\n",
    "feature_importanceA[\"importance\"] = pow(math.e, w)\n",
    "feature_importanceA = feature_importanceA.sort_values(by = [\"importance\"], ascending = False)\n",
    "feature_importanceA = feature_importanceA[:10].sort_values(by = [\"importance\"], ascending = False)\n",
    "\n",
    "# Visualisation\n",
    "axA = feature_importanceA.sort_values(by = [\"importance\"], ascending=True).plot.barh(x = 'feature', y = 'importance')\n",
    "\n",
    "plt.title('Important Features')\n",
    "plt.show()\n",
    "\n",
    "# Important Features\n",
    "feature_importanceA"
   ]
  },
  {
   "cell_type": "code",
   "execution_count": 83,
   "id": "02bf2bf3",
   "metadata": {},
   "outputs": [],
   "source": [
    "# make a list of all features\n",
    "feature_importance_listA = feature_importanceA['feature'].to_list()\n",
    "\n",
    "# create the X with all important features only\n",
    "xA = smote_data_xA[feature_importance_listA]\n",
    "yA = smote_data_yA['Success']\n",
    "xA = pd.get_dummies(xA, columns=['Free', 'Ad Supported', 'In App Purchases', 'Editors Choice'], drop_first=True)"
   ]
  },
  {
   "cell_type": "code",
   "execution_count": 84,
   "id": "15cb046e",
   "metadata": {},
   "outputs": [
    {
     "name": "stdout",
     "output_type": "stream",
     "text": [
      "Optimization terminated successfully.\n",
      "         Current function value: 0.493558\n",
      "         Iterations 9\n",
      "                            Results: Logit\n",
      "======================================================================\n",
      "Model:                 Logit             Pseudo R-squared:  0.288     \n",
      "Dependent Variable:    Success           AIC:               19460.1423\n",
      "Date:                  2022-04-22 04:38  BIC:               19507.4731\n",
      "No. Observations:      19702             Log-Likelihood:    -9724.1   \n",
      "Df Model:              5                 LL-Null:           -13656.   \n",
      "Df Residuals:          19696             LLR p-value:       0.0000    \n",
      "Converged:             1.0000            Scale:             1.0000    \n",
      "No. Iterations:        9.0000                                         \n",
      "----------------------------------------------------------------------\n",
      "                       Coef.  Std.Err.    z     P>|z|   [0.025  0.975]\n",
      "----------------------------------------------------------------------\n",
      "Time Gap              -0.0003   0.0000  -9.8038 0.0000 -0.0003 -0.0002\n",
      "Price                 -0.4173   0.0467  -8.9388 0.0000 -0.5088 -0.3258\n",
      "Free_True             -2.8557   0.0875 -32.6178 0.0000 -3.0273 -2.6841\n",
      "Ad Supported_True      1.5621   0.0834  18.7293 0.0000  1.3986  1.7255\n",
      "In App Purchases_True  2.5535   0.0378  67.4852 0.0000  2.4794  2.6277\n",
      "Editors Choice_True    4.1995   0.5900   7.1178 0.0000  3.0431  5.3558\n",
      "======================================================================\n",
      "\n"
     ]
    }
   ],
   "source": [
    "#Split the dataset to test and train data\n",
    "xA_train, xA_test, yA_train, yA_test = sk.train_test_split(xA, yA, test_size=0.2, random_state=0)\n",
    "logit_modelA=sm.Logit(yA_train,xA_train)\n",
    "result = logit_modelA.fit()\n",
    "print(result.summary2())"
   ]
  },
  {
   "cell_type": "code",
   "execution_count": 85,
   "id": "d4d57f6c",
   "metadata": {},
   "outputs": [
    {
     "name": "stdout",
     "output_type": "stream",
     "text": [
      "Logistic Regression Model Accuracy: 0.79\n"
     ]
    },
    {
     "name": "stderr",
     "output_type": "stream",
     "text": [
      "C:\\Users\\davyn\\anaconda3\\lib\\site-packages\\sklearn\\linear_model\\_logistic.py:814: ConvergenceWarning: lbfgs failed to converge (status=1):\n",
      "STOP: TOTAL NO. of ITERATIONS REACHED LIMIT.\n",
      "\n",
      "Increase the number of iterations (max_iter) or scale the data as shown in:\n",
      "    https://scikit-learn.org/stable/modules/preprocessing.html\n",
      "Please also refer to the documentation for alternative solver options:\n",
      "    https://scikit-learn.org/stable/modules/linear_model.html#logistic-regression\n",
      "  n_iter_i = _check_optimize_result(\n"
     ]
    }
   ],
   "source": [
    "logreg = LogisticRegression()\n",
    "logreg.fit(xA_train, yA_train)\n",
    "yA_pred = logreg.predict(xA_test)\n",
    "print('Logistic Regression Model Accuracy: {:.2f}'.format(logreg.score(xA_test,yA_test)))"
   ]
  },
  {
   "cell_type": "code",
   "execution_count": 86,
   "id": "1238b892",
   "metadata": {},
   "outputs": [
    {
     "data": {
      "image/png": "[encoded data removed]",
      "text/plain": [
       "<Figure size 432x288 with 1 Axes>"
      ]
     },
     "metadata": {},
     "output_type": "display_data"
    }
   ],
   "source": [
    "from sklearn.metrics import roc_auc_score\n",
    "from sklearn.metrics import roc_curve\n",
    "logit_roc_auc = roc_auc_score(yA_test, logreg.predict(xA_test))\n",
    "fpr, tpr, thresholds = roc_curve(yA_test, logreg.predict_proba(xA_test)[:,1])\n",
    "plt.figure()\n",
    "plt.plot(fpr, tpr, label='Logistric Regression (area = %0.2f)' % logit_roc_auc)\n",
    "plt.plot([0,1], [0,1], 'r--')\n",
    "plt.xlim([0.0, 1.0])\n",
    "plt.ylim([0.0, 1.05])\n",
    "plt.xlabel('False Positive Rate')\n",
    "plt.ylabel('True Positive Rate')\n",
    "plt.title('Receiver Operating Characteristic')\n",
    "plt.legend(loc = \"lower right\")\n",
    "plt.savefig('Log_ROC')\n",
    "plt.show()"
   ]
  },
  {
   "cell_type": "code",
   "execution_count": 87,
   "id": "ff56f1a8",
   "metadata": {},
   "outputs": [
    {
     "name": "stdout",
     "output_type": "stream",
     "text": [
      "[[1778  685]\n",
      " [ 364 2099]]\n",
      "Accuracy Score = 0.7870483150629314\n",
      "TNR = 0.7218838814453918\n",
      "TPR = 0.8522127486804709\n"
     ]
    }
   ],
   "source": [
    "from sklearn.metrics import confusion_matrix, accuracy_score\n",
    "cmA = confusion_matrix(yA_test, yA_pred)\n",
    "acA = accuracy_score(yA_test, yA_pred)\n",
    "print(cmA)\n",
    "print(\"Accuracy Score = {}\".format(acA))\n",
    "print(\"TNR = {}\".format(1778/(1778+685)))\n",
    "print(\"TPR = {}\".format(2099/(2099+364)))"
   ]
  },
  {
   "cell_type": "markdown",
   "id": "d378c241",
   "metadata": {},
   "source": [
    "# Using Logistic Regression on Adventure Games"
   ]
  },
  {
   "cell_type": "code",
   "execution_count": 88,
   "id": "4116709e",
   "metadata": {},
   "outputs": [],
   "source": [
    "adv_0 = ['Adventure']\n",
    "advNotExist = ~adv['Category'].isin(adv_0)\n",
    "advNotExist_rows = adv[advNotExist]\n",
    "adv = adv.drop(advNotExist_rows.index)"
   ]
  },
  {
   "cell_type": "code",
   "execution_count": 89,
   "id": "1a0aa976",
   "metadata": {},
   "outputs": [],
   "source": [
    "cat_vars=['Free', 'Size', 'Ad Supported', 'In App Purchases', 'Editors Choice', 'Time Gap']\n",
    "for var in cat_vars:\n",
    "    cat_list = 'var'+'_'+var\n",
    "    cat_list = pd.get_dummies(adv[var], prefix=var)\n",
    "    data1 = adv.join(cat_list)\n",
    "    adv = data1\n",
    "cat_vars=['Free', 'Size', 'Ad Supported', 'In App Purchases', 'Editors Choice', 'Time Gap']\n",
    "data_vars = adv.columns.values.tolist()\n",
    "to_keep = [i for i in data_vars if i not in cat_vars]"
   ]
  },
  {
   "cell_type": "code",
   "execution_count": 90,
   "id": "3a052661",
   "metadata": {},
   "outputs": [
    {
     "name": "stdout",
     "output_type": "stream",
     "text": [
      "False    14151\n",
      "True       843\n",
      "Name: Success, dtype: int64\n",
      "False    0.943778\n",
      "True     0.056222\n",
      "Name: Success, dtype: float64\n"
     ]
    }
   ],
   "source": [
    "print(adv['Success'].value_counts())\n",
    "print(adv.Success.value_counts() / len(adv))"
   ]
  },
  {
   "cell_type": "code",
   "execution_count": 91,
   "id": "2a5e3cbc",
   "metadata": {},
   "outputs": [],
   "source": [
    "# dependent variable\n",
    "yAdv = adv[['Success']]\n",
    "# independent variables\n",
    "xAdv = adv[['Free', 'Price', 'Ad Supported', 'In App Purchases', 'Editors Choice', 'Time Gap']]\n",
    "# not using size, as the numbers are too similar when compared with size\n",
    "osAdv = SMOTE(random_state = 0)\n",
    "xAdv_train, xAdv_test, yAdv_train, yAdv_test = sk.train_test_split(xAdv, yAdv, test_size = 0.2, random_state=0)\n",
    "columnsAdv = xAdv_train.columns\n",
    "\n",
    "smote_data_xAdv, smote_data_yAdv = osAdv.fit_resample(xAdv_train, yAdv_train)\n",
    "smote_data_xAdv = pd.DataFrame(data = smote_data_xAdv, columns = columnsAdv)\n",
    "smote_data_yAdv = pd.DataFrame(data = smote_data_yAdv, columns = ['Success'])"
   ]
  },
  {
   "cell_type": "code",
   "execution_count": 92,
   "id": "c8ee17f8",
   "metadata": {},
   "outputs": [
    {
     "data": {
      "text/html": [
       "<div>\n",
       "<style scoped>\n",
       "    .dataframe tbody tr th:only-of-type {\n",
       "        vertical-align: middle;\n",
       "    }\n",
       "\n",
       "    .dataframe tbody tr th {\n",
       "        vertical-align: top;\n",
       "    }\n",
       "\n",
       "    .dataframe thead th {\n",
       "        text-align: right;\n",
       "    }\n",
       "</style>\n",
       "<table border=\"1\" class=\"dataframe\">\n",
       "  <thead>\n",
       "    <tr style=\"text-align: right;\">\n",
       "      <th></th>\n",
       "      <th>Free</th>\n",
       "      <th>Price</th>\n",
       "      <th>Ad Supported</th>\n",
       "      <th>In App Purchases</th>\n",
       "      <th>Editors Choice</th>\n",
       "      <th>Time Gap</th>\n",
       "    </tr>\n",
       "  </thead>\n",
       "  <tbody>\n",
       "    <tr>\n",
       "      <th>0</th>\n",
       "      <td>True</td>\n",
       "      <td>0.0</td>\n",
       "      <td>True</td>\n",
       "      <td>False</td>\n",
       "      <td>False</td>\n",
       "      <td>7</td>\n",
       "    </tr>\n",
       "    <tr>\n",
       "      <th>1</th>\n",
       "      <td>True</td>\n",
       "      <td>0.0</td>\n",
       "      <td>False</td>\n",
       "      <td>False</td>\n",
       "      <td>False</td>\n",
       "      <td>715</td>\n",
       "    </tr>\n",
       "    <tr>\n",
       "      <th>2</th>\n",
       "      <td>True</td>\n",
       "      <td>0.0</td>\n",
       "      <td>True</td>\n",
       "      <td>False</td>\n",
       "      <td>False</td>\n",
       "      <td>32</td>\n",
       "    </tr>\n",
       "    <tr>\n",
       "      <th>3</th>\n",
       "      <td>True</td>\n",
       "      <td>0.0</td>\n",
       "      <td>True</td>\n",
       "      <td>True</td>\n",
       "      <td>False</td>\n",
       "      <td>1209</td>\n",
       "    </tr>\n",
       "    <tr>\n",
       "      <th>4</th>\n",
       "      <td>True</td>\n",
       "      <td>0.0</td>\n",
       "      <td>True</td>\n",
       "      <td>False</td>\n",
       "      <td>False</td>\n",
       "      <td>474</td>\n",
       "    </tr>\n",
       "    <tr>\n",
       "      <th>...</th>\n",
       "      <td>...</td>\n",
       "      <td>...</td>\n",
       "      <td>...</td>\n",
       "      <td>...</td>\n",
       "      <td>...</td>\n",
       "      <td>...</td>\n",
       "    </tr>\n",
       "    <tr>\n",
       "      <th>22629</th>\n",
       "      <td>True</td>\n",
       "      <td>0.0</td>\n",
       "      <td>True</td>\n",
       "      <td>True</td>\n",
       "      <td>False</td>\n",
       "      <td>324</td>\n",
       "    </tr>\n",
       "    <tr>\n",
       "      <th>22630</th>\n",
       "      <td>True</td>\n",
       "      <td>0.0</td>\n",
       "      <td>True</td>\n",
       "      <td>True</td>\n",
       "      <td>False</td>\n",
       "      <td>30</td>\n",
       "    </tr>\n",
       "    <tr>\n",
       "      <th>22631</th>\n",
       "      <td>True</td>\n",
       "      <td>0.0</td>\n",
       "      <td>True</td>\n",
       "      <td>False</td>\n",
       "      <td>False</td>\n",
       "      <td>9</td>\n",
       "    </tr>\n",
       "    <tr>\n",
       "      <th>22632</th>\n",
       "      <td>True</td>\n",
       "      <td>0.0</td>\n",
       "      <td>True</td>\n",
       "      <td>True</td>\n",
       "      <td>False</td>\n",
       "      <td>13</td>\n",
       "    </tr>\n",
       "    <tr>\n",
       "      <th>22633</th>\n",
       "      <td>True</td>\n",
       "      <td>0.0</td>\n",
       "      <td>True</td>\n",
       "      <td>True</td>\n",
       "      <td>False</td>\n",
       "      <td>527</td>\n",
       "    </tr>\n",
       "  </tbody>\n",
       "</table>\n",
       "<p>22634 rows × 6 columns</p>\n",
       "</div>"
      ],
      "text/plain": [
       "       Free  Price  Ad Supported  In App Purchases  Editors Choice  Time Gap\n",
       "0      True    0.0          True             False           False         7\n",
       "1      True    0.0         False             False           False       715\n",
       "2      True    0.0          True             False           False        32\n",
       "3      True    0.0          True              True           False      1209\n",
       "4      True    0.0          True             False           False       474\n",
       "...     ...    ...           ...               ...             ...       ...\n",
       "22629  True    0.0          True              True           False       324\n",
       "22630  True    0.0          True              True           False        30\n",
       "22631  True    0.0          True             False           False         9\n",
       "22632  True    0.0          True              True           False        13\n",
       "22633  True    0.0          True              True           False       527\n",
       "\n",
       "[22634 rows x 6 columns]"
      ]
     },
     "execution_count": 92,
     "metadata": {},
     "output_type": "execute_result"
    }
   ],
   "source": [
    "smote_data_xAdv"
   ]
  },
  {
   "cell_type": "code",
   "execution_count": 93,
   "id": "ba8e2c3a",
   "metadata": {},
   "outputs": [
    {
     "data": {
      "text/html": [
       "<div>\n",
       "<style scoped>\n",
       "    .dataframe tbody tr th:only-of-type {\n",
       "        vertical-align: middle;\n",
       "    }\n",
       "\n",
       "    .dataframe tbody tr th {\n",
       "        vertical-align: top;\n",
       "    }\n",
       "\n",
       "    .dataframe thead th {\n",
       "        text-align: right;\n",
       "    }\n",
       "</style>\n",
       "<table border=\"1\" class=\"dataframe\">\n",
       "  <thead>\n",
       "    <tr style=\"text-align: right;\">\n",
       "      <th></th>\n",
       "      <th>Success</th>\n",
       "    </tr>\n",
       "  </thead>\n",
       "  <tbody>\n",
       "    <tr>\n",
       "      <th>0</th>\n",
       "      <td>False</td>\n",
       "    </tr>\n",
       "    <tr>\n",
       "      <th>1</th>\n",
       "      <td>False</td>\n",
       "    </tr>\n",
       "    <tr>\n",
       "      <th>2</th>\n",
       "      <td>False</td>\n",
       "    </tr>\n",
       "    <tr>\n",
       "      <th>3</th>\n",
       "      <td>False</td>\n",
       "    </tr>\n",
       "    <tr>\n",
       "      <th>4</th>\n",
       "      <td>False</td>\n",
       "    </tr>\n",
       "    <tr>\n",
       "      <th>...</th>\n",
       "      <td>...</td>\n",
       "    </tr>\n",
       "    <tr>\n",
       "      <th>22629</th>\n",
       "      <td>True</td>\n",
       "    </tr>\n",
       "    <tr>\n",
       "      <th>22630</th>\n",
       "      <td>True</td>\n",
       "    </tr>\n",
       "    <tr>\n",
       "      <th>22631</th>\n",
       "      <td>True</td>\n",
       "    </tr>\n",
       "    <tr>\n",
       "      <th>22632</th>\n",
       "      <td>True</td>\n",
       "    </tr>\n",
       "    <tr>\n",
       "      <th>22633</th>\n",
       "      <td>True</td>\n",
       "    </tr>\n",
       "  </tbody>\n",
       "</table>\n",
       "<p>22634 rows × 1 columns</p>\n",
       "</div>"
      ],
      "text/plain": [
       "       Success\n",
       "0        False\n",
       "1        False\n",
       "2        False\n",
       "3        False\n",
       "4        False\n",
       "...        ...\n",
       "22629     True\n",
       "22630     True\n",
       "22631     True\n",
       "22632     True\n",
       "22633     True\n",
       "\n",
       "[22634 rows x 1 columns]"
      ]
     },
     "execution_count": 93,
     "metadata": {},
     "output_type": "execute_result"
    }
   ],
   "source": [
    "smote_data_yAdv"
   ]
  },
  {
   "cell_type": "code",
   "execution_count": 94,
   "id": "e175263f",
   "metadata": {},
   "outputs": [
    {
     "name": "stdout",
     "output_type": "stream",
     "text": [
      "% of each class in the original dataset -\n",
      "False    0.943778\n",
      "True     0.056222\n",
      "Name: Success, dtype: float64\n",
      "% of each class in SMOTE sampled dataset -\n",
      "False    0.754769\n",
      "True     0.754769\n",
      "Name: Success, dtype: float64\n"
     ]
    }
   ],
   "source": [
    "print( \"% of each class in the original dataset -\")\n",
    "print(adv.Success.value_counts() / len(adv))\n",
    "print ( \"% of each class in SMOTE sampled dataset -\")\n",
    "print (smote_data_yAdv.Success.value_counts() / len(adv))"
   ]
  },
  {
   "cell_type": "code",
   "execution_count": 95,
   "id": "0479c3b1",
   "metadata": {},
   "outputs": [
    {
     "name": "stderr",
     "output_type": "stream",
     "text": [
      "C:\\Users\\davyn\\anaconda3\\lib\\site-packages\\sklearn\\linear_model\\_logistic.py:814: ConvergenceWarning: lbfgs failed to converge (status=1):\n",
      "STOP: TOTAL NO. of ITERATIONS REACHED LIMIT.\n",
      "\n",
      "Increase the number of iterations (max_iter) or scale the data as shown in:\n",
      "    https://scikit-learn.org/stable/modules/preprocessing.html\n",
      "Please also refer to the documentation for alternative solver options:\n",
      "    https://scikit-learn.org/stable/modules/linear_model.html#logistic-regression\n",
      "  n_iter_i = _check_optimize_result(\n"
     ]
    },
    {
     "name": "stdout",
     "output_type": "stream",
     "text": [
      "Model Score = 0.9018369018369018\n"
     ]
    },
    {
     "data": {
      "image/png": "[encoded data removed]",
      "text/plain": [
       "<Figure size 432x288 with 1 Axes>"
      ]
     },
     "metadata": {},
     "output_type": "display_data"
    },
    {
     "data": {
      "text/html": [
       "<div>\n",
       "<style scoped>\n",
       "    .dataframe tbody tr th:only-of-type {\n",
       "        vertical-align: middle;\n",
       "    }\n",
       "\n",
       "    .dataframe tbody tr th {\n",
       "        vertical-align: top;\n",
       "    }\n",
       "\n",
       "    .dataframe thead th {\n",
       "        text-align: right;\n",
       "    }\n",
       "</style>\n",
       "<table border=\"1\" class=\"dataframe\">\n",
       "  <thead>\n",
       "    <tr style=\"text-align: right;\">\n",
       "      <th></th>\n",
       "      <th>feature</th>\n",
       "      <th>importance</th>\n",
       "    </tr>\n",
       "  </thead>\n",
       "  <tbody>\n",
       "    <tr>\n",
       "      <th>4</th>\n",
       "      <td>Editors Choice</td>\n",
       "      <td>23.134304</td>\n",
       "    </tr>\n",
       "    <tr>\n",
       "      <th>3</th>\n",
       "      <td>In App Purchases</td>\n",
       "      <td>3.706964</td>\n",
       "    </tr>\n",
       "    <tr>\n",
       "      <th>2</th>\n",
       "      <td>Ad Supported</td>\n",
       "      <td>2.654070</td>\n",
       "    </tr>\n",
       "    <tr>\n",
       "      <th>5</th>\n",
       "      <td>Time Gap</td>\n",
       "      <td>0.999440</td>\n",
       "    </tr>\n",
       "    <tr>\n",
       "      <th>0</th>\n",
       "      <td>Free</td>\n",
       "      <td>0.334375</td>\n",
       "    </tr>\n",
       "    <tr>\n",
       "      <th>1</th>\n",
       "      <td>Price</td>\n",
       "      <td>0.134804</td>\n",
       "    </tr>\n",
       "  </tbody>\n",
       "</table>\n",
       "</div>"
      ],
      "text/plain": [
       "            feature  importance\n",
       "4    Editors Choice   23.134304\n",
       "3  In App Purchases    3.706964\n",
       "2      Ad Supported    2.654070\n",
       "5          Time Gap    0.999440\n",
       "0              Free    0.334375\n",
       "1             Price    0.134804"
      ]
     },
     "execution_count": 95,
     "metadata": {},
     "output_type": "execute_result"
    }
   ],
   "source": [
    "# make a list of all independent features\n",
    "feature_namesAdv = smote_data_xAdv.columns.to_list()\n",
    "modelAdv = LogisticRegression(random_state=0).fit(adv[feature_names].values, adv[\"Success\"].values)\n",
    "# get the scores\n",
    "scoreAdv = modelAdv.score(action[feature_namesAdv].values, action['Success'].values)\n",
    "print(\"Model Score = {}\".format(scoreAdv))\n",
    "\n",
    "# important features\n",
    "feature_importanceAdv = pd.DataFrame(feature_namesAdv, columns = [\"feature\"])\n",
    "feature_importanceAdv[\"importance\"] = pow(math.e, w)\n",
    "feature_importanceAdv = feature_importanceAdv.sort_values(by = [\"importance\"], ascending = False)\n",
    "feature_importanceAdv = feature_importanceAdv[:10].sort_values(by = [\"importance\"], ascending = False)\n",
    "\n",
    "# Visualisation\n",
    "axAdv = feature_importanceAdv.sort_values(by = [\"importance\"], ascending=True).plot.barh(x = 'feature', y = 'importance')\n",
    "\n",
    "plt.title('Important Features')\n",
    "plt.show()\n",
    "\n",
    "# Important Features\n",
    "feature_importanceAdv"
   ]
  },
  {
   "cell_type": "code",
   "execution_count": 96,
   "id": "b074a01c",
   "metadata": {},
   "outputs": [],
   "source": [
    "# make a list of all features\n",
    "feature_importance_listAdv = feature_importanceAdv['feature'].to_list()\n",
    "\n",
    "# create the X with all important features only\n",
    "xAdv = smote_data_xAdv[feature_importance_listAdv]\n",
    "yAdv = smote_data_yAdv['Success']\n",
    "xAdv = pd.get_dummies(xAdv, columns=['Free', 'Ad Supported', 'In App Purchases', 'Editors Choice'], drop_first=True)"
   ]
  },
  {
   "cell_type": "code",
   "execution_count": 97,
   "id": "00a013e0",
   "metadata": {},
   "outputs": [
    {
     "name": "stdout",
     "output_type": "stream",
     "text": [
      "Optimization terminated successfully.\n",
      "         Current function value: 0.421461\n",
      "         Iterations 9\n",
      "                            Results: Logit\n",
      "======================================================================\n",
      "Model:                 Logit             Pseudo R-squared:  0.392     \n",
      "Dependent Variable:    Success           AIC:               15274.8035\n",
      "Date:                  2022-04-22 04:38  BIC:               15321.6278\n",
      "No. Observations:      18107             Log-Likelihood:    -7631.4   \n",
      "Df Model:              5                 LL-Null:           -12551.   \n",
      "Df Residuals:          18101             LLR p-value:       0.0000    \n",
      "Converged:             1.0000            Scale:             1.0000    \n",
      "No. Iterations:        9.0000                                         \n",
      "----------------------------------------------------------------------\n",
      "                       Coef.  Std.Err.    z     P>|z|   [0.025  0.975]\n",
      "----------------------------------------------------------------------\n",
      "Time Gap              -0.0005   0.0000 -14.9730 0.0000 -0.0006 -0.0005\n",
      "Price                 -0.6830   0.0485 -14.0928 0.0000 -0.7780 -0.5880\n",
      "Free_True             -3.3153   0.0906 -36.5840 0.0000 -3.4929 -3.1376\n",
      "Ad Supported_True      2.0519   0.0838  24.4914 0.0000  1.8877  2.2161\n",
      "In App Purchases_True  3.0185   0.0428  70.4478 0.0000  2.9345  3.1025\n",
      "Editors Choice_True    4.5664   0.6109   7.4744 0.0000  3.3689  5.7638\n",
      "======================================================================\n",
      "\n"
     ]
    }
   ],
   "source": [
    "#Split the dataset to test and train data\n",
    "xAdv_train, xAdv_test, yAdv_train, yAdv_test = sk.train_test_split(xAdv, yAdv, test_size=0.2, random_state=0)\n",
    "logit_modelAdv=sm.Logit(yAdv_train,xAdv_train)\n",
    "result = logit_modelAdv.fit()\n",
    "print(result.summary2())"
   ]
  },
  {
   "cell_type": "code",
   "execution_count": 98,
   "id": "a587fe60",
   "metadata": {},
   "outputs": [
    {
     "name": "stdout",
     "output_type": "stream",
     "text": [
      "Logistic Regression Model Accuracy: 0.84\n"
     ]
    },
    {
     "name": "stderr",
     "output_type": "stream",
     "text": [
      "C:\\Users\\davyn\\anaconda3\\lib\\site-packages\\sklearn\\linear_model\\_logistic.py:814: ConvergenceWarning: lbfgs failed to converge (status=1):\n",
      "STOP: TOTAL NO. of ITERATIONS REACHED LIMIT.\n",
      "\n",
      "Increase the number of iterations (max_iter) or scale the data as shown in:\n",
      "    https://scikit-learn.org/stable/modules/preprocessing.html\n",
      "Please also refer to the documentation for alternative solver options:\n",
      "    https://scikit-learn.org/stable/modules/linear_model.html#logistic-regression\n",
      "  n_iter_i = _check_optimize_result(\n"
     ]
    }
   ],
   "source": [
    "logreg = LogisticRegression()\n",
    "logreg.fit(xAdv_train, yAdv_train)\n",
    "yAdv_pred = logreg.predict(xAdv_test)\n",
    "print('Logistic Regression Model Accuracy: {:.2f}'.format(logreg.score(xAdv_test,yAdv_test)))"
   ]
  },
  {
   "cell_type": "code",
   "execution_count": 99,
   "id": "3d62b2c7",
   "metadata": {},
   "outputs": [
    {
     "data": {
      "image/png": "[encoded data removed]",
      "text/plain": [
       "<Figure size 432x288 with 1 Axes>"
      ]
     },
     "metadata": {},
     "output_type": "display_data"
    }
   ],
   "source": [
    "from sklearn.metrics import roc_auc_score\n",
    "from sklearn.metrics import roc_curve\n",
    "logit_roc_auc = roc_auc_score(yAdv_test, logreg.predict(xAdv_test))\n",
    "fpr, tpr, thresholds = roc_curve(yAdv_test, logreg.predict_proba(xAdv_test)[:,1])\n",
    "plt.figure()\n",
    "plt.plot(fpr, tpr, label='Logistric Regression (area = %0.2f)' % logit_roc_auc)\n",
    "plt.plot([0,1], [0,1], 'r--')\n",
    "plt.xlim([0.0, 1.0])\n",
    "plt.ylim([0.0, 1.05])\n",
    "plt.xlabel('False Positive Rate')\n",
    "plt.ylabel('True Positive Rate')\n",
    "plt.title('Receiver Operating Characteristic')\n",
    "plt.legend(loc = \"lower right\")\n",
    "plt.savefig('Log_ROC')\n",
    "plt.show()"
   ]
  },
  {
   "cell_type": "code",
   "execution_count": 100,
   "id": "c490a0e1",
   "metadata": {},
   "outputs": [
    {
     "name": "stdout",
     "output_type": "stream",
     "text": [
      "[[1882  404]\n",
      " [ 317 1924]]\n",
      "Accuracy Score = 0.8407333775127016\n",
      "TNR = 0.8232720909886264\n",
      "TPR = 0.858545292280232\n"
     ]
    }
   ],
   "source": [
    "from sklearn.metrics import confusion_matrix, accuracy_score\n",
    "cmAdv = confusion_matrix(yAdv_test, yAdv_pred)\n",
    "acAdv = accuracy_score(yAdv_test, yAdv_pred)\n",
    "print(cmAdv)\n",
    "print(\"Accuracy Score = {}\".format(acAdv))\n",
    "print(\"TNR = {}\".format(1882/(1882+404)))\n",
    "print(\"TPR = {}\".format(1924/(1924+317)))"
   ]
  },
  {
   "cell_type": "code",
   "execution_count": null,
   "id": "94a886c6",
   "metadata": {},
   "outputs": [],
   "source": []
  }
 ],
 "metadata": {
  "kernelspec": {
   "display_name": "Python 3 (ipykernel)",
   "language": "python",
   "name": "python3"
  },
  "language_info": {
   "codemirror_mode": {
    "name": "ipython",
    "version": 3
   },
   "file_extension": ".py",
   "mimetype": "text/x-python",
   "name": "python",
   "nbconvert_exporter": "python",
   "pygments_lexer": "ipython3",
   "version": "3.9.7"
  }
 },
 "nbformat": 4,
 "nbformat_minor": 5
}
